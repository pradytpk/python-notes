{
 "cells": [
  {
   "cell_type": "code",
   "execution_count": 1,
   "id": "f275bb4d",
   "metadata": {},
   "outputs": [],
   "source": [
    "# Global varaiable\n",
    "x=10\n",
    "y=12\n",
    "\n",
    "def sumf():\n",
    "    # local variable \n",
    "    z= 25\n",
    "    print(x)\n",
    "    print(y)    \n",
    "    print(z)    "
   ]
  },
  {
   "cell_type": "code",
   "execution_count": 2,
   "id": "83a764c1",
   "metadata": {},
   "outputs": [
    {
     "name": "stdout",
     "output_type": "stream",
     "text": [
      "10\n",
      "12\n",
      "25\n"
     ]
    }
   ],
   "source": [
    "sumf()"
   ]
  },
  {
   "cell_type": "code",
   "execution_count": 3,
   "id": "2db34a56",
   "metadata": {},
   "outputs": [
    {
     "ename": "NameError",
     "evalue": "name 'z' is not defined",
     "output_type": "error",
     "traceback": [
      "\u001b[1;31m---------------------------------------------------------------------------\u001b[0m",
      "\u001b[1;31mNameError\u001b[0m                                 Traceback (most recent call last)",
      "Cell \u001b[1;32mIn[3], line 11\u001b[0m\n\u001b[0;32m      8\u001b[0m     \u001b[38;5;28mprint\u001b[39m(x)\n\u001b[0;32m      9\u001b[0m     \u001b[38;5;28mprint\u001b[39m(y)    \n\u001b[1;32m---> 11\u001b[0m \u001b[38;5;28mprint\u001b[39m(z)\n",
      "\u001b[1;31mNameError\u001b[0m: name 'z' is not defined"
     ]
    }
   ],
   "source": [
    "# Global varaiable\n",
    "x=10\n",
    "y=12\n",
    "\n",
    "def sumf():\n",
    "    # local variable \n",
    "    z= 25\n",
    "    print(x)\n",
    "    print(y)    \n",
    "\n",
    "print(z)    "
   ]
  },
  {
   "cell_type": "code",
   "execution_count": 6,
   "id": "de3c6ba2",
   "metadata": {},
   "outputs": [
    {
     "name": "stdout",
     "output_type": "stream",
     "text": [
      "10\n",
      "12\n",
      "25\n",
      "25\n"
     ]
    }
   ],
   "source": [
    "# Global varaiable\n",
    "x=10\n",
    "y=12\n",
    "\n",
    "def sumf():\n",
    "    # global conversion variable \n",
    "    global z\n",
    "    z = 25\n",
    "    print(x)\n",
    "    print(y)    \n",
    "    print(z)    \n",
    "\n",
    "sumf()\n",
    "print(z)"
   ]
  },
  {
   "cell_type": "code",
   "execution_count": null,
   "id": "f2fd82fb",
   "metadata": {},
   "outputs": [],
   "source": []
  }
 ],
 "metadata": {
  "kernelspec": {
   "display_name": "Python 3 (ipykernel)",
   "language": "python",
   "name": "python3"
  },
  "language_info": {
   "codemirror_mode": {
    "name": "ipython",
    "version": 3
   },
   "file_extension": ".py",
   "mimetype": "text/x-python",
   "name": "python",
   "nbconvert_exporter": "python",
   "pygments_lexer": "ipython3",
   "version": "3.11.5"
  }
 },
 "nbformat": 4,
 "nbformat_minor": 5
}

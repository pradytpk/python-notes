{
 "cells": [
  {
   "cell_type": "markdown",
   "id": "c3571b10",
   "metadata": {},
   "source": [
    "##### a==b\n",
    "##### a !=b\n",
    "##### a < b\n",
    "##### a > b\n",
    "##### a <= b\n",
    "##### a >= b\n"
   ]
  },
  {
   "cell_type": "markdown",
   "id": "f8615e45",
   "metadata": {},
   "source": [
    "#### Python relies on identation to define the scope of the code"
   ]
  },
  {
   "cell_type": "code",
   "execution_count": 1,
   "id": "e970be9c",
   "metadata": {},
   "outputs": [],
   "source": [
    "a = 55\n",
    "b = 100\n",
    "if a > b:\n",
    "    print(\"a is greater than b\")"
   ]
  },
  {
   "cell_type": "code",
   "execution_count": 2,
   "id": "7a63431e",
   "metadata": {},
   "outputs": [
    {
     "name": "stdout",
     "output_type": "stream",
     "text": [
      "b is greater than a\n"
     ]
    }
   ],
   "source": [
    "a = 55\n",
    "b = 100\n",
    "if a > b:\n",
    "    print(\"a is greater than b\")\n",
    "else:\n",
    "    print(\"b is greater than a\")"
   ]
  },
  {
   "cell_type": "code",
   "execution_count": 5,
   "id": "a15c2a04",
   "metadata": {},
   "outputs": [
    {
     "name": "stdout",
     "output_type": "stream",
     "text": [
      "a is equal to a\n"
     ]
    }
   ],
   "source": [
    "a = 55\n",
    "b = 55\n",
    "if a > b:\n",
    "    print(\"a is greater than b\")\n",
    "elif a==b:\n",
    "    print(\"a is equal to a\")\n",
    "else:\n",
    "    print(\"b is greater than a\")"
   ]
  },
  {
   "cell_type": "code",
   "execution_count": null,
   "id": "61c56c9d",
   "metadata": {},
   "outputs": [],
   "source": []
  }
 ],
 "metadata": {
  "kernelspec": {
   "display_name": "Python 3 (ipykernel)",
   "language": "python",
   "name": "python3"
  },
  "language_info": {
   "codemirror_mode": {
    "name": "ipython",
    "version": 3
   },
   "file_extension": ".py",
   "mimetype": "text/x-python",
   "name": "python",
   "nbconvert_exporter": "python",
   "pygments_lexer": "ipython3",
   "version": "3.11.5"
  }
 },
 "nbformat": 4,
 "nbformat_minor": 5
}

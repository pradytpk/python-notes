{
 "cells": [
  {
   "cell_type": "markdown",
   "id": "27d57dab",
   "metadata": {},
   "source": [
    "## For"
   ]
  },
  {
   "cell_type": "code",
   "execution_count": 2,
   "id": "56a5d466",
   "metadata": {},
   "outputs": [
    {
     "name": "stdout",
     "output_type": "stream",
     "text": [
      "nokia\n",
      "realme\n"
     ]
    }
   ],
   "source": [
    "phone=['nokia','realme','pixel']\n",
    "for x in phone:\n",
    "    print(x)\n",
    "    if(x==\"realme\"):\n",
    "        break;"
   ]
  },
  {
   "cell_type": "code",
   "execution_count": 4,
   "id": "070fe08b",
   "metadata": {},
   "outputs": [
    {
     "name": "stdout",
     "output_type": "stream",
     "text": [
      "nokia\n",
      "realme\n",
      "pixel\n"
     ]
    }
   ],
   "source": [
    "phone=['nokia','realme','pixel']\n",
    "for x in phone:\n",
    "    print(x)"
   ]
  },
  {
   "cell_type": "code",
   "execution_count": 5,
   "id": "3fe987bb",
   "metadata": {},
   "outputs": [
    {
     "name": "stdout",
     "output_type": "stream",
     "text": [
      "0\n",
      "1\n",
      "2\n",
      "3\n",
      "4\n",
      "5\n"
     ]
    }
   ],
   "source": [
    "for x in range(6):\n",
    "    print(x)"
   ]
  },
  {
   "cell_type": "markdown",
   "id": "5166dbbf",
   "metadata": {},
   "source": [
    "## While"
   ]
  },
  {
   "cell_type": "code",
   "execution_count": 8,
   "id": "bf5fdaad",
   "metadata": {},
   "outputs": [
    {
     "name": "stdout",
     "output_type": "stream",
     "text": [
      "1\n",
      "2\n",
      "3\n",
      "4\n",
      "5\n"
     ]
    }
   ],
   "source": [
    "i = 1\n",
    "while i < 6:\n",
    "    print(i)\n",
    "    i+=1"
   ]
  },
  {
   "cell_type": "markdown",
   "id": "c2b43627",
   "metadata": {},
   "source": [
    "## Break & Continue"
   ]
  },
  {
   "cell_type": "code",
   "execution_count": 10,
   "id": "57942b93",
   "metadata": {},
   "outputs": [
    {
     "name": "stdout",
     "output_type": "stream",
     "text": [
      "1\n",
      "2\n",
      "3\n"
     ]
    }
   ],
   "source": [
    "i = 1\n",
    "while i < 6:\n",
    "    print(i)\n",
    "    if(i==3):\n",
    "        break\n",
    "    i+=1"
   ]
  },
  {
   "cell_type": "code",
   "execution_count": 14,
   "id": "50806756",
   "metadata": {},
   "outputs": [
    {
     "name": "stdout",
     "output_type": "stream",
     "text": [
      "1\n",
      "2\n",
      "4\n",
      "5\n",
      "6\n"
     ]
    }
   ],
   "source": [
    "i = 0\n",
    "while i < 6:\n",
    "    i+=1\n",
    "    if i==3:\n",
    "        continue\n",
    "    print(i)\n",
    "    "
   ]
  },
  {
   "cell_type": "markdown",
   "id": "b897e7fe",
   "metadata": {},
   "source": [
    "## iterator"
   ]
  },
  {
   "cell_type": "code",
   "execution_count": 21,
   "id": "7cae5202",
   "metadata": {},
   "outputs": [],
   "source": [
    "phone = (\"nokia\",\"pixel\",\"iphone\")"
   ]
  },
  {
   "cell_type": "code",
   "execution_count": 22,
   "id": "fe4ffa9c",
   "metadata": {},
   "outputs": [
    {
     "data": {
      "text/plain": [
       "tuple"
      ]
     },
     "execution_count": 22,
     "metadata": {},
     "output_type": "execute_result"
    }
   ],
   "source": [
    "type(phone)"
   ]
  },
  {
   "cell_type": "code",
   "execution_count": 23,
   "id": "7d872434",
   "metadata": {},
   "outputs": [],
   "source": [
    "it = iter(phone)"
   ]
  },
  {
   "cell_type": "code",
   "execution_count": 24,
   "id": "351f857d",
   "metadata": {},
   "outputs": [
    {
     "name": "stdout",
     "output_type": "stream",
     "text": [
      "nokia\n",
      "pixel\n",
      "iphone\n"
     ]
    }
   ],
   "source": [
    "print(next(it))\n",
    "print(next(it))\n",
    "print(next(it))"
   ]
  },
  {
   "cell_type": "code",
   "execution_count": null,
   "id": "0e9bc436",
   "metadata": {},
   "outputs": [],
   "source": []
  }
 ],
 "metadata": {
  "kernelspec": {
   "display_name": "Python 3 (ipykernel)",
   "language": "python",
   "name": "python3"
  },
  "language_info": {
   "codemirror_mode": {
    "name": "ipython",
    "version": 3
   },
   "file_extension": ".py",
   "mimetype": "text/x-python",
   "name": "python",
   "nbconvert_exporter": "python",
   "pygments_lexer": "ipython3",
   "version": "3.11.5"
  }
 },
 "nbformat": 4,
 "nbformat_minor": 5
}

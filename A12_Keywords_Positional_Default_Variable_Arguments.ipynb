{
 "cells": [
  {
   "cell_type": "code",
   "execution_count": 9,
   "id": "8d47fa08",
   "metadata": {},
   "outputs": [],
   "source": [
    "def plus (a,c,b=2):\n",
    "    return a+b-c"
   ]
  },
  {
   "cell_type": "code",
   "execution_count": 10,
   "id": "015397a6",
   "metadata": {},
   "outputs": [
    {
     "data": {
      "text/plain": [
       "-8"
      ]
     },
     "execution_count": 10,
     "metadata": {},
     "output_type": "execute_result"
    }
   ],
   "source": [
    "plus(10,20)"
   ]
  },
  {
   "cell_type": "code",
   "execution_count": 11,
   "id": "adaa79db",
   "metadata": {},
   "outputs": [
    {
     "data": {
      "text/plain": [
       "21"
      ]
     },
     "execution_count": 11,
     "metadata": {},
     "output_type": "execute_result"
    }
   ],
   "source": [
    "plus(c=10,a=20,b=11)"
   ]
  },
  {
   "cell_type": "markdown",
   "id": "778db7ad",
   "metadata": {},
   "source": [
    "### Variable Length Arguments"
   ]
  },
  {
   "cell_type": "code",
   "execution_count": 12,
   "id": "3d2b7800",
   "metadata": {},
   "outputs": [],
   "source": [
    "def total(*args):\n",
    "    total = 0\n",
    "    for i in args:\n",
    "        total +=i\n",
    "    return total"
   ]
  },
  {
   "cell_type": "code",
   "execution_count": null,
   "id": "0aaa5efa",
   "metadata": {},
   "outputs": [],
   "source": [
    "total"
   ]
  }
 ],
 "metadata": {
  "kernelspec": {
   "display_name": "Python 3 (ipykernel)",
   "language": "python",
   "name": "python3"
  },
  "language_info": {
   "codemirror_mode": {
    "name": "ipython",
    "version": 3
   },
   "file_extension": ".py",
   "mimetype": "text/x-python",
   "name": "python",
   "nbconvert_exporter": "python",
   "pygments_lexer": "ipython3",
   "version": "3.11.5"
  }
 },
 "nbformat": 4,
 "nbformat_minor": 5
}

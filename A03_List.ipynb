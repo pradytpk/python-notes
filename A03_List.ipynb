{
 "cells": [
  {
   "cell_type": "code",
   "execution_count": 3,
   "id": "e0390062",
   "metadata": {},
   "outputs": [],
   "source": [
    "# empty list\n",
    "my_list=[]"
   ]
  },
  {
   "cell_type": "code",
   "execution_count": 5,
   "id": "6c1f64cc",
   "metadata": {},
   "outputs": [
    {
     "data": {
      "text/plain": [
       "[1, 2, 3]"
      ]
     },
     "execution_count": 5,
     "metadata": {},
     "output_type": "execute_result"
    }
   ],
   "source": [
    "# list of integers\n",
    "my_list=[1,2,3]\n",
    "my_list"
   ]
  },
  {
   "cell_type": "code",
   "execution_count": 7,
   "id": "925dbb8b",
   "metadata": {},
   "outputs": [
    {
     "data": {
      "text/plain": [
       "[1, 'hello', 3.4]"
      ]
     },
     "execution_count": 7,
     "metadata": {},
     "output_type": "execute_result"
    }
   ],
   "source": [
    "# list with mixed integers\n",
    "my_list = [1,\"hello\",3.4]\n",
    "my_list"
   ]
  },
  {
   "cell_type": "code",
   "execution_count": 9,
   "id": "495e5292",
   "metadata": {},
   "outputs": [
    {
     "data": {
      "text/plain": [
       "1"
      ]
     },
     "execution_count": 9,
     "metadata": {},
     "output_type": "execute_result"
    }
   ],
   "source": [
    "my_list[0]"
   ]
  },
  {
   "cell_type": "code",
   "execution_count": 12,
   "id": "1203b1f6",
   "metadata": {},
   "outputs": [
    {
     "data": {
      "text/plain": [
       "'hello'"
      ]
     },
     "execution_count": 12,
     "metadata": {},
     "output_type": "execute_result"
    }
   ],
   "source": [
    "my_list[1]"
   ]
  },
  {
   "cell_type": "code",
   "execution_count": 13,
   "id": "c88e2433",
   "metadata": {},
   "outputs": [
    {
     "data": {
      "text/plain": [
       "'he'"
      ]
     },
     "execution_count": 13,
     "metadata": {},
     "output_type": "execute_result"
    }
   ],
   "source": [
    "my_list[1][:2]"
   ]
  },
  {
   "cell_type": "code",
   "execution_count": 15,
   "id": "9e6a0e72",
   "metadata": {},
   "outputs": [
    {
     "data": {
      "text/plain": [
       "'l'"
      ]
     },
     "execution_count": 15,
     "metadata": {},
     "output_type": "execute_result"
    }
   ],
   "source": [
    "my_list[1][2]"
   ]
  },
  {
   "cell_type": "code",
   "execution_count": 17,
   "id": "90e7a5c1",
   "metadata": {},
   "outputs": [
    {
     "data": {
      "text/plain": [
       "['mouse', [8, 4, 6], ['a']]"
      ]
     },
     "execution_count": 17,
     "metadata": {},
     "output_type": "execute_result"
    }
   ],
   "source": [
    "# nested list\n",
    "my_list = [\"mouse\",[8,4,6],['a']]\n",
    "my_list"
   ]
  },
  {
   "cell_type": "code",
   "execution_count": 19,
   "id": "b487f5c1",
   "metadata": {},
   "outputs": [
    {
     "data": {
      "text/plain": [
       "6"
      ]
     },
     "execution_count": 19,
     "metadata": {},
     "output_type": "execute_result"
    }
   ],
   "source": [
    "my_list[1][2]"
   ]
  },
  {
   "cell_type": "code",
   "execution_count": 21,
   "id": "9a2e33ab",
   "metadata": {},
   "outputs": [
    {
     "data": {
      "text/plain": [
       "'mou'"
      ]
     },
     "execution_count": 21,
     "metadata": {},
     "output_type": "execute_result"
    }
   ],
   "source": [
    "my_list[0][:3]"
   ]
  },
  {
   "cell_type": "code",
   "execution_count": 23,
   "id": "221684f2",
   "metadata": {},
   "outputs": [
    {
     "data": {
      "text/plain": [
       "'ou'"
      ]
     },
     "execution_count": 23,
     "metadata": {},
     "output_type": "execute_result"
    }
   ],
   "source": [
    "my_list[0][1:3]"
   ]
  },
  {
   "cell_type": "code",
   "execution_count": 25,
   "id": "a398c606",
   "metadata": {},
   "outputs": [],
   "source": [
    "# list has a mutable property\n",
    "my_list[1][2]=40"
   ]
  },
  {
   "cell_type": "code",
   "execution_count": 27,
   "id": "0a6ce626",
   "metadata": {},
   "outputs": [
    {
     "data": {
      "text/plain": [
       "['mouse', [8, 4, 40], ['a']]"
      ]
     },
     "execution_count": 27,
     "metadata": {},
     "output_type": "execute_result"
    }
   ],
   "source": [
    "my_list"
   ]
  },
  {
   "cell_type": "code",
   "execution_count": 28,
   "id": "990a054b",
   "metadata": {},
   "outputs": [],
   "source": [
    "my_list=['p','c','a','u','h','g','d','r']"
   ]
  },
  {
   "cell_type": "code",
   "execution_count": 29,
   "id": "7fef30c1",
   "metadata": {},
   "outputs": [
    {
     "data": {
      "text/plain": [
       "['p', 'c', 'a', 'u', 'h', 'g', 'd', 'r']"
      ]
     },
     "execution_count": 29,
     "metadata": {},
     "output_type": "execute_result"
    }
   ],
   "source": [
    "my_list"
   ]
  },
  {
   "cell_type": "code",
   "execution_count": 30,
   "id": "31914c2c",
   "metadata": {},
   "outputs": [
    {
     "data": {
      "text/plain": [
       "'p'"
      ]
     },
     "execution_count": 30,
     "metadata": {},
     "output_type": "execute_result"
    }
   ],
   "source": [
    "my_list[0]"
   ]
  },
  {
   "cell_type": "code",
   "execution_count": 31,
   "id": "227c7fbc",
   "metadata": {},
   "outputs": [
    {
     "data": {
      "text/plain": [
       "['a', 'u', 'h']"
      ]
     },
     "execution_count": 31,
     "metadata": {},
     "output_type": "execute_result"
    }
   ],
   "source": [
    "my_list[2:5]"
   ]
  },
  {
   "cell_type": "code",
   "execution_count": 47,
   "id": "87f02861",
   "metadata": {},
   "outputs": [],
   "source": [
    "odd = [2,4,6,8]"
   ]
  },
  {
   "cell_type": "code",
   "execution_count": 48,
   "id": "3fe59542",
   "metadata": {},
   "outputs": [
    {
     "data": {
      "text/plain": [
       "[1, 4, 6, 8]"
      ]
     },
     "execution_count": 48,
     "metadata": {},
     "output_type": "execute_result"
    }
   ],
   "source": [
    "odd[0]=1\n",
    "odd"
   ]
  },
  {
   "cell_type": "code",
   "execution_count": 49,
   "id": "732126be",
   "metadata": {},
   "outputs": [],
   "source": [
    "odd[1:4]=[3,5,7]"
   ]
  },
  {
   "cell_type": "code",
   "execution_count": 50,
   "id": "cd254c27",
   "metadata": {},
   "outputs": [
    {
     "data": {
      "text/plain": [
       "[1, 3, 5, 7]"
      ]
     },
     "execution_count": 50,
     "metadata": {},
     "output_type": "execute_result"
    }
   ],
   "source": [
    "odd"
   ]
  },
  {
   "cell_type": "code",
   "execution_count": 44,
   "id": "1776593e",
   "metadata": {},
   "outputs": [
    {
     "data": {
      "text/plain": [
       "[1, 3, 5, 7, 9]"
      ]
     },
     "execution_count": 44,
     "metadata": {},
     "output_type": "execute_result"
    }
   ],
   "source": [
    "odd.append(9)\n",
    "odd"
   ]
  },
  {
   "cell_type": "code",
   "execution_count": 53,
   "id": "1be09083",
   "metadata": {},
   "outputs": [],
   "source": [
    "odd.extend([11,13])"
   ]
  },
  {
   "cell_type": "code",
   "execution_count": 54,
   "id": "1b5d7412",
   "metadata": {},
   "outputs": [
    {
     "data": {
      "text/plain": [
       "[1, 3, 5, 7, 11, 13]"
      ]
     },
     "execution_count": 54,
     "metadata": {},
     "output_type": "execute_result"
    }
   ],
   "source": [
    "odd"
   ]
  },
  {
   "cell_type": "code",
   "execution_count": 56,
   "id": "c91d69ee",
   "metadata": {},
   "outputs": [],
   "source": [
    "# Deleting element in the list\n",
    "y_list = ['p', 'c', 'a', 'u', 'h', 'g', 'd', 'r']"
   ]
  },
  {
   "cell_type": "code",
   "execution_count": 57,
   "id": "a07fe0b7",
   "metadata": {},
   "outputs": [
    {
     "data": {
      "text/plain": [
       "['p', 'c', 'a', 'u', 'h', 'g', 'd', 'r']"
      ]
     },
     "execution_count": 57,
     "metadata": {},
     "output_type": "execute_result"
    }
   ],
   "source": [
    "y_list"
   ]
  },
  {
   "cell_type": "code",
   "execution_count": 58,
   "id": "bd173a90",
   "metadata": {},
   "outputs": [
    {
     "data": {
      "text/plain": [
       "['p', 'c', 'u', 'h', 'g', 'd', 'r']"
      ]
     },
     "execution_count": 58,
     "metadata": {},
     "output_type": "execute_result"
    }
   ],
   "source": [
    "del y_list[2]\n",
    "y_list"
   ]
  },
  {
   "cell_type": "code",
   "execution_count": 59,
   "id": "4a0d70f3",
   "metadata": {},
   "outputs": [],
   "source": [
    "del y_list[1:5]"
   ]
  },
  {
   "cell_type": "code",
   "execution_count": 60,
   "id": "449138d7",
   "metadata": {},
   "outputs": [
    {
     "data": {
      "text/plain": [
       "['p', 'd', 'r']"
      ]
     },
     "execution_count": 60,
     "metadata": {},
     "output_type": "execute_result"
    }
   ],
   "source": [
    "y_list"
   ]
  },
  {
   "cell_type": "code",
   "execution_count": 61,
   "id": "fb528fbd",
   "metadata": {},
   "outputs": [],
   "source": [
    "del y_list"
   ]
  },
  {
   "cell_type": "code",
   "execution_count": 62,
   "id": "f134139c",
   "metadata": {},
   "outputs": [
    {
     "ename": "NameError",
     "evalue": "name 'y_list' is not defined",
     "output_type": "error",
     "traceback": [
      "\u001b[1;31m---------------------------------------------------------------------------\u001b[0m",
      "\u001b[1;31mNameError\u001b[0m                                 Traceback (most recent call last)",
      "Cell \u001b[1;32mIn[62], line 1\u001b[0m\n\u001b[1;32m----> 1\u001b[0m y_list\n",
      "\u001b[1;31mNameError\u001b[0m: name 'y_list' is not defined"
     ]
    }
   ],
   "source": [
    "y_list"
   ]
  },
  {
   "cell_type": "code",
   "execution_count": 63,
   "id": "abba4cc9",
   "metadata": {},
   "outputs": [],
   "source": [
    "y_list = ['p', 'c', 'a', 'u', 'h', 'g', 'd', 'r']"
   ]
  },
  {
   "cell_type": "code",
   "execution_count": 64,
   "id": "3a8cde02",
   "metadata": {},
   "outputs": [
    {
     "data": {
      "text/plain": [
       "['c', 'a', 'u', 'h', 'g', 'd', 'r']"
      ]
     },
     "execution_count": 64,
     "metadata": {},
     "output_type": "execute_result"
    }
   ],
   "source": [
    "y_list.remove('p')\n",
    "y_list"
   ]
  },
  {
   "cell_type": "code",
   "execution_count": 83,
   "id": "86103b02",
   "metadata": {},
   "outputs": [
    {
     "data": {
      "text/plain": [
       "['p', 'c', 'a', 'u', 'h', 'g', 'd', 'r']"
      ]
     },
     "execution_count": 83,
     "metadata": {},
     "output_type": "execute_result"
    }
   ],
   "source": [
    "y_list = ['p', 'c', 'a', 'u', 'h', 'g', 'd', 'r']\n",
    "y_list"
   ]
  },
  {
   "cell_type": "markdown",
   "id": "4cd282f0",
   "metadata": {},
   "source": [
    "#### List follows LIFO"
   ]
  },
  {
   "cell_type": "code",
   "execution_count": 73,
   "id": "959f9c91",
   "metadata": {},
   "outputs": [
    {
     "data": {
      "text/plain": [
       "'r'"
      ]
     },
     "execution_count": 73,
     "metadata": {},
     "output_type": "execute_result"
    }
   ],
   "source": [
    "y_list.pop()"
   ]
  },
  {
   "cell_type": "code",
   "execution_count": 74,
   "id": "17ce9c2e",
   "metadata": {},
   "outputs": [
    {
     "data": {
      "text/plain": [
       "['p', 'c', 'a', 'u', 'h', 'g', 'd']"
      ]
     },
     "execution_count": 74,
     "metadata": {},
     "output_type": "execute_result"
    }
   ],
   "source": [
    "y_list"
   ]
  },
  {
   "cell_type": "code",
   "execution_count": 75,
   "id": "c679352f",
   "metadata": {},
   "outputs": [
    {
     "data": {
      "text/plain": [
       "'d'"
      ]
     },
     "execution_count": 75,
     "metadata": {},
     "output_type": "execute_result"
    }
   ],
   "source": [
    "y_list.pop()"
   ]
  },
  {
   "cell_type": "code",
   "execution_count": 76,
   "id": "568a4003",
   "metadata": {},
   "outputs": [
    {
     "data": {
      "text/plain": [
       "'g'"
      ]
     },
     "execution_count": 76,
     "metadata": {},
     "output_type": "execute_result"
    }
   ],
   "source": [
    "y_list.pop()"
   ]
  },
  {
   "cell_type": "code",
   "execution_count": 77,
   "id": "acdb026f",
   "metadata": {},
   "outputs": [
    {
     "data": {
      "text/plain": [
       "'h'"
      ]
     },
     "execution_count": 77,
     "metadata": {},
     "output_type": "execute_result"
    }
   ],
   "source": [
    "y_list.pop()"
   ]
  },
  {
   "cell_type": "code",
   "execution_count": 78,
   "id": "82b1179b",
   "metadata": {},
   "outputs": [
    {
     "data": {
      "text/plain": [
       "['p', 'c', 'a']"
      ]
     },
     "execution_count": 78,
     "metadata": {},
     "output_type": "execute_result"
    }
   ],
   "source": [
    "y_list.pop()\n",
    "y_list"
   ]
  },
  {
   "cell_type": "code",
   "execution_count": 79,
   "id": "15a5bc62",
   "metadata": {},
   "outputs": [
    {
     "data": {
      "text/plain": [
       "['p', 'c']"
      ]
     },
     "execution_count": 79,
     "metadata": {},
     "output_type": "execute_result"
    }
   ],
   "source": [
    "y_list.pop()\n",
    "y_list\n"
   ]
  },
  {
   "cell_type": "code",
   "execution_count": 80,
   "id": "70356d93",
   "metadata": {},
   "outputs": [
    {
     "data": {
      "text/plain": [
       "['p']"
      ]
     },
     "execution_count": 80,
     "metadata": {},
     "output_type": "execute_result"
    }
   ],
   "source": [
    "y_list.pop()\n",
    "y_list\n"
   ]
  },
  {
   "cell_type": "code",
   "execution_count": 81,
   "id": "43edf9d6",
   "metadata": {},
   "outputs": [
    {
     "data": {
      "text/plain": [
       "[]"
      ]
     },
     "execution_count": 81,
     "metadata": {},
     "output_type": "execute_result"
    }
   ],
   "source": [
    "y_list.pop()\n",
    "y_list\n"
   ]
  },
  {
   "cell_type": "code",
   "execution_count": 84,
   "id": "84e307a3",
   "metadata": {},
   "outputs": [
    {
     "data": {
      "text/plain": [
       "[]"
      ]
     },
     "execution_count": 84,
     "metadata": {},
     "output_type": "execute_result"
    }
   ],
   "source": [
    "y_list = ['p', 'c', 'a', 'u', 'h', 'g', 'd', 'r']\n",
    "y_list.clear()\n",
    "y_list"
   ]
  },
  {
   "cell_type": "code",
   "execution_count": 86,
   "id": "16304bfc",
   "metadata": {},
   "outputs": [
    {
     "data": {
      "text/plain": [
       "['r', 'd', 'g', 'h', 'u', 'a', 'c', 'p']"
      ]
     },
     "execution_count": 86,
     "metadata": {},
     "output_type": "execute_result"
    }
   ],
   "source": [
    "y_list = ['p', 'c', 'a', 'u', 'h', 'g', 'd', 'r']\n",
    "y_list.reverse()\n",
    "y_list"
   ]
  },
  {
   "cell_type": "code",
   "execution_count": 87,
   "id": "913f1071",
   "metadata": {},
   "outputs": [
    {
     "data": {
      "text/plain": [
       "5"
      ]
     },
     "execution_count": 87,
     "metadata": {},
     "output_type": "execute_result"
    }
   ],
   "source": [
    "y_list = [1,3,2,6,7,8,9,8,2]\n",
    "y_list.index(8)"
   ]
  },
  {
   "cell_type": "code",
   "execution_count": 89,
   "id": "526db79b",
   "metadata": {},
   "outputs": [
    {
     "data": {
      "text/plain": [
       "2"
      ]
     },
     "execution_count": 89,
     "metadata": {},
     "output_type": "execute_result"
    }
   ],
   "source": [
    "y_list.count(8)"
   ]
  },
  {
   "cell_type": "code",
   "execution_count": 91,
   "id": "d29b0000",
   "metadata": {},
   "outputs": [
    {
     "name": "stdout",
     "output_type": "stream",
     "text": [
      "yes\n"
     ]
    }
   ],
   "source": [
    "my_list=[\"Iphone\",\"samsung\",\"nokia\"]\n",
    "if \"Iphone\" in my_list:\n",
    "    print(\"yes\")"
   ]
  },
  {
   "cell_type": "code",
   "execution_count": 94,
   "id": "13486280",
   "metadata": {},
   "outputs": [
    {
     "data": {
      "text/plain": [
       "['Iphone', 'samsung', 'pixel', 'nokia']"
      ]
     },
     "execution_count": 94,
     "metadata": {},
     "output_type": "execute_result"
    }
   ],
   "source": [
    "my_list=[\"Iphone\",\"samsung\",\"nokia\"]\n",
    "my_list.insert(2,\"pixel\")\n",
    "my_list"
   ]
  },
  {
   "cell_type": "code",
   "execution_count": 95,
   "id": "3ffb6b45",
   "metadata": {},
   "outputs": [
    {
     "name": "stdout",
     "output_type": "stream",
     "text": [
      "Iphone\n",
      "samsung\n",
      "pixel\n",
      "nokia\n"
     ]
    }
   ],
   "source": [
    "my_list = ['Iphone', 'samsung', 'pixel', 'nokia']\n",
    "for x in my_list:\n",
    "    print(x)"
   ]
  },
  {
   "cell_type": "code",
   "execution_count": 97,
   "id": "3f914954",
   "metadata": {},
   "outputs": [
    {
     "name": "stdout",
     "output_type": "stream",
     "text": [
      "samsung\n",
      "pixel\n",
      "nokia\n"
     ]
    }
   ],
   "source": [
    "my_list = ['Iphone', 'samsung', 'pixel', 'nokia']\n",
    "i = 1\n",
    "while i<len(my_list):\n",
    "    print(my_list[i])\n",
    "    i=i+1"
   ]
  },
  {
   "cell_type": "code",
   "execution_count": 98,
   "id": "4649b560",
   "metadata": {},
   "outputs": [
    {
     "name": "stdout",
     "output_type": "stream",
     "text": [
      "['apple', 'banana']\n"
     ]
    }
   ],
   "source": [
    "fruits = ['apple', 'banana', 'cherry', 'kiwi']\n",
    "newlist=[]\n",
    "for x in fruits:\n",
    "    if \"a\" in x:\n",
    "        newlist.append(x)\n",
    "print(newlist)"
   ]
  }
 ],
 "metadata": {
  "kernelspec": {
   "display_name": "Python 3 (ipykernel)",
   "language": "python",
   "name": "python3"
  },
  "language_info": {
   "codemirror_mode": {
    "name": "ipython",
    "version": 3
   },
   "file_extension": ".py",
   "mimetype": "text/x-python",
   "name": "python",
   "nbconvert_exporter": "python",
   "pygments_lexer": "ipython3",
   "version": "3.11.5"
  }
 },
 "nbformat": 4,
 "nbformat_minor": 5
}

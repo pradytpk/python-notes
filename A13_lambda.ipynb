{
 "cells": [
  {
   "cell_type": "code",
   "execution_count": 1,
   "id": "aa3e40b9",
   "metadata": {},
   "outputs": [],
   "source": [
    "sum = lambda x,y:x+y;"
   ]
  },
  {
   "cell_type": "code",
   "execution_count": 2,
   "id": "8153b9db",
   "metadata": {},
   "outputs": [
    {
     "data": {
      "text/plain": [
       "9"
      ]
     },
     "execution_count": 2,
     "metadata": {},
     "output_type": "execute_result"
    }
   ],
   "source": [
    "sum(4,5)"
   ]
  },
  {
   "cell_type": "code",
   "execution_count": 4,
   "id": "c1f506ee",
   "metadata": {},
   "outputs": [
    {
     "data": {
      "text/plain": [
       "16500.0"
      ]
     },
     "execution_count": 4,
     "metadata": {},
     "output_type": "execute_result"
    }
   ],
   "source": [
    "# function inside a function\n",
    "def loan(amount):\n",
    "    if amount <= 20000:\n",
    "        return lambda new :new *amount\n",
    "    else :\n",
    "        print(\"not eligible\")\n",
    "myloan = loan(15000)\n",
    "myloan(1.1)"
   ]
  },
  {
   "cell_type": "code",
   "execution_count": null,
   "id": "ca7770da",
   "metadata": {},
   "outputs": [],
   "source": []
  }
 ],
 "metadata": {
  "kernelspec": {
   "display_name": "Python 3 (ipykernel)",
   "language": "python",
   "name": "python3"
  },
  "language_info": {
   "codemirror_mode": {
    "name": "ipython",
    "version": 3
   },
   "file_extension": ".py",
   "mimetype": "text/x-python",
   "name": "python",
   "nbconvert_exporter": "python",
   "pygments_lexer": "ipython3",
   "version": "3.11.5"
  }
 },
 "nbformat": 4,
 "nbformat_minor": 5
}

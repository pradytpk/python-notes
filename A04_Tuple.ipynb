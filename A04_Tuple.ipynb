{
 "cells": [
  {
   "cell_type": "markdown",
   "id": "fd4c36f3",
   "metadata": {},
   "source": [
    "1D data structure\n"
   ]
  },
  {
   "cell_type": "code",
   "execution_count": 2,
   "id": "b3676812",
   "metadata": {},
   "outputs": [
    {
     "data": {
      "text/plain": [
       "tuple"
      ]
     },
     "execution_count": 2,
     "metadata": {},
     "output_type": "execute_result"
    }
   ],
   "source": [
    "# empty tuple\n",
    "tup =()\n",
    "type(tup)"
   ]
  },
  {
   "cell_type": "code",
   "execution_count": 4,
   "id": "6764aae6",
   "metadata": {},
   "outputs": [],
   "source": [
    "# Creating tuple\n",
    "tup1=tuple()"
   ]
  },
  {
   "cell_type": "code",
   "execution_count": 6,
   "id": "82a31733",
   "metadata": {},
   "outputs": [
    {
     "data": {
      "text/plain": [
       "tuple"
      ]
     },
     "execution_count": 6,
     "metadata": {},
     "output_type": "execute_result"
    }
   ],
   "source": [
    "type(tup1)"
   ]
  },
  {
   "cell_type": "code",
   "execution_count": 7,
   "id": "c10aacb9",
   "metadata": {},
   "outputs": [],
   "source": [
    "tup= 1,2,3,4"
   ]
  },
  {
   "cell_type": "code",
   "execution_count": 8,
   "id": "48b89a42",
   "metadata": {},
   "outputs": [
    {
     "data": {
      "text/plain": [
       "tuple"
      ]
     },
     "execution_count": 8,
     "metadata": {},
     "output_type": "execute_result"
    }
   ],
   "source": [
    "type(tup)"
   ]
  },
  {
   "cell_type": "code",
   "execution_count": 10,
   "id": "e4075654",
   "metadata": {},
   "outputs": [
    {
     "data": {
      "text/plain": [
       "(99,)"
      ]
     },
     "execution_count": 10,
     "metadata": {},
     "output_type": "execute_result"
    }
   ],
   "source": [
    "tup=(99,)\n",
    "tup"
   ]
  },
  {
   "cell_type": "code",
   "execution_count": 12,
   "id": "e863295f",
   "metadata": {},
   "outputs": [
    {
     "data": {
      "text/plain": [
       "('test', 'test1')"
      ]
     },
     "execution_count": 12,
     "metadata": {},
     "output_type": "execute_result"
    }
   ],
   "source": [
    "tup3=(\"test\",\"test1\")\n",
    "tup3"
   ]
  },
  {
   "cell_type": "code",
   "execution_count": 13,
   "id": "6f873eb1",
   "metadata": {},
   "outputs": [
    {
     "data": {
      "text/plain": [
       "('Test', [1, 2, 3])"
      ]
     },
     "execution_count": 13,
     "metadata": {},
     "output_type": "execute_result"
    }
   ],
   "source": [
    "# tuple of string and list\n",
    "tup = (\"Test\",[1,2,3])\n",
    "tup"
   ]
  },
  {
   "cell_type": "code",
   "execution_count": 14,
   "id": "6383208c",
   "metadata": {},
   "outputs": [
    {
     "data": {
      "text/plain": [
       "[1, 2, 3]"
      ]
     },
     "execution_count": 14,
     "metadata": {},
     "output_type": "execute_result"
    }
   ],
   "source": [
    "tup[1]"
   ]
  },
  {
   "cell_type": "code",
   "execution_count": 15,
   "id": "91bf0833",
   "metadata": {},
   "outputs": [
    {
     "data": {
      "text/plain": [
       "3"
      ]
     },
     "execution_count": 15,
     "metadata": {},
     "output_type": "execute_result"
    }
   ],
   "source": [
    "tup[1][2]"
   ]
  },
  {
   "cell_type": "code",
   "execution_count": 17,
   "id": "6f3ccaac",
   "metadata": {},
   "outputs": [
    {
     "data": {
      "text/plain": [
       "('Test', [1, 2, 300])"
      ]
     },
     "execution_count": 17,
     "metadata": {},
     "output_type": "execute_result"
    }
   ],
   "source": [
    "tup[1][2]=300\n",
    "tup[1][2]\n",
    "tup"
   ]
  },
  {
   "cell_type": "code",
   "execution_count": 19,
   "id": "f89080a9",
   "metadata": {},
   "outputs": [
    {
     "ename": "TypeError",
     "evalue": "'tuple' object does not support item assignment",
     "output_type": "error",
     "traceback": [
      "\u001b[1;31m---------------------------------------------------------------------------\u001b[0m",
      "\u001b[1;31mTypeError\u001b[0m                                 Traceback (most recent call last)",
      "Cell \u001b[1;32mIn[19], line 2\u001b[0m\n\u001b[0;32m      1\u001b[0m \u001b[38;5;66;03m# immutable in nature\u001b[39;00m\n\u001b[1;32m----> 2\u001b[0m tup[\u001b[38;5;241m0\u001b[39m]\u001b[38;5;241m=\u001b[39m\u001b[38;5;124m'\u001b[39m\u001b[38;5;124mbepec\u001b[39m\u001b[38;5;124m'\u001b[39m\n",
      "\u001b[1;31mTypeError\u001b[0m: 'tuple' object does not support item assignment"
     ]
    }
   ],
   "source": [
    "# immutable in nature\n",
    "tup[0]='bepec'"
   ]
  },
  {
   "cell_type": "code",
   "execution_count": 27,
   "id": "165392b6",
   "metadata": {},
   "outputs": [],
   "source": [
    "tup = ((5,6,7,8),(1,2,\"test\"))"
   ]
  },
  {
   "cell_type": "code",
   "execution_count": 28,
   "id": "ec0833b4",
   "metadata": {},
   "outputs": [
    {
     "data": {
      "text/plain": [
       "'s'"
      ]
     },
     "execution_count": 28,
     "metadata": {},
     "output_type": "execute_result"
    }
   ],
   "source": [
    "tup[1][2][2]"
   ]
  },
  {
   "cell_type": "code",
   "execution_count": 29,
   "id": "38845d29",
   "metadata": {},
   "outputs": [
    {
     "data": {
      "text/plain": [
       "'test'"
      ]
     },
     "execution_count": 29,
     "metadata": {},
     "output_type": "execute_result"
    }
   ],
   "source": [
    "tup[1][2]"
   ]
  },
  {
   "cell_type": "code",
   "execution_count": null,
   "id": "cd34a13f",
   "metadata": {},
   "outputs": [],
   "source": []
  }
 ],
 "metadata": {
  "kernelspec": {
   "display_name": "Python 3 (ipykernel)",
   "language": "python",
   "name": "python3"
  },
  "language_info": {
   "codemirror_mode": {
    "name": "ipython",
    "version": 3
   },
   "file_extension": ".py",
   "mimetype": "text/x-python",
   "name": "python",
   "nbconvert_exporter": "python",
   "pygments_lexer": "ipython3",
   "version": "3.11.5"
  }
 },
 "nbformat": 4,
 "nbformat_minor": 5
}

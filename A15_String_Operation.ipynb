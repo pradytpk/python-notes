{
 "cells": [
  {
   "cell_type": "code",
   "execution_count": 1,
   "id": "784f282f",
   "metadata": {},
   "outputs": [
    {
     "name": "stdout",
     "output_type": "stream",
     "text": [
      "1 5.3333\n"
     ]
    }
   ],
   "source": [
    "print(1,5.3333)"
   ]
  },
  {
   "cell_type": "code",
   "execution_count": 4,
   "id": "89ce1eb9",
   "metadata": {},
   "outputs": [
    {
     "name": "stdout",
     "output_type": "stream",
     "text": [
      "Int: 1, float: 5.33\n"
     ]
    }
   ],
   "source": [
    "print(\"Int: %d, float: %.2f\" %(1,5.333))"
   ]
  },
  {
   "cell_type": "code",
   "execution_count": 5,
   "id": "0828862c",
   "metadata": {},
   "outputs": [
    {
     "name": "stdout",
     "output_type": "stream",
     "text": [
      "Int: 1, float: 5.3333\n"
     ]
    }
   ],
   "source": [
    "print(\"Int: %d, float: %.4f\" %(1,5.3333333))"
   ]
  },
  {
   "cell_type": "code",
   "execution_count": 6,
   "id": "c47e9fea",
   "metadata": {},
   "outputs": [
    {
     "name": "stdout",
     "output_type": "stream",
     "text": [
      "Int: 1, float:     5.3333\n"
     ]
    }
   ],
   "source": [
    "print(\"Int: %d, float: %10.4f\" %(1,5.3333333))"
   ]
  },
  {
   "cell_type": "code",
   "execution_count": 7,
   "id": "66d88146",
   "metadata": {},
   "outputs": [],
   "source": [
    "str2='hello'\n",
    "str1='world'"
   ]
  },
  {
   "cell_type": "code",
   "execution_count": 8,
   "id": "e11d7697",
   "metadata": {},
   "outputs": [
    {
     "name": "stdout",
     "output_type": "stream",
     "text": [
      "test1,test2 and test3\n"
     ]
    }
   ],
   "source": [
    "print(\"{},{} and {}\".format('test1','test2','test3'))"
   ]
  },
  {
   "cell_type": "code",
   "execution_count": 12,
   "id": "bc8c2948",
   "metadata": {},
   "outputs": [
    {
     "name": "stdout",
     "output_type": "stream",
     "text": [
      "10.76,220.5666\n",
      "10.76,220.57\n",
      "10.76,    220.57\n"
     ]
    }
   ],
   "source": [
    "a=10.76\n",
    "b=220.5666\n",
    "print(\"{},{}\".format(a,b))\n",
    "print(\"{:.2f},{:.2f}\".format(a,b))\n",
    "print(\"{:.2f},{:10.2f}\".format(a,b))"
   ]
  },
  {
   "cell_type": "code",
   "execution_count": 13,
   "id": "f2a2ab02",
   "metadata": {},
   "outputs": [
    {
     "name": "stdout",
     "output_type": "stream",
     "text": [
      "test\n"
     ]
    }
   ],
   "source": [
    "name=\"test\"\n",
    "print(\"%s\"%name)"
   ]
  },
  {
   "cell_type": "code",
   "execution_count": 14,
   "id": "d24957d7",
   "metadata": {},
   "outputs": [
    {
     "name": "stdout",
     "output_type": "stream",
     "text": [
      "test\n"
     ]
    }
   ],
   "source": [
    "name=\"test\"\n",
    "print(\"{}\".format(name))"
   ]
  },
  {
   "cell_type": "code",
   "execution_count": 19,
   "id": "45aa91df",
   "metadata": {},
   "outputs": [
    {
     "data": {
      "text/plain": [
       "'Test is test welcoome,!'"
      ]
     },
     "execution_count": 19,
     "metadata": {},
     "output_type": "execute_result"
    }
   ],
   "source": [
    "name=\"test is test welcoome,!\"\n",
    "name.capitalize()"
   ]
  },
  {
   "cell_type": "code",
   "execution_count": 21,
   "id": "e6e1f799",
   "metadata": {
    "scrolled": true
   },
   "outputs": [
    {
     "data": {
      "text/plain": [
       "False"
      ]
     },
     "execution_count": 21,
     "metadata": {},
     "output_type": "execute_result"
    }
   ],
   "source": [
    "name=\"test is test welcoome,!\"\n",
    "name.isnumeric()"
   ]
  },
  {
   "cell_type": "code",
   "execution_count": 22,
   "id": "1f3b1ad7",
   "metadata": {},
   "outputs": [
    {
     "data": {
      "text/plain": [
       "False"
      ]
     },
     "execution_count": 22,
     "metadata": {},
     "output_type": "execute_result"
    }
   ],
   "source": [
    "name.isalnum()"
   ]
  },
  {
   "cell_type": "code",
   "execution_count": 23,
   "id": "f23482df",
   "metadata": {},
   "outputs": [
    {
     "data": {
      "text/plain": [
       "'TEST IS TEST WELCOOME,!'"
      ]
     },
     "execution_count": 23,
     "metadata": {},
     "output_type": "execute_result"
    }
   ],
   "source": [
    "name.upper()"
   ]
  },
  {
   "cell_type": "code",
   "execution_count": 24,
   "id": "5827565a",
   "metadata": {},
   "outputs": [
    {
     "data": {
      "text/plain": [
       "'test is test welcoome,!'"
      ]
     },
     "execution_count": 24,
     "metadata": {},
     "output_type": "execute_result"
    }
   ],
   "source": [
    "name.lower()"
   ]
  },
  {
   "cell_type": "code",
   "execution_count": 25,
   "id": "138fce5b",
   "metadata": {},
   "outputs": [
    {
     "data": {
      "text/plain": [
       "'test is test welcoome,!'"
      ]
     },
     "execution_count": 25,
     "metadata": {},
     "output_type": "execute_result"
    }
   ],
   "source": [
    "name.lstrip()"
   ]
  },
  {
   "cell_type": "code",
   "execution_count": 31,
   "id": "9753f55c",
   "metadata": {},
   "outputs": [
    {
     "data": {
      "text/plain": [
       "'   test is test welcoome,!'"
      ]
     },
     "execution_count": 31,
     "metadata": {},
     "output_type": "execute_result"
    }
   ],
   "source": [
    "name=\"   test is test welcoome,!    \"\n",
    "name.rstrip()"
   ]
  },
  {
   "cell_type": "code",
   "execution_count": 30,
   "id": "2c6c4b29",
   "metadata": {},
   "outputs": [
    {
     "data": {
      "text/plain": [
       "'test is test welcoome,!'"
      ]
     },
     "execution_count": 30,
     "metadata": {},
     "output_type": "execute_result"
    }
   ],
   "source": [
    "name=\"   test is test welcoome,!    \"\n",
    "name.strip()"
   ]
  },
  {
   "cell_type": "code",
   "execution_count": 32,
   "id": "e54fbb9e",
   "metadata": {},
   "outputs": [
    {
     "data": {
      "text/plain": [
       "['test', 'is', 'test', 'welcoome,!']"
      ]
     },
     "execution_count": 32,
     "metadata": {},
     "output_type": "execute_result"
    }
   ],
   "source": [
    "name=\"   test is test welcoome,!    \"\n",
    "name.split()"
   ]
  },
  {
   "cell_type": "code",
   "execution_count": 33,
   "id": "45dcda83",
   "metadata": {},
   "outputs": [
    {
     "name": "stdout",
     "output_type": "stream",
     "text": [
      "Enter your age 26\n"
     ]
    }
   ],
   "source": [
    "age = int(input(\"Enter your age \"))"
   ]
  },
  {
   "cell_type": "code",
   "execution_count": 34,
   "id": "3bf8593c",
   "metadata": {},
   "outputs": [
    {
     "name": "stdout",
     "output_type": "stream",
     "text": [
      "Enter your name pradeep\n"
     ]
    },
    {
     "data": {
      "text/plain": [
       "'pradeep'"
      ]
     },
     "execution_count": 34,
     "metadata": {},
     "output_type": "execute_result"
    }
   ],
   "source": [
    "name1  = str(input(\"Enter your name \"))\n",
    "name1"
   ]
  },
  {
   "cell_type": "code",
   "execution_count": 35,
   "id": "2c4f5784",
   "metadata": {},
   "outputs": [],
   "source": [
    "a=\"pradeep\""
   ]
  },
  {
   "cell_type": "code",
   "execution_count": 36,
   "id": "2bfc9676",
   "metadata": {},
   "outputs": [
    {
     "data": {
      "text/plain": [
       "4"
      ]
     },
     "execution_count": 36,
     "metadata": {},
     "output_type": "execute_result"
    }
   ],
   "source": [
    "a.find('e')"
   ]
  },
  {
   "cell_type": "code",
   "execution_count": 37,
   "id": "1812740d",
   "metadata": {},
   "outputs": [
    {
     "data": {
      "text/plain": [
       "5"
      ]
     },
     "execution_count": 37,
     "metadata": {},
     "output_type": "execute_result"
    }
   ],
   "source": [
    "a.rfind('e')"
   ]
  },
  {
   "cell_type": "code",
   "execution_count": 38,
   "id": "6c3c928c",
   "metadata": {},
   "outputs": [
    {
     "data": {
      "text/plain": [
       "4"
      ]
     },
     "execution_count": 38,
     "metadata": {},
     "output_type": "execute_result"
    }
   ],
   "source": [
    "a.index('e')"
   ]
  },
  {
   "cell_type": "code",
   "execution_count": 39,
   "id": "a1d0adcf",
   "metadata": {},
   "outputs": [
    {
     "data": {
      "text/plain": [
       "5"
      ]
     },
     "execution_count": 39,
     "metadata": {},
     "output_type": "execute_result"
    }
   ],
   "source": [
    "a.rindex('e')"
   ]
  },
  {
   "cell_type": "code",
   "execution_count": 41,
   "id": "a75d66ee",
   "metadata": {},
   "outputs": [
    {
     "data": {
      "text/plain": [
       "6"
      ]
     },
     "execution_count": 41,
     "metadata": {},
     "output_type": "execute_result"
    }
   ],
   "source": [
    "a.rindex('p')"
   ]
  },
  {
   "cell_type": "code",
   "execution_count": 42,
   "id": "0395202e",
   "metadata": {},
   "outputs": [
    {
     "data": {
      "text/plain": [
       "'praieep'"
      ]
     },
     "execution_count": 42,
     "metadata": {},
     "output_type": "execute_result"
    }
   ],
   "source": [
    "a.replace('d',\"i\")"
   ]
  },
  {
   "cell_type": "code",
   "execution_count": 43,
   "id": "5bbc276c",
   "metadata": {},
   "outputs": [
    {
     "name": "stdout",
     "output_type": "stream",
     "text": [
      "test kumr\n"
     ]
    }
   ],
   "source": [
    "a=[\"test\",\"kumr\"]\n",
    "s=' '.join(a)\n",
    "print(s)"
   ]
  },
  {
   "cell_type": "code",
   "execution_count": 45,
   "id": "7b02f223",
   "metadata": {},
   "outputs": [
    {
     "data": {
      "text/plain": [
       "'TEST KUMR'"
      ]
     },
     "execution_count": 45,
     "metadata": {},
     "output_type": "execute_result"
    }
   ],
   "source": [
    "s.swapcase()"
   ]
  },
  {
   "cell_type": "code",
   "execution_count": 46,
   "id": "4b5ffc99",
   "metadata": {},
   "outputs": [
    {
     "data": {
      "text/plain": [
       "range(1, 10)"
      ]
     },
     "execution_count": 46,
     "metadata": {},
     "output_type": "execute_result"
    }
   ],
   "source": [
    "a=range(1,10)\n",
    "a"
   ]
  },
  {
   "cell_type": "code",
   "execution_count": null,
   "id": "ed0bd026",
   "metadata": {},
   "outputs": [],
   "source": []
  }
 ],
 "metadata": {
  "kernelspec": {
   "display_name": "Python 3 (ipykernel)",
   "language": "python",
   "name": "python3"
  },
  "language_info": {
   "codemirror_mode": {
    "name": "ipython",
    "version": 3
   },
   "file_extension": ".py",
   "mimetype": "text/x-python",
   "name": "python",
   "nbconvert_exporter": "python",
   "pygments_lexer": "ipython3",
   "version": "3.11.5"
  }
 },
 "nbformat": 4,
 "nbformat_minor": 5
}

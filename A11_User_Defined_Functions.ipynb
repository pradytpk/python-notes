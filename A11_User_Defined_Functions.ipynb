{
 "cells": [
  {
   "cell_type": "code",
   "execution_count": 9,
   "id": "4f2e117e",
   "metadata": {},
   "outputs": [],
   "source": [
    "def add(a,b):\n",
    "    if type(a) == type(b):\n",
    "        return a+b\n",
    "    else:\n",
    "        return \"both are different data types\""
   ]
  },
  {
   "cell_type": "code",
   "execution_count": 10,
   "id": "baa6894d",
   "metadata": {},
   "outputs": [
    {
     "data": {
      "text/plain": [
       "3"
      ]
     },
     "execution_count": 10,
     "metadata": {},
     "output_type": "execute_result"
    }
   ],
   "source": [
    "add(1,2)"
   ]
  },
  {
   "cell_type": "code",
   "execution_count": 11,
   "id": "7382a41f",
   "metadata": {},
   "outputs": [
    {
     "data": {
      "text/plain": [
       "'both are different data types'"
      ]
     },
     "execution_count": 11,
     "metadata": {},
     "output_type": "execute_result"
    }
   ],
   "source": [
    "add(1,\"2\")"
   ]
  },
  {
   "cell_type": "code",
   "execution_count": 12,
   "id": "443156d7",
   "metadata": {},
   "outputs": [
    {
     "data": {
      "text/plain": [
       "'both are different data types'"
      ]
     },
     "execution_count": 12,
     "metadata": {},
     "output_type": "execute_result"
    }
   ],
   "source": [
    "add(1.1,2)"
   ]
  },
  {
   "cell_type": "code",
   "execution_count": 15,
   "id": "691832ad",
   "metadata": {},
   "outputs": [
    {
     "data": {
      "text/plain": [
       "0.002623456790123457"
      ]
     },
     "execution_count": 15,
     "metadata": {},
     "output_type": "execute_result"
    }
   ],
   "source": [
    "85/(180**2)"
   ]
  },
  {
   "cell_type": "code",
   "execution_count": null,
   "id": "33bde0dc",
   "metadata": {},
   "outputs": [],
   "source": []
  }
 ],
 "metadata": {
  "kernelspec": {
   "display_name": "Python 3 (ipykernel)",
   "language": "python",
   "name": "python3"
  },
  "language_info": {
   "codemirror_mode": {
    "name": "ipython",
    "version": 3
   },
   "file_extension": ".py",
   "mimetype": "text/x-python",
   "name": "python",
   "nbconvert_exporter": "python",
   "pygments_lexer": "ipython3",
   "version": "3.11.5"
  }
 },
 "nbformat": 4,
 "nbformat_minor": 5
}

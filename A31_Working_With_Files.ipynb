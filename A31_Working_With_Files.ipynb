{
 "cells": [
  {
   "cell_type": "code",
   "execution_count": 25,
   "id": "850e7937-e678-49cd-8f26-f5bb45c8f45b",
   "metadata": {},
   "outputs": [],
   "source": [
    "f=open('D:\\\\Data Science\\\\python-notes\\\\Output\\\\test.txt','a')"
   ]
  },
  {
   "cell_type": "code",
   "execution_count": 26,
   "id": "4fa90ffc-2db3-4c59-a97e-8aa69d75c72f",
   "metadata": {},
   "outputs": [
    {
     "data": {
      "text/plain": [
       "'D:\\\\Data Science\\\\python-notes'"
      ]
     },
     "execution_count": 26,
     "metadata": {},
     "output_type": "execute_result"
    }
   ],
   "source": [
    "pwd"
   ]
  },
  {
   "cell_type": "code",
   "execution_count": 27,
   "id": "20e61ba7-de7c-48af-aded-e3b25f8528db",
   "metadata": {},
   "outputs": [],
   "source": [
    "f.write(\"this is my write file\")\n",
    "f.close()"
   ]
  },
  {
   "cell_type": "code",
   "execution_count": 28,
   "id": "23cbec4f-b3ed-4b9d-84c1-1629c968ab08",
   "metadata": {},
   "outputs": [],
   "source": [
    "data = open('D:\\\\Data Science\\\\python-notes\\\\Output\\\\test.txt','r')"
   ]
  },
  {
   "cell_type": "code",
   "execution_count": 29,
   "id": "3f05dde2-2f4f-43d1-9b78-cdb963055105",
   "metadata": {},
   "outputs": [
    {
     "data": {
      "text/plain": [
       "'this is my write file'"
      ]
     },
     "execution_count": 29,
     "metadata": {},
     "output_type": "execute_result"
    }
   ],
   "source": [
    "data.read()"
   ]
  },
  {
   "cell_type": "code",
   "execution_count": 30,
   "id": "a4e4dbdc-fe03-4674-a889-cee7820de36c",
   "metadata": {},
   "outputs": [
    {
     "data": {
      "text/plain": [
       "0"
      ]
     },
     "execution_count": 30,
     "metadata": {},
     "output_type": "execute_result"
    }
   ],
   "source": [
    "data.seek(0)"
   ]
  },
  {
   "cell_type": "code",
   "execution_count": 31,
   "id": "0f61b1e9-1f29-44a6-b604-5fdde36bd552",
   "metadata": {},
   "outputs": [
    {
     "data": {
      "text/plain": [
       "'this is my write file'"
      ]
     },
     "execution_count": 31,
     "metadata": {},
     "output_type": "execute_result"
    }
   ],
   "source": [
    "data.read()"
   ]
  },
  {
   "cell_type": "code",
   "execution_count": 32,
   "id": "110d3cb6-98c7-43e2-a9e2-7da53f0d69a3",
   "metadata": {},
   "outputs": [
    {
     "data": {
      "text/plain": [
       "''"
      ]
     },
     "execution_count": 32,
     "metadata": {},
     "output_type": "execute_result"
    }
   ],
   "source": [
    "data.read()"
   ]
  },
  {
   "cell_type": "code",
   "execution_count": 33,
   "id": "081ed6c4-b7de-409d-815b-14fc9cb51e3f",
   "metadata": {},
   "outputs": [],
   "source": [
    "data1 = open('D:\\\\Data Science\\\\python-notes\\\\Output\\\\test.txt','r')"
   ]
  },
  {
   "cell_type": "code",
   "execution_count": 34,
   "id": "8e70f447-f6a0-45e2-8e84-096dd198ce89",
   "metadata": {},
   "outputs": [
    {
     "name": "stdout",
     "output_type": "stream",
     "text": [
      "this is my write file\n"
     ]
    }
   ],
   "source": [
    "for i in data1:\n",
    "    print(i)"
   ]
  },
  {
   "cell_type": "code",
   "execution_count": 35,
   "id": "5d73e1fd-7801-405d-823b-4537733e44a6",
   "metadata": {},
   "outputs": [],
   "source": [
    "import os "
   ]
  },
  {
   "cell_type": "code",
   "execution_count": 36,
   "id": "903cf234-5c5b-4ea9-9fe6-959225bc9708",
   "metadata": {},
   "outputs": [
    {
     "data": {
      "text/plain": [
       "21"
      ]
     },
     "execution_count": 36,
     "metadata": {},
     "output_type": "execute_result"
    }
   ],
   "source": [
    "os.path.getsize('D:\\\\Data Science\\\\python-notes\\\\Output\\\\test.txt')"
   ]
  },
  {
   "cell_type": "code",
   "execution_count": 37,
   "id": "7cb88599-425b-45da-8e13-5478173f9291",
   "metadata": {},
   "outputs": [],
   "source": [
    "import shutil"
   ]
  },
  {
   "cell_type": "code",
   "execution_count": 38,
   "id": "ef04504f-1bbe-4ae2-b523-6009992e9d44",
   "metadata": {},
   "outputs": [
    {
     "data": {
      "text/plain": [
       "'D:\\\\Data Science\\\\python-notes\\\\Output\\\\test1.txt'"
      ]
     },
     "execution_count": 38,
     "metadata": {},
     "output_type": "execute_result"
    }
   ],
   "source": [
    "shutil.copy('D:\\\\Data Science\\\\python-notes\\\\Output\\\\test.txt','D:\\\\Data Science\\\\python-notes\\\\Output\\\\test1.txt')"
   ]
  },
  {
   "cell_type": "code",
   "execution_count": 40,
   "id": "385b9221-4144-4ea6-abab-590f64a3d9ad",
   "metadata": {},
   "outputs": [],
   "source": [
    "os.remove('D:\\\\Data Science\\\\python-notes\\\\Output\\\\test1.txt')"
   ]
  },
  {
   "cell_type": "code",
   "execution_count": 45,
   "id": "9d8242ce-ec85-4e89-8b4e-8b189c3267e2",
   "metadata": {},
   "outputs": [
    {
     "name": "stdout",
     "output_type": "stream",
     "text": [
      "this is my write file\n"
     ]
    }
   ],
   "source": [
    "with open('D:\\\\Data Science\\\\python-notes\\\\Output\\\\test.txt',\"r\") as f :\n",
    "    print(f.read())\n",
    "f.close()"
   ]
  },
  {
   "cell_type": "code",
   "execution_count": 46,
   "id": "57104c0e-9edf-4330-a639-94f153ec1853",
   "metadata": {},
   "outputs": [
    {
     "ename": "PermissionError",
     "evalue": "[WinError 32] The process cannot access the file because it is being used by another process: 'D:\\\\Data Science\\\\python-notes\\\\Output\\\\test.txt' -> 'D:\\\\Data Science\\\\python-notes\\\\Output\\\\test123.txt'",
     "output_type": "error",
     "traceback": [
      "\u001b[1;31m---------------------------------------------------------------------------\u001b[0m",
      "\u001b[1;31mPermissionError\u001b[0m                           Traceback (most recent call last)",
      "Cell \u001b[1;32mIn[46], line 1\u001b[0m\n\u001b[1;32m----> 1\u001b[0m \u001b[43mos\u001b[49m\u001b[38;5;241;43m.\u001b[39;49m\u001b[43mrename\u001b[49m\u001b[43m(\u001b[49m\u001b[38;5;124;43m'\u001b[39;49m\u001b[38;5;124;43mD:\u001b[39;49m\u001b[38;5;130;43;01m\\\\\u001b[39;49;00m\u001b[38;5;124;43mData Science\u001b[39;49m\u001b[38;5;130;43;01m\\\\\u001b[39;49;00m\u001b[38;5;124;43mpython-notes\u001b[39;49m\u001b[38;5;130;43;01m\\\\\u001b[39;49;00m\u001b[38;5;124;43mOutput\u001b[39;49m\u001b[38;5;130;43;01m\\\\\u001b[39;49;00m\u001b[38;5;124;43mtest.txt\u001b[39;49m\u001b[38;5;124;43m'\u001b[39;49m\u001b[43m,\u001b[49m\u001b[38;5;124;43m'\u001b[39;49m\u001b[38;5;124;43mD:\u001b[39;49m\u001b[38;5;130;43;01m\\\\\u001b[39;49;00m\u001b[38;5;124;43mData Science\u001b[39;49m\u001b[38;5;130;43;01m\\\\\u001b[39;49;00m\u001b[38;5;124;43mpython-notes\u001b[39;49m\u001b[38;5;130;43;01m\\\\\u001b[39;49;00m\u001b[38;5;124;43mOutput\u001b[39;49m\u001b[38;5;130;43;01m\\\\\u001b[39;49;00m\u001b[38;5;124;43mtest123.txt\u001b[39;49m\u001b[38;5;124;43m'\u001b[39;49m\u001b[43m)\u001b[49m\n",
      "\u001b[1;31mPermissionError\u001b[0m: [WinError 32] The process cannot access the file because it is being used by another process: 'D:\\\\Data Science\\\\python-notes\\\\Output\\\\test.txt' -> 'D:\\\\Data Science\\\\python-notes\\\\Output\\\\test123.txt'"
     ]
    }
   ],
   "source": [
    "os.rename('D:\\\\Data Science\\\\python-notes\\\\Output\\\\test.txt','D:\\\\Data Science\\\\python-notes\\\\Output\\\\test123.txt')"
   ]
  },
  {
   "cell_type": "code",
   "execution_count": null,
   "id": "98b5078c-bec6-4ca5-ab19-a57f37e9b8b9",
   "metadata": {},
   "outputs": [],
   "source": []
  },
  {
   "cell_type": "code",
   "execution_count": null,
   "id": "0e821c1b-2f48-4355-b52f-ec3283432624",
   "metadata": {},
   "outputs": [],
   "source": []
  }
 ],
 "metadata": {
  "kernelspec": {
   "display_name": "Python 3 (ipykernel)",
   "language": "python",
   "name": "python3"
  },
  "language_info": {
   "codemirror_mode": {
    "name": "ipython",
    "version": 3
   },
   "file_extension": ".py",
   "mimetype": "text/x-python",
   "name": "python",
   "nbconvert_exporter": "python",
   "pygments_lexer": "ipython3",
   "version": "3.12.1"
  }
 },
 "nbformat": 4,
 "nbformat_minor": 5
}

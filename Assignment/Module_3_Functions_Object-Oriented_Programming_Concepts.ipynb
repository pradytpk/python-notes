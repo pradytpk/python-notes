{
 "cells": [
  {
   "cell_type": "markdown",
   "id": "982e70ba",
   "metadata": {
    "toc": true
   },
   "source": [
    "<h1>Table of Contents<span class=\"tocSkip\"></span></h1>\n",
    "<div class=\"toc\"><ul class=\"toc-item\"></ul></div>"
   ]
  },
  {
   "cell_type": "markdown",
   "id": "2808f311",
   "metadata": {},
   "source": [
    "1.Create a dog object that will inherit all the variables and methods of the parent class Animal and display it."
   ]
  },
  {
   "cell_type": "code",
   "execution_count": 5,
   "id": "bc3b5f32",
   "metadata": {},
   "outputs": [
    {
     "name": "stdout",
     "output_type": "stream",
     "text": [
      "Name of the dog: Buddy\n",
      "Buddy says Woof!\n"
     ]
    }
   ],
   "source": [
    "# Define the parent class 'Animal'\n",
    "class Animal:\n",
    "    def __init__(self, name):\n",
    "        self.name = name\n",
    "\n",
    "    def speak(self):\n",
    "        pass\n",
    "\n",
    "# Define the child class 'Dog' which inherits from 'Animal'\n",
    "class Dog(Animal):\n",
    "    def speak(self):\n",
    "        return f\"{self.name} says Woof!\"\n",
    "\n",
    "# Create a 'Dog' object\n",
    "dog1 = Dog(\"Buddy\")\n",
    "\n",
    "# Access the inherited variables and methods\n",
    "print(f\"Name of the dog: {dog1.name}\")\n",
    "print(dog1.speak())\n"
   ]
  },
  {
   "cell_type": "markdown",
   "id": "319bd13e",
   "metadata": {},
   "source": [
    "2.Demonstrate the working of Polymorphism by creating two classes -Car and Bike. Display the information like name, color, and number of wheels."
   ]
  },
  {
   "cell_type": "code",
   "execution_count": 7,
   "id": "dd7cd500",
   "metadata": {},
   "outputs": [
    {
     "name": "stdout",
     "output_type": "stream",
     "text": [
      "Car Information:\n",
      "Name: Toyota Camry\n",
      "Color: Silver\n",
      "Number of Wheels: 4\n",
      "Bike Information:\n",
      "Name: Honda CB500X\n",
      "Color: Red\n",
      "Number of Wheels: 2\n"
     ]
    }
   ],
   "source": [
    "# Define a common base class 'Vehicle'\n",
    "class Vehicle:\n",
    "    def __init__(self, name, color, num_wheels):\n",
    "        self.name = name\n",
    "        self.color = color\n",
    "        self.num_wheels = num_wheels\n",
    "\n",
    "    def display_info(self):\n",
    "        print(f\"Name: {self.name}\")\n",
    "        print(f\"Color: {self.color}\")\n",
    "        print(f\"Number of Wheels: {self.num_wheels}\")\n",
    "\n",
    "# Define the 'Car' class inheriting from 'Vehicle'\n",
    "class Car(Vehicle):\n",
    "    def __init__(self, name, color):\n",
    "        super().__init__(name, color, num_wheels=4)\n",
    "\n",
    "# Define the 'Bike' class inheriting from 'Vehicle'\n",
    "class Bike(Vehicle):\n",
    "    def __init__(self, name, color):\n",
    "        super().__init__(name, color, num_wheels=2)\n",
    "\n",
    "# Create instances of 'Car' and 'Bike' classes\n",
    "my_car = Car(\"Toyota Camry\", \"Silver\")\n",
    "my_bike = Bike(\"Honda CB500X\", \"Red\")\n",
    "\n",
    "# Display information about the vehicle\n",
    "print(\"Car Information:\")\n",
    "my_car.display_info()\n",
    "print(\"Bike Information:\")\n",
    "my_bike.display_info()\n"
   ]
  },
  {
   "cell_type": "markdown",
   "id": "7d5bb6fe",
   "metadata": {},
   "source": [
    "3.Create a list of tuples containing the 5 planets of our solar system along with their moons as-earth having 1 moon, Jupiter having 79 moons, Saturnhaving 82 moons, Uranushaving 27 moons and Neptunehaving 14 moons.Sort the list according to the ascending number of moons along with the names of planet using Lambda function. Display both original and sorted list."
   ]
  },
  {
   "cell_type": "code",
   "execution_count": 8,
   "id": "3137726a",
   "metadata": {},
   "outputs": [
    {
     "name": "stdout",
     "output_type": "stream",
     "text": [
      "Original List:\n",
      "Earth: 1 moon\n",
      "Jupiter: 79 moons\n",
      "Saturn: 82 moons\n",
      "Uranus: 27 moons\n",
      "Neptune: 14 moons\n",
      "\n",
      "Sorted List (Ascending by Number of Moons):\n",
      "Earth: 1 moon\n",
      "Neptune: 14 moons\n",
      "Uranus: 27 moons\n",
      "Jupiter: 79 moons\n",
      "Saturn: 82 moons\n"
     ]
    }
   ],
   "source": [
    "# Create a list of tuples containing planets and their moons\n",
    "solar_system = [\n",
    "    (\"Earth\", 1),\n",
    "    (\"Jupiter\", 79),\n",
    "    (\"Saturn\", 82),\n",
    "    (\"Uranus\", 27),\n",
    "    (\"Neptune\", 14)\n",
    "]\n",
    "\n",
    "# Sort the list based on the number of moons (ascending) using a lambda function\n",
    "sorted_solar_system = sorted(solar_system, key=lambda x: x[1])\n",
    "\n",
    "# Display the original list\n",
    "print(\"Original List:\")\n",
    "for planet, moons in solar_system:\n",
    "    print(f\"{planet}: {moons} moon{'s' if moons != 1 else ''}\")\n",
    "\n",
    "# Display the sorted list\n",
    "print(\"\\nSorted List (Ascending by Number of Moons):\")\n",
    "for planet, moons in sorted_solar_system:\n",
    "    print(f\"{planet}: {moons} moon{'s' if moons != 1 else ''}\")\n"
   ]
  },
  {
   "cell_type": "markdown",
   "id": "83799ff0",
   "metadata": {},
   "source": [
    "4.Create two functions -fillup and use, which uses a global variable as tank. Use the global variable in both the functions to return the quantity of fuel present in the tank after filling up the tank and after using the fuel of the tank. Show the working of two functions only. It is not necessary to display the outputs"
   ]
  },
  {
   "cell_type": "code",
   "execution_count": 14,
   "id": "a86a8431",
   "metadata": {},
   "outputs": [],
   "source": [
    "# Global variable 'tank' to store the quantity of fuel\n",
    "tank = 0\n",
    "\n",
    "# Function to fill up the tank with fuel\n",
    "def fillup(quantity):\n",
    "    global tank  # Use the global variable 'tank'\n",
    "    tank += quantity\n",
    "    return tank\n",
    "\n",
    "# Function to use the fuel from the tank\n",
    "def use(quantity):\n",
    "    global tank  # Use the global variable 'tank'\n",
    "    if tank >= quantity:\n",
    "        tank -= quantity\n",
    "    else:\n",
    "        print(\"Not enough fuel in the tank.\")\n",
    "\n",
    "# Example usage:\n",
    "fillup(50)  # Fill up the tank with 50 units of fuel\n",
    "use(30)    # Use 30 units of fuel from the tank"
   ]
  },
  {
   "cell_type": "markdown",
   "id": "a4efa343",
   "metadata": {},
   "source": [
    "5.Write a program to depict the use of multiple inheritance. The program should contain 4 classes -class 4 should inherit from class 2 and class 3. Similarly, class 2 should inherit from class 1. Class 3 should inherit from class 1. Each class should have its own print state"
   ]
  },
  {
   "cell_type": "code",
   "execution_count": 15,
   "id": "db6cab74",
   "metadata": {},
   "outputs": [
    {
     "name": "stdout",
     "output_type": "stream",
     "text": [
      "This is Class1\n",
      "This is Class3\n",
      "This is Class2\n",
      "This is Class4\n"
     ]
    }
   ],
   "source": [
    "# Base Class 1\n",
    "class Class1:\n",
    "    def __init__(self):\n",
    "        self.state1 = \"This is Class1\"\n",
    "\n",
    "    def print_state(self):\n",
    "        print(self.state1)\n",
    "\n",
    "# Class 2 inherits from Class 1\n",
    "class Class2(Class1):\n",
    "    def __init__(self):\n",
    "        super().__init__()  # Call the constructor of Class1\n",
    "        self.state2 = \"This is Class2\"\n",
    "\n",
    "    def print_state(self):\n",
    "        super().print_state()\n",
    "        print(self.state2)\n",
    "\n",
    "# Class 3 also inherits from Class 1\n",
    "class Class3(Class1):\n",
    "    def __init__(self):\n",
    "        super().__init__()  # Call the constructor of Class1\n",
    "        self.state3 = \"This is Class3\"\n",
    "\n",
    "    def print_state(self):\n",
    "        super().print_state()\n",
    "        print(self.state3)\n",
    "\n",
    "# Class 4 inherits from Class 2 and Class 3\n",
    "class Class4(Class2, Class3):\n",
    "    def __init__(self):\n",
    "        super().__init__()  # Call the constructors of Class2 and Class3\n",
    "        self.state4 = \"This is Class4\"\n",
    "\n",
    "    def print_state(self):\n",
    "        super().print_state()\n",
    "        print(self.state4)\n",
    "\n",
    "# Create an instance of Class4\n",
    "obj = Class4()\n",
    "\n",
    "# Demonstrate the print_state method for each class\n",
    "obj.print_state()\n"
   ]
  },
  {
   "cell_type": "markdown",
   "id": "a38643b4",
   "metadata": {},
   "source": [
    "6.Use Getter and Setter method to set the name and age of a person. Moreover, get the name and age of the same person."
   ]
  },
  {
   "cell_type": "code",
   "execution_count": 16,
   "id": "135094c6",
   "metadata": {},
   "outputs": [
    {
     "name": "stdout",
     "output_type": "stream",
     "text": [
      "Name: John\n",
      "Age: 30\n"
     ]
    }
   ],
   "source": [
    "class Person:\n",
    "    def __init__(self):\n",
    "        self._name = \"\"\n",
    "        self._age = 0\n",
    "\n",
    "    # Getter method for name\n",
    "    def get_name(self):\n",
    "        return self._name\n",
    "\n",
    "    # Setter method for name\n",
    "    def set_name(self, name):\n",
    "        self._name = name\n",
    "\n",
    "    # Getter method for age\n",
    "    def get_age(self):\n",
    "        return self._age\n",
    "\n",
    "    # Setter method for age\n",
    "    def set_age(self, age):\n",
    "        if age >= 0:\n",
    "            self._age = age\n",
    "        else:\n",
    "            print(\"Age cannot be negative.\")\n",
    "\n",
    "# Create a Person object\n",
    "person = Person()\n",
    "\n",
    "# Set the name and age using setter methods\n",
    "person.set_name(\"John\")\n",
    "person.set_age(30)\n",
    "\n",
    "# Get the name and age using getter methods\n",
    "name = person.get_name()\n",
    "age = person.get_age()\n",
    "\n",
    "# Display the name and age\n",
    "print(f\"Name: {name}\")\n",
    "print(f\"Age: {age}\")\n"
   ]
  }
 ],
 "metadata": {
  "kernelspec": {
   "display_name": "Python 3 (ipykernel)",
   "language": "python",
   "name": "python3"
  },
  "language_info": {
   "codemirror_mode": {
    "name": "ipython",
    "version": 3
   },
   "file_extension": ".py",
   "mimetype": "text/x-python",
   "name": "python",
   "nbconvert_exporter": "python",
   "pygments_lexer": "ipython3",
   "version": "3.11.5"
  },
  "toc": {
   "base_numbering": 1,
   "nav_menu": {},
   "number_sections": true,
   "sideBar": true,
   "skip_h1_title": false,
   "title_cell": "Table of Contents",
   "title_sidebar": "Contents",
   "toc_cell": true,
   "toc_position": {},
   "toc_section_display": true,
   "toc_window_display": true
  }
 },
 "nbformat": 4,
 "nbformat_minor": 5
}

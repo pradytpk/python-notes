{
 "cells": [
  {
   "cell_type": "markdown",
   "id": "e63daea5",
   "metadata": {
    "toc": true
   },
   "source": [
    "<h1>Table of Contents<span class=\"tocSkip\"></span></h1>\n",
    "<div class=\"toc\"><ul class=\"toc-item\"><li><span><a href=\"#Smith-wishes-to-register-ona-ticket-booking-website-for-booking-bus-tickets.\" data-toc-modified-id=\"Smith-wishes-to-register-ona-ticket-booking-website-for-booking-bus-tickets.-1\"><span class=\"toc-item-num\">1&nbsp;&nbsp;</span>Smith wishes to register ona ticket booking website for booking bus tickets.</a></span></li><li><span><a href=\"#Write-a-program-forprintingall-elements-of-a-list-and-theirindexes-inthe-list.Take-the-list-as-user-input.\" data-toc-modified-id=\"Write-a-program-forprintingall-elements-of-a-list-and-theirindexes-inthe-list.Take-the-list-as-user-input.-2\"><span class=\"toc-item-num\">2&nbsp;&nbsp;</span>Write a program forprintingall elements of a list and theirindexes inthe list.Take the list as user input.</a></span></li><li><span><a href=\"#Write--a--program-thataccepts-a--string-from-the--console-and-printsthe--characters-that-have-even-indexes-if-the-character-is-an-alphabet.-Concatenate-the-characters-and-print.ExampleIf-the-following-string-is-given-as-input-to-the-program:Ed12ur3ka1Python12Then,-the-output-of-the-program-should-be:EuaPto\" data-toc-modified-id=\"Write--a--program-thataccepts-a--string-from-the--console-and-printsthe--characters-that-have-even-indexes-if-the-character-is-an-alphabet.-Concatenate-the-characters-and-print.ExampleIf-the-following-string-is-given-as-input-to-the-program:Ed12ur3ka1Python12Then,-the-output-of-the-program-should-be:EuaPto-3\"><span class=\"toc-item-num\">3&nbsp;&nbsp;</span>Write  a  program thataccepts a  string from the  console and printsthe  characters that have even indexes if the character is an alphabet. Concatenate the characters and print.ExampleIf the following string is given as input to the program:Ed12ur3ka1Python12Then, the output of the program should be:EuaPto</a></span></li><li><span><a href=\"#Please--write--a--program-thataccepts--a--string--from-the-console--and--printsit--in-reverse-order.ExampleIf-the-following-string-is-given-as-input-to-the-program:-welcome-to-edurekaThen,-the-output-of-the-program-should-be:akerude-ot-emoclew\" data-toc-modified-id=\"Please--write--a--program-thataccepts--a--string--from-the-console--and--printsit--in-reverse-order.ExampleIf-the-following-string-is-given-as-input-to-the-program:-welcome-to-edurekaThen,-the-output-of-the-program-should-be:akerude-ot-emoclew-4\"><span class=\"toc-item-num\">4&nbsp;&nbsp;</span>Please  write  a  program thataccepts  a  string  from the console  and  printsit  in reverse order.ExampleIf the following string is given as input to the program: welcome to edurekaThen, the output of the program should be:akerude ot emoclew</a></span></li><li><span><a href=\"#Please-write-a-program-thatcountsand-printsthe-numbers-of-each-character-in-a-string-input-bytheconsole.\" data-toc-modified-id=\"Please-write-a-program-thatcountsand-printsthe-numbers-of-each-character-in-a-string-input-bytheconsole.-5\"><span class=\"toc-item-num\">5&nbsp;&nbsp;</span>Please write a program thatcountsand printsthe numbers of each character in a string input bytheconsole.</a></span></li><li><span><a href=\"#With--two--given--lists--[1,5,10,12,34,13]--and--[4,7,8,10,5,13,24],--write--a--program--to-create-a-new-list-whose-elements-are-the-intersection-of-the-above-givenlists\" data-toc-modified-id=\"With--two--given--lists--[1,5,10,12,34,13]--and--[4,7,8,10,5,13,24],--write--a--program--to-create-a-new-list-whose-elements-are-the-intersection-of-the-above-givenlists-6\"><span class=\"toc-item-num\">6&nbsp;&nbsp;</span>With  two  given  lists  [1,5,10,12,34,13]  and  [4,7,8,10,5,13,24],  write  a  program  to create a new list whose elements are the intersection of the above-givenlists</a></span></li><li><span><a href=\"#By-using-list-comprehension,-please-write-a-program-to-print-the-list-after-removing-the-values-which-are-divisible-by-6in-[12,24,35,24,88,120,155].m\" data-toc-modified-id=\"By-using-list-comprehension,-please-write-a-program-to-print-the-list-after-removing-the-values-which-are-divisible-by-6in-[12,24,35,24,88,120,155].m-7\"><span class=\"toc-item-num\">7&nbsp;&nbsp;</span>By using list comprehension, please write a program to print the list after removing the values which are divisible by 6in [12,24,35,24,88,120,155].m</a></span></li><li><span><a href=\"#By-using-list-comprehension,-please-write-a-program-to-print-the-list-after-removing-the-1st,3rd,and-5thnumbers-in-[12,24,35,70,88,120,155]\" data-toc-modified-id=\"By-using-list-comprehension,-please-write-a-program-to-print-the-list-after-removing-the-1st,3rd,and-5thnumbers-in-[12,24,35,70,88,120,155]-8\"><span class=\"toc-item-num\">8&nbsp;&nbsp;</span>By using list comprehension, please write a program to print the list after removing the 1st,3rd,and 5thnumbers in [12,24,35,70,88,120,155]</a></span></li><li><span><a href=\"#Please--write--a--program--to--randomly--generate--a--list--with-6numbers,--which--are-divisible-by-5-and-7,-between-1-and-1500-inclusive.\" data-toc-modified-id=\"Please--write--a--program--to--randomly--generate--a--list--with-6numbers,--which--are-divisible-by-5-and-7,-between-1-and-1500-inclusive.-9\"><span class=\"toc-item-num\">9&nbsp;&nbsp;</span>Please  write  a  program  to  randomly  generate  a  list  with 6numbers,  which  are divisible by 5 and 7, between 1 and 1500 inclusive.</a></span></li><li><span><a href=\"#Write--a--program--to--compute--1/2+2/3+3/4+...+n/n+1--with--a--given--n--input--by-console-(n>0).\" data-toc-modified-id=\"Write--a--program--to--compute--1/2+2/3+3/4+...+n/n+1--with--a--given--n--input--by-console-(n>0).-10\"><span class=\"toc-item-num\">10&nbsp;&nbsp;</span>Write  a  program  to  compute  1/2+2/3+3/4+...+n/n+1  with  a  given  n  input  by console (n&gt;0).</a></span></li><li><span><a href=\"#Banking-Optimization-System\" data-toc-modified-id=\"Banking-Optimization-System-11\"><span class=\"toc-item-num\">11&nbsp;&nbsp;</span>Banking Optimization System</a></span><ul class=\"toc-item\"><li><ul class=\"toc-item\"><li><span><a href=\"#Domain:-Banking\" data-toc-modified-id=\"Domain:-Banking-11.0.1\"><span class=\"toc-item-num\">11.0.1&nbsp;&nbsp;</span>Domain: Banking</a></span><ul class=\"toc-item\"><li><span><a href=\"#Business-Challenge/Requirement\" data-toc-modified-id=\"Business-Challenge/Requirement-11.0.1.1\"><span class=\"toc-item-num\">11.0.1.1&nbsp;&nbsp;</span>Business Challenge/Requirement</a></span></li><li><span><a href=\"#Considerations\" data-toc-modified-id=\"Considerations-11.0.1.2\"><span class=\"toc-item-num\">11.0.1.2&nbsp;&nbsp;</span>Considerations</a></span></li><li><span><a href=\"#Business-Benefits\" data-toc-modified-id=\"Business-Benefits-11.0.1.3\"><span class=\"toc-item-num\">11.0.1.3&nbsp;&nbsp;</span>Business Benefits</a></span></li><li><span><a href=\"#Approach-to-Solve\" data-toc-modified-id=\"Approach-to-Solve-11.0.1.4\"><span class=\"toc-item-num\">11.0.1.4&nbsp;&nbsp;</span>Approach to Solve</a></span></li></ul></li><li><span><a href=\"#Enhancements-for-Code\" data-toc-modified-id=\"Enhancements-for-Code-11.0.2\"><span class=\"toc-item-num\">11.0.2&nbsp;&nbsp;</span>Enhancements for Code</a></span></li></ul></li></ul></li></ul></div>"
   ]
  },
  {
   "cell_type": "markdown",
   "id": "ac8382a5",
   "metadata": {},
   "source": [
    "# Smith wishes to register ona ticket booking website for booking bus tickets. \n",
    "Toauthenticate theregistration, he needs to provide a user-id and password. \n",
    "There are some built-in rules for checking the validity of the passwords entered by the users.Following are therulesfor checkingthe validity of a password:i.At least 1 alphabetii.At least 1 digitbetween [0–9]iii.At least 1 character from [@&]iv.Minimum length of transaction password: 5v.Maximum length of transaction password: 10"
   ]
  },
  {
   "cell_type": "code",
   "execution_count": 1,
   "id": "2f96be7f",
   "metadata": {},
   "outputs": [
    {
     "name": "stdout",
     "output_type": "stream",
     "text": [
      "True\n",
      "False\n",
      "True\n",
      "True\n",
      "False\n"
     ]
    }
   ],
   "source": [
    "import re\n",
    "\n",
    "def is_valid_password(password):\n",
    "    # Rule 1: At least 1 alphabet\n",
    "    if not any(char.isalpha() for char in password):\n",
    "        return False\n",
    "    \n",
    "    # Rule 2: At least 1 digit between [0–9]\n",
    "    if not any(char.isdigit() for char in password):\n",
    "        return False\n",
    "    \n",
    "    # Rule 3: At least 1 character from [@&]\n",
    "    if not any(char in ['@', '&'] for char in password):\n",
    "        return False\n",
    "    \n",
    "    # Rule 4: Minimum length of transaction password: 5\n",
    "    if len(password) < 5:\n",
    "        return False\n",
    "    \n",
    "    # Rule 5: Maximum length of transaction password: 10\n",
    "    if len(password) > 10:\n",
    "        return False\n",
    "    \n",
    "    # All rules passed, so the password is valid\n",
    "    return True\n",
    "\n",
    "# Test cases\n",
    "password1 = \"Ab1@cd\"\n",
    "password2 = \"12345\"\n",
    "password3 = \"abc&123\"\n",
    "password4 = \"A1@b&c2d3\"\n",
    "password5 = \"A@bcdEfghI\"\n",
    "\n",
    "print(is_valid_password(password1))  # True\n",
    "print(is_valid_password(password2))  # False\n",
    "print(is_valid_password(password3))  # True\n",
    "print(is_valid_password(password4))  # False\n",
    "print(is_valid_password(password5))  # True"
   ]
  },
  {
   "cell_type": "markdown",
   "id": "40cc540d",
   "metadata": {},
   "source": [
    "# Write a program forprintingall elements of a list and theirindexes inthe list.Take the list as user input."
   ]
  },
  {
   "cell_type": "code",
   "execution_count": 3,
   "id": "aecc12d3",
   "metadata": {},
   "outputs": [
    {
     "name": "stdout",
     "output_type": "stream",
     "text": [
      "Enter a list of elements separated by spaces: Write a program forprintingall elements of a list and theirindexes inthe list.Take the list as user input.\n",
      "Element at index 0: Write\n",
      "Element at index 1: a\n",
      "Element at index 2: program\n",
      "Element at index 3: forprintingall\n",
      "Element at index 4: elements\n",
      "Element at index 5: of\n",
      "Element at index 6: a\n",
      "Element at index 7: list\n",
      "Element at index 8: and\n",
      "Element at index 9: theirindexes\n",
      "Element at index 10: inthe\n",
      "Element at index 11: list.Take\n",
      "Element at index 12: the\n",
      "Element at index 13: list\n",
      "Element at index 14: as\n",
      "Element at index 15: user\n",
      "Element at index 16: input.\n"
     ]
    }
   ],
   "source": [
    "# Function to print elements and their indexes\n",
    "def print_elements_with_indexes(input_list):\n",
    "    for index, element in enumerate(input_list):\n",
    "        print(f\"Element at index {index}: {element}\")\n",
    "\n",
    "# Get user input for the list\n",
    "user_input = input(\"Enter a list of elements separated by spaces: \")\n",
    "user_list = user_input.split()\n",
    "\n",
    "# Call the function to print elements and their indexes\n",
    "print_elements_with_indexes(user_list)\n"
   ]
  },
  {
   "cell_type": "markdown",
   "id": "2f4f2437",
   "metadata": {},
   "source": [
    "# Write  a  program thataccepts a  string from the  console and printsthe  characters that have even indexes if the character is an alphabet. Concatenate the characters and print.ExampleIf the following string is given as input to the program:Ed12ur3ka1Python12Then, the output of the program should be:EuaPto"
   ]
  },
  {
   "cell_type": "code",
   "execution_count": 7,
   "id": "4537b453",
   "metadata": {},
   "outputs": [
    {
     "name": "stdout",
     "output_type": "stream",
     "text": [
      "Enter a string: Ed12ur3ka1Python12Then\n",
      "EuaPtoTe\n"
     ]
    }
   ],
   "source": [
    "# Get input string from the console\n",
    "input_string = input(\"Enter a string: \")\n",
    "\n",
    "# Initialize an empty string to store the selected characters\n",
    "result_string = \"\"\n",
    "\n",
    "# Iterate through the string and select characters with even indexes if they are alphabets\n",
    "for i in range(len(input_string)):\n",
    "    if i % 2 == 0 and input_string[i].isalpha():\n",
    "        result_string += input_string[i]\n",
    "\n",
    "# Print the concatenated characters\n",
    "print(result_string)\n"
   ]
  },
  {
   "cell_type": "markdown",
   "id": "cf6882b4",
   "metadata": {},
   "source": [
    "# Please  write  a  program thataccepts  a  string  from the console  and  printsit  in reverse order.ExampleIf the following string is given as input to the program: welcome to edurekaThen, the output of the program should be:akerude ot emoclew"
   ]
  },
  {
   "cell_type": "code",
   "execution_count": 8,
   "id": "071c5a54",
   "metadata": {},
   "outputs": [
    {
     "name": "stdout",
     "output_type": "stream",
     "text": [
      "Enter a string: welcome to edureka\n",
      "akerude ot emoclew\n"
     ]
    }
   ],
   "source": [
    "# Get input string from the console\n",
    "input_string = input(\"Enter a string: \")\n",
    "\n",
    "# Reverse the input string using slicing\n",
    "reversed_string = input_string[::-1]\n",
    "\n",
    "# Print the reversed string\n",
    "print(reversed_string)\n"
   ]
  },
  {
   "cell_type": "markdown",
   "id": "12b796e6",
   "metadata": {},
   "source": [
    "# Please write a program thatcountsand printsthe numbers of each character in a string input bytheconsole.\n"
   ]
  },
  {
   "cell_type": "code",
   "execution_count": 11,
   "id": "dda4e5f4",
   "metadata": {},
   "outputs": [
    {
     "name": "stdout",
     "output_type": "stream",
     "text": [
      "Enter a string: abcdefgabc\n",
      "'a': 2\n",
      "'b': 2\n",
      "'c': 2\n",
      "'d': 1\n",
      "'e': 1\n",
      "'f': 1\n",
      "'g': 1\n"
     ]
    }
   ],
   "source": [
    "# Get input string from the console\n",
    "input_string = input(\"Enter a string: \")\n",
    "\n",
    "# Create an empty dictionary to store character counts\n",
    "char_count = {}\n",
    "\n",
    "# Iterate through the input string and count characters\n",
    "for char in input_string:\n",
    "    if char in char_count:\n",
    "        char_count[char] += 1\n",
    "    else:\n",
    "        char_count[char] = 1\n",
    "\n",
    "# Print the character counts\n",
    "for char, count in char_count.items():\n",
    "    print(f\"'{char}': {count}\")\n"
   ]
  },
  {
   "cell_type": "markdown",
   "id": "90611412",
   "metadata": {},
   "source": [
    "# With  two  given  lists  [1,5,10,12,34,13]  and  [4,7,8,10,5,13,24],  write  a  program  to create a new list whose elements are the intersection of the above-givenlists"
   ]
  },
  {
   "cell_type": "code",
   "execution_count": 12,
   "id": "16a8f647",
   "metadata": {},
   "outputs": [
    {
     "name": "stdout",
     "output_type": "stream",
     "text": [
      "[5, 10, 13]\n"
     ]
    }
   ],
   "source": [
    "# Define two given lists\n",
    "list1 = [1, 5, 10, 12, 34, 13]\n",
    "list2 = [4, 7, 8, 10, 5, 13, 24]\n",
    "\n",
    "# Initialize an empty list to store the intersection elements\n",
    "intersection = []\n",
    "\n",
    "# Iterate through list1 and check if each element is in list2\n",
    "for element in list1:\n",
    "    if element in list2:\n",
    "        intersection.append(element)\n",
    "\n",
    "# Create a new list with the intersection elements\n",
    "result_list = intersection\n",
    "\n",
    "# Print the result\n",
    "print(result_list)\n"
   ]
  },
  {
   "cell_type": "markdown",
   "id": "27273084",
   "metadata": {},
   "source": [
    " # By using list comprehension, please write a program to print the list after removing the values which are divisible by 6in [12,24,35,24,88,120,155].m"
   ]
  },
  {
   "cell_type": "code",
   "execution_count": 14,
   "id": "8d42d863",
   "metadata": {},
   "outputs": [
    {
     "name": "stdout",
     "output_type": "stream",
     "text": [
      "[35, 88, 155]\n"
     ]
    }
   ],
   "source": [
    "# Define the original list\n",
    "original_list = [12, 24, 35, 24, 88, 120, 155]\n",
    "\n",
    "# Create a new list using list comprehension to remove values divisible by 6\n",
    "filtered_list = [x for x in original_list if x % 6 != 0]\n",
    "\n",
    "# Print the filtered list\n",
    "print(filtered_list)\n"
   ]
  },
  {
   "cell_type": "markdown",
   "id": "22b1dc73",
   "metadata": {},
   "source": [
    "# By using list comprehension, please write a program to print the list after removing the 1st,3rd,and 5thnumbers in [12,24,35,70,88,120,155]"
   ]
  },
  {
   "cell_type": "code",
   "execution_count": 15,
   "id": "43314ded",
   "metadata": {},
   "outputs": [
    {
     "name": "stdout",
     "output_type": "stream",
     "text": [
      "[24, 70, 120, 155]\n"
     ]
    }
   ],
   "source": [
    "# Define the original list.append\n",
    "original_list = [12, 24, 35, 70, 88, 120, 155]\n",
    "\n",
    "# Create a new list using list comprehension to remove the specified elements\n",
    "filtered_list = [original_list[i] for i in range(len(original_list)) if i not in [0, 2, 4]]\n",
    "\n",
    "# Print the filtered list\n",
    "print(filtered_list)\n"
   ]
  },
  {
   "cell_type": "markdown",
   "id": "8dfd8277",
   "metadata": {},
   "source": [
    "# Please  write  a  program  to  randomly  generate  a  list  with 6numbers,  which  are divisible by 5 and 7, between 1 and 1500 inclusive."
   ]
  },
  {
   "cell_type": "code",
   "execution_count": 16,
   "id": "615bcf36",
   "metadata": {},
   "outputs": [
    {
     "name": "stdout",
     "output_type": "stream",
     "text": [
      "[770, 315, 280, 1365, 980, 1225]\n"
     ]
    }
   ],
   "source": [
    " import random\n",
    "\n",
    "# Initialize an empty list to store the generated numbers\n",
    "divisible_by_5_and_7 = []\n",
    "\n",
    "# Generate 6 numbers that are divisible by 5 and 7 within the specified range\n",
    "while len(divisible_by_5_and_7) < 6:\n",
    "    num = random.randint(1, 1500)\n",
    "    if num % 5 == 0 and num % 7 == 0:\n",
    "        divisible_by_5_and_7.append(num)\n",
    "\n",
    "# Print the generated list\n",
    "print(divisible_by_5_and_7)\n"
   ]
  },
  {
   "cell_type": "markdown",
   "id": "95dfad0e",
   "metadata": {},
   "source": [
    " # Write  a  program  to  compute  1/2+2/3+3/4+...+n/n+1  with  a  given  n  input  by console (n>0).\n",
    "ExampleIf the following n is given as input to the program:5Then, the output of the program should be:3.55m"
   ]
  },
  {
   "cell_type": "code",
   "execution_count": 18,
   "id": "6a931e5c",
   "metadata": {},
   "outputs": [
    {
     "name": "stdout",
     "output_type": "stream",
     "text": [
      "Enter a positive integer (n > 0): 5\n",
      "The sum of the series for n = 5 is: 3.55\n"
     ]
    }
   ],
   "source": [
    "# Get the value of n from the console\n",
    "n = int(input(\"Enter a positive integer (n > 0): \"))\n",
    "\n",
    "# Initialize the sum to 0\n",
    "sum_series = 0\n",
    "\n",
    "# Check if n is greater than 0\n",
    "if n > 0:\n",
    "    for i in range(1, n + 1):\n",
    "        sum_series += i / (i + 1)\n",
    "\n",
    "    # Print the result\n",
    "    print(f\"The sum of the series for n = {n} is: {sum_series:.2f}\")\n",
    "else:\n",
    "    print(\"Please enter a positive integer (n > 0).\")\n"
   ]
  },
  {
   "cell_type": "markdown",
   "id": "73193e6a",
   "metadata": {},
   "source": [
    "# Banking Optimization System\n",
    "\n",
    "### Domain: Banking\n",
    "\n",
    "#### Business Challenge/Requirement\n",
    "\n",
    "**Description**: FinBank is a new player in the banking industry in Thailand. Their challenge is to optimize the customer verification process for opening bank accounts. Traditionally, this process involves manual verification by reviewing photocopies of approved ID cards. However, FinBank has recently introduced a new system where customers' fingerprints are mapped with a government-issued Unique ID for Thai citizens.\n",
    "\n",
    "##### Key Issues\n",
    "\n",
    "**Challenge**: The primary challenge is to build a secure system that protects customer data. Specifically, when a user enters their Unique ID, it must be encrypted to ensure that hackers cannot access or view the mapping of the Unique ID and fingerprints.\n",
    "\n",
    "#### Considerations\n",
    "\n",
    "**Security**: Security is a top priority for this system.\n",
    "\n",
    "**Data Volume**: The specific data volume is not applicable in this context.\n",
    "\n",
    "**Additional Information**: No additional information is available at this time.\n",
    "\n",
    "#### Business Benefits\n",
    "\n",
    "**Benefits**: By implementing this system, FinBank anticipates the following advantages:\n",
    "\n",
    "- Efficient and secure verification of customer data.\n",
    "- Significant increase in processing capacity, estimated to be approximately tenfold, as the manual verification process is replaced with a secure automated system.\n",
    "\n",
    "#### Approach to Solve\n",
    "\n",
    "**Solution Steps**:\n",
    "\n",
    "1. **User Input**: Read user input from the command line, specifically the Unique ID.\n",
    "\n",
    "2. **Validation**: Check the validity of the entered Unique ID. It should consist of exactly 10 digits and contain only numeric characters.\n",
    "\n",
    "3. **Encryption**: Encrypt the Unique ID to enhance security and protect sensitive customer information.\n",
    "\n",
    "### Enhancements for Code\n",
    "\n",
    "**Potential Enhancements**:\n",
    "\n",
    "1. **Character Support**: Consider allowing the inclusion of alphabets and some special characters in the Unique ID for increased flexibility.\n",
    "\n",
    "2. **Decryption Option**: Provide an option for decryption if there is a need for reverse data processing or access to the original Unique ID.\n",
    "\n",
    "This README file provides an overview of the Banking Optimization System implemented by FinBank. It includes information about the business challenge, requirements, approach to solving the challenge, potential enhancements for the code, and the expected benefits of the system. Feel free to refer to this document for a comprehensive understanding of the project.\n"
   ]
  },
  {
   "cell_type": "code",
   "execution_count": 22,
   "id": "1870455b",
   "metadata": {},
   "outputs": [
    {
     "name": "stdout",
     "output_type": "stream",
     "text": [
      "Enter the 10-digit Unique ID: 1234567890\n",
      "Encrypted Unique ID: 2345678901\n",
      "Do you want to decrypt the Unique ID? (yes/no): yes\n",
      "Decrypted Unique ID: 1234567890\n"
     ]
    }
   ],
   "source": [
    "def encrypt_unique_id(unique_id):\n",
    "    # Check if the input is a valid 10-digit number\n",
    "    if not unique_id.isdigit() or len(unique_id) != 10:\n",
    "        return \"Invalid Unique ID\"\n",
    "\n",
    "    # Encrypt the Unique ID using a simple shift operation\n",
    "    encrypted_id = \"\"\n",
    "    for digit in unique_id:\n",
    "        encrypted_digit = str((int(digit) + 1) % 10)  # Shift each digit by 1 (for demonstration purposes)\n",
    "        encrypted_id += encrypted_digit\n",
    "    \n",
    "    return encrypted_id\n",
    "\n",
    "def decrypt_unique_id(encrypted_id):\n",
    "    # Decrypt the Unique ID by shifting each digit back by 1\n",
    "    decrypted_id = \"\"\n",
    "    for digit in encrypted_id:\n",
    "        decrypted_digit = str((int(digit) - 1) % 10)  # Shift each digit back by 1\n",
    "        decrypted_id += decrypted_digit\n",
    "    \n",
    "    return decrypted_id\n",
    "\n",
    "# Read the Unique ID from the command line\n",
    "unique_id = input(\"Enter the 10-digit Unique ID: \")\n",
    "\n",
    "# Encrypt and print the Unique ID\n",
    "encrypted_id = encrypt_unique_id(unique_id)\n",
    "print(f\"Encrypted Unique ID: {encrypted_id}\")\n",
    "\n",
    "# Optional: Provide an option for decryption\n",
    "choice = input(\"Do you want to decrypt the Unique ID? (yes/no): \").lower()\n",
    "if choice == \"yes\":\n",
    "    decrypted_id = decrypt_unique_id(encrypted_id)\n",
    "    print(f\"Decrypted Unique ID: {decrypted_id}\")\n"
   ]
  },
  {
   "cell_type": "code",
   "execution_count": null,
   "id": "b9d7edac",
   "metadata": {},
   "outputs": [],
   "source": []
  },
  {
   "cell_type": "code",
   "execution_count": null,
   "id": "b7b16252",
   "metadata": {},
   "outputs": [],
   "source": []
  }
 ],
 "metadata": {
  "kernelspec": {
   "display_name": "Python 3 (ipykernel)",
   "language": "python",
   "name": "python3"
  },
  "language_info": {
   "codemirror_mode": {
    "name": "ipython",
    "version": 3
   },
   "file_extension": ".py",
   "mimetype": "text/x-python",
   "name": "python",
   "nbconvert_exporter": "python",
   "pygments_lexer": "ipython3",
   "version": "3.11.5"
  },
  "toc": {
   "base_numbering": 1,
   "nav_menu": {},
   "number_sections": true,
   "sideBar": true,
   "skip_h1_title": false,
   "title_cell": "Table of Contents",
   "title_sidebar": "Contents",
   "toc_cell": true,
   "toc_position": {},
   "toc_section_display": true,
   "toc_window_display": true
  }
 },
 "nbformat": 4,
 "nbformat_minor": 5
}

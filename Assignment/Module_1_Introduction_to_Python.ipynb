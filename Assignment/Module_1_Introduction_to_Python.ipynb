{
 "cells": [
  {
   "cell_type": "markdown",
   "id": "cf7971d8",
   "metadata": {},
   "source": [
    "### Write a program to find the factors of agiven number and check whether the factor is even or odd"
   ]
  },
  {
   "cell_type": "code",
   "execution_count": 6,
   "id": "27b2a95d",
   "metadata": {},
   "outputs": [
    {
     "name": "stdout",
     "output_type": "stream",
     "text": [
      "Enter the number 10\n",
      "even\n"
     ]
    }
   ],
   "source": [
    "def odd_even(x):\n",
    "    if(x > 0 and x%2==0):\n",
    "        print(\"even\")\n",
    "    else:\n",
    "        print(\"odd\")\n",
    "x=int(input(\"Enter the number \"))\n",
    "odd_even(x)"
   ]
  },
  {
   "cell_type": "markdown",
   "id": "7026c421",
   "metadata": {},
   "source": [
    "### Write a code that accepts a sequence of words as input and prints the words in a sequence after sorting them alphabetically."
   ]
  },
  {
   "cell_type": "code",
   "execution_count": 13,
   "id": "721b7f24",
   "metadata": {},
   "outputs": [
    {
     "name": "stdout",
     "output_type": "stream",
     "text": [
      "Enter the wordYou can run this code,\n",
      "Sorted words:\n",
      "can\n",
      "code,\n",
      "run\n",
      "this\n",
      "you\n"
     ]
    }
   ],
   "source": [
    "my_str = input(\"Enter the word\")\n",
    "\n",
    "# Split the input sequence into a list of words\n",
    "words = [word.lower() for word in my_str.split()]\n",
    "\n",
    "# Sort the words alphabetically\n",
    "sorted_words = sorted(words)\n",
    "\n",
    "# Print the sorted words\n",
    "print(\"Sorted words:\")\n",
    "for word in sorted_words:\n",
    "    print(word)"
   ]
  },
  {
   "cell_type": "markdown",
   "id": "24881635",
   "metadata": {},
   "source": [
    "### Write a program that will find all the numbers between 1000 and 3000 (both excluded) such that each digit of a number is an odd number. Print the number of such elements"
   ]
  },
  {
   "cell_type": "code",
   "execution_count": 14,
   "id": "997e5e3f",
   "metadata": {},
   "outputs": [
    {
     "name": "stdout",
     "output_type": "stream",
     "text": [
      "Count of numbers with all odd digits: 125\n"
     ]
    }
   ],
   "source": [
    "# Initialize a variable to store the count of valid numbers\n",
    "count = 0\n",
    "\n",
    "# Loop through numbers from 1001 to 2999 (both inclusive)\n",
    "for number in range(1001, 3000):\n",
    "    # Convert the number to a string for easy digit access\n",
    "    num_str = str(number)\n",
    "    \n",
    "    # Check if all digits in the number are odd\n",
    "    all_odd = all(int(digit) % 2 != 0 for digit in num_str)\n",
    "    \n",
    "    if all_odd:\n",
    "        # If all digits are odd, increment the count and print the number\n",
    "        count += 1\n",
    "\n",
    "# Print the count of valid numbers\n",
    "print(\"Count of numbers with all odd digits:\", count)\n"
   ]
  },
  {
   "cell_type": "markdown",
   "id": "d9ca5ebc",
   "metadata": {},
   "source": [
    "### Write a program that accepts a stringand calculatesthe number of letters and digits.Suppose if the entered string is: Edureka123Then the output will be:LETTERS: -7DIGITS: -3"
   ]
  },
  {
   "cell_type": "code",
   "execution_count": 15,
   "id": "29dadc2e",
   "metadata": {},
   "outputs": [
    {
     "name": "stdout",
     "output_type": "stream",
     "text": [
      "Enter a string: Edureka123\n",
      "LETTERS: 7\n",
      "DIGITS: 3\n"
     ]
    }
   ],
   "source": [
    "# Accept a string as input from the user\n",
    "input_string = input(\"Enter a string: \")\n",
    "\n",
    "# Initialize variables to count letters and digits\n",
    "letter_count = 0\n",
    "digit_count = 0\n",
    "\n",
    "# Iterate through each character in the input string\n",
    "for char in input_string:\n",
    "    if char.isalpha():\n",
    "        # If the character is a letter, increment the letter_count\n",
    "        letter_count += 1\n",
    "    elif char.isdigit():\n",
    "        # If the character is a digit, increment the digit_count\n",
    "        digit_count += 1\n",
    "\n",
    "# Print the counts of letters and digits\n",
    "print(\"LETTERS:\", letter_count)\n",
    "print(\"DIGITS:\", digit_count)\n"
   ]
  },
  {
   "cell_type": "markdown",
   "id": "0a79de35",
   "metadata": {},
   "source": [
    "### Design a code which will find whether the given number is Palindrome number or not.\n"
   ]
  },
  {
   "cell_type": "code",
   "execution_count": null,
   "id": "01862c30",
   "metadata": {},
   "outputs": [],
   "source": []
  }
 ],
 "metadata": {
  "kernelspec": {
   "display_name": "Python 3 (ipykernel)",
   "language": "python",
   "name": "python3"
  },
  "language_info": {
   "codemirror_mode": {
    "name": "ipython",
    "version": 3
   },
   "file_extension": ".py",
   "mimetype": "text/x-python",
   "name": "python",
   "nbconvert_exporter": "python",
   "pygments_lexer": "ipython3",
   "version": "3.11.5"
  }
 },
 "nbformat": 4,
 "nbformat_minor": 5
}

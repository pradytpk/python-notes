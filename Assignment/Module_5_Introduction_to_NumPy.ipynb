{
 "cells": [
  {
   "cell_type": "markdown",
   "id": "5ae0c864",
   "metadata": {
    "toc": true
   },
   "source": [
    "<h1>Table of Contents<span class=\"tocSkip\"></span></h1>\n",
    "<div class=\"toc\"><ul class=\"toc-item\"><li><span><a href=\"#Module-5:Introduction-to-NumPy\" data-toc-modified-id=\"Module-5:Introduction-to-NumPy-1\"><span class=\"toc-item-num\">1&nbsp;&nbsp;</span>Module 5:Introduction to NumPy</a></span><ul class=\"toc-item\"><li><span><a href=\"#Convertthegivenlistintoa-numpy-array--and-replace-the-odd-elementswith-2.Lst=[[1,2,3],-[4,5,6],-[7,8,9]]\" data-toc-modified-id=\"Convertthegivenlistintoa-numpy-array--and-replace-the-odd-elementswith-2.Lst=[[1,2,3],-[4,5,6],-[7,8,9]]-1.1\"><span class=\"toc-item-num\">1.1&nbsp;&nbsp;</span>Convertthegivenlistintoa numpy array  and replace the odd elementswith-2.Lst=[[1,2,3], [4,5,6], [7,8,9]]</a></span></li><li><span><a href=\"#In-the-numpyarray-given-below-print-all-the-elements-ranging-from-8-to-15.arr-=-[1,2,3,4,5,8,9,10,12,22,32,54,99,6,7]\" data-toc-modified-id=\"In-the-numpyarray-given-below-print-all-the-elements-ranging-from-8-to-15.arr-=-[1,2,3,4,5,8,9,10,12,22,32,54,99,6,7]-1.2\"><span class=\"toc-item-num\">1.2&nbsp;&nbsp;</span>In the numpyarray given below print all the elements ranging from 8 to 15.arr = [1,2,3,4,5,8,9,10,12,22,32,54,99,6,7]</a></span></li><li><span><a href=\"#Create-a-3*3-narray-thatincludes-numbersfrom-1-to-9-and-swap-columns1-and2.\" data-toc-modified-id=\"Create-a-3*3-narray-thatincludes-numbersfrom-1-to-9-and-swap-columns1-and2.-1.3\"><span class=\"toc-item-num\">1.3&nbsp;&nbsp;</span>Create a 3*3 narray thatincludes numbersfrom 1 to 9 and swap columns1 and2.</a></span></li><li><span><a href=\"#In-the-given-numpyarray-replace-the-NaN-values-with-the-average-of-columnsarr=-np.array([[1.3,-2.5,-3.6,-np.nan],-[2.6,-3.3,-np.nan,-5.5],-[2.1,-3.2,-5.4,-6.5]])\" data-toc-modified-id=\"In-the-given-numpyarray-replace-the-NaN-values-with-the-average-of-columnsarr=-np.array([[1.3,-2.5,-3.6,-np.nan],-[2.6,-3.3,-np.nan,-5.5],-[2.1,-3.2,-5.4,-6.5]])-1.4\"><span class=\"toc-item-num\">1.4&nbsp;&nbsp;</span>In the given numpyarray replace the NaN values with the average of columnsarr= np.array([[1.3, 2.5, 3.6, np.nan], [2.6, 3.3, np.nan, 5.5], [2.1, 3.2, 5.4, 6.5]])</a></span></li><li><span><a href=\"#For-the-numpyarray-given-below-perform-the-following-operation:i.Convert-the-numpyarray-into-a-numpymatrixii.Sort-the-values-in-a-matrixarr-=-[[2,4,6],[1,3,5]]\" data-toc-modified-id=\"For-the-numpyarray-given-below-perform-the-following-operation:i.Convert-the-numpyarray-into-a-numpymatrixii.Sort-the-values-in-a-matrixarr-=-[[2,4,6],[1,3,5]]-1.5\"><span class=\"toc-item-num\">1.5&nbsp;&nbsp;</span>For the numpyarray given below perform the following operation:i.Convert the numpyarray into a numpymatrixii.Sort the values in a matrixarr = [[2,4,6],[1,3,5]]</a></span></li></ul></li></ul></div>"
   ]
  },
  {
   "cell_type": "markdown",
   "id": "a76f5215",
   "metadata": {},
   "source": [
    "# Module 5:Introduction to NumPy"
   ]
  },
  {
   "cell_type": "markdown",
   "id": "9bf0c57b",
   "metadata": {},
   "source": [
    "## Convertthegivenlistintoa numpy array  and replace the odd elementswith-2.Lst=[[1,2,3], [4,5,6], [7,8,9]]"
   ]
  },
  {
   "cell_type": "code",
   "execution_count": 1,
   "id": "f75d988e",
   "metadata": {},
   "outputs": [
    {
     "name": "stdout",
     "output_type": "stream",
     "text": [
      "[[-2  2 -2]\n",
      " [ 4 -2  6]\n",
      " [-2  8 -2]]\n"
     ]
    }
   ],
   "source": [
    "import numpy as np\n",
    "\n",
    "lst = [[1, 2, 3], [4, 5, 6], [7, 8, 9]]\n",
    "arr = np.array(lst)  # Convert the list to a NumPy array\n",
    "\n",
    "# Replace the odd elements with -2\n",
    "arr[arr % 2 == 1] = -2\n",
    "\n",
    "print(arr)\n"
   ]
  },
  {
   "cell_type": "markdown",
   "id": "fd40bf22",
   "metadata": {},
   "source": [
    "## In the numpyarray given below print all the elements ranging from 8 to 15.arr = [1,2,3,4,5,8,9,10,12,22,32,54,99,6,7]\n",
    "\n"
   ]
  },
  {
   "cell_type": "code",
   "execution_count": 3,
   "id": "e98b7b5f",
   "metadata": {},
   "outputs": [
    {
     "name": "stdout",
     "output_type": "stream",
     "text": [
      "[ 8  9 10 12]\n"
     ]
    }
   ],
   "source": [
    "import numpy as np\n",
    "\n",
    "arr = np.array([1, 2, 3, 4, 5, 8, 9, 10, 12, 22, 32, 54, 99, 6, 7])\n",
    "\n",
    "# Use boolean indexing to select elements in the specified range\n",
    "selected_elements = arr[(arr >= 8) & (arr <= 15)]\n",
    "\n",
    "# Print the selected elements\n",
    "print(selected_elements)\n"
   ]
  },
  {
   "cell_type": "markdown",
   "id": "7aeab732",
   "metadata": {},
   "source": [
    "## Create a 3*3 narray thatincludes numbersfrom 1 to 9 and swap columns1 and2."
   ]
  },
  {
   "cell_type": "code",
   "execution_count": 7,
   "id": "9b17cbf8",
   "metadata": {},
   "outputs": [
    {
     "name": "stdout",
     "output_type": "stream",
     "text": [
      "[[2 1 3]\n",
      " [5 4 6]\n",
      " [8 7 9]]\n"
     ]
    }
   ],
   "source": [
    "import numpy as np\n",
    "\n",
    "# Create a 3x3 NumPy array with numbers from 1 to 9\n",
    "original_array = np.array([[1, 2, 3],\n",
    "                            [4, 5, 6],\n",
    "                            [7, 8, 9]])\n",
    "\n",
    "# Swap columns 1 and 2\n",
    "swapped_array = original_array[:, [1, 0, 2]]\n",
    "\n",
    "# Print the swapped array\n",
    "print(swapped_array)\n"
   ]
  },
  {
   "cell_type": "markdown",
   "id": "18640ce4",
   "metadata": {},
   "source": [
    "## In the given numpyarray replace the NaN values with the average of columnsarr= np.array([[1.3, 2.5, 3.6, np.nan], [2.6, 3.3, np.nan, 5.5], [2.1, 3.2, 5.4, 6.5]])"
   ]
  },
  {
   "cell_type": "code",
   "execution_count": 8,
   "id": "3cef84ef",
   "metadata": {},
   "outputs": [
    {
     "name": "stdout",
     "output_type": "stream",
     "text": [
      "[[1.3 2.5 3.6 6. ]\n",
      " [2.6 3.3 4.5 5.5]\n",
      " [2.1 3.2 5.4 6.5]]\n"
     ]
    }
   ],
   "source": [
    "import numpy as np\n",
    "\n",
    "arr = np.array([[1.3, 2.5, 3.6, np.nan],\n",
    "                [2.6, 3.3, np.nan, 5.5],\n",
    "                [2.1, 3.2, 5.4, 6.5]])\n",
    "\n",
    "# Calculate the column-wise means, ignoring NaN values\n",
    "column_means = np.nanmean(arr, axis=0)\n",
    "\n",
    "# Find the indices of NaN values in the array\n",
    "nan_indices = np.isnan(arr)\n",
    "\n",
    "# Replace NaN values with the respective column means\n",
    "arr[nan_indices] = np.take(column_means, np.where(nan_indices)[1])\n",
    "\n",
    "# Print the array with NaN values replaced by column means\n",
    "print(arr)\n"
   ]
  },
  {
   "cell_type": "markdown",
   "id": "8837f7d2",
   "metadata": {},
   "source": [
    "## For the numpyarray given below perform the following operation:i.Convert the numpyarray into a numpymatrixii.Sort the values in a matrixarr = [[2,4,6],[1,3,5]]"
   ]
  },
  {
   "cell_type": "code",
   "execution_count": 10,
   "id": "a859b6ef",
   "metadata": {},
   "outputs": [
    {
     "name": "stdout",
     "output_type": "stream",
     "text": [
      "[[1 2 3 4 5 6]]\n"
     ]
    }
   ],
   "source": [
    "import numpy as np\n",
    "\n",
    "arr = np.array([[2, 4, 6], [1, 3, 5]])\n",
    "\n",
    "# Convert the NumPy array into a NumPy matrix\n",
    "matrix = np.matrix(arr)\n",
    "\n",
    "# Sort the values in the matrix\n",
    "sorted_matrix = np.sort(matrix, axis=None)\n",
    "\n",
    "# Print the sorted matrix\n",
    "print(sorted_matrix)\n"
   ]
  }
 ],
 "metadata": {
  "kernelspec": {
   "display_name": "Python 3 (ipykernel)",
   "language": "python",
   "name": "python3"
  },
  "language_info": {
   "codemirror_mode": {
    "name": "ipython",
    "version": 3
   },
   "file_extension": ".py",
   "mimetype": "text/x-python",
   "name": "python",
   "nbconvert_exporter": "python",
   "pygments_lexer": "ipython3",
   "version": "3.11.5"
  },
  "toc": {
   "base_numbering": 1,
   "nav_menu": {},
   "number_sections": true,
   "sideBar": true,
   "skip_h1_title": false,
   "title_cell": "Table of Contents",
   "title_sidebar": "Contents",
   "toc_cell": true,
   "toc_position": {},
   "toc_section_display": true,
   "toc_window_display": true
  }
 },
 "nbformat": 4,
 "nbformat_minor": 5
}

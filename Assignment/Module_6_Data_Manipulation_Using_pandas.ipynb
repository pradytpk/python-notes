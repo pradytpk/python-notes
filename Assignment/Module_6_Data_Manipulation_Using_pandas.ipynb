{
 "cells": [
  {
   "cell_type": "markdown",
   "id": "a0c929d6",
   "metadata": {
    "toc": true
   },
   "source": [
    "<h1>Table of Contents<span class=\"tocSkip\"></span></h1>\n",
    "<div class=\"toc\"><ul class=\"toc-item\"><li><span><a href=\"#Module-6:-Data-Manipulation-Using-pandas\" data-toc-modified-id=\"Module-6:-Data-Manipulation-Using-pandas-1\"><span class=\"toc-item-num\">1&nbsp;&nbsp;</span>Module 6: Data Manipulation Using pandas</a></span><ul class=\"toc-item\"><li><span><a href=\"#Extract-data-from-the-givenSalaryGender-CSV-fileand-store-the-data-from-each-column-in-a-separate-NumPy-array\" data-toc-modified-id=\"Extract-data-from-the-givenSalaryGender-CSV-fileand-store-the-data-from-each-column-in-a-separate-NumPy-array-1.1\"><span class=\"toc-item-num\">1.1&nbsp;&nbsp;</span>Extract data from the givenSalaryGender CSV fileand store the data from each column in a separate NumPy array</a></span></li><li><span><a href=\"#Find:\" data-toc-modified-id=\"Find:-1.2\"><span class=\"toc-item-num\">1.2&nbsp;&nbsp;</span>Find:</a></span></li><li><span><a href=\"#Store-the-&quot;Age&quot;and-&quot;Ph.D.&quot;columns-in-one-DataFrame-and-delete-the-data-of-all-people-who-don't-have-a-Ph.D.from-the-SalaryGender-CSV-file\" data-toc-modified-id=\"Store-the-&quot;Age&quot;and-&quot;Ph.D.&quot;columns-in-one-DataFrame-and-delete-the-data-of-all-people-who-don't-have-a-Ph.D.from-the-SalaryGender-CSV-file-1.3\"><span class=\"toc-item-num\">1.3&nbsp;&nbsp;</span>Store the \"Age\"and \"Ph.D.\"columns in one DataFrame and delete the data of all people who don't have a Ph.D.from the SalaryGender CSV file</a></span></li><li><span><a href=\"#Calculate-the-total-number-of-people-who-have-a-Ph.D.degreefrom-the-SalaryGender-CSV-file\" data-toc-modified-id=\"Calculate-the-total-number-of-people-who-have-a-Ph.D.degreefrom-the-SalaryGender-CSV-file-1.4\"><span class=\"toc-item-num\">1.4&nbsp;&nbsp;</span>Calculate the total number of people who have a Ph.D.degreefrom the SalaryGender CSV file</a></span></li><li><span><a href=\"#How--do--you-count-the-frequency--ofeach--value--appearingin-the--givenarray--of-integers?[0,-5,-4,-0,-4,-4,-3,-0,-0,-5,-2,-1,-1,-9]Answer:array([4,-2,-1,-1,-3,-2,-0,-0,-0,-1])-which-means-0-comes-4-times,-1-comes-2-times,-2-comes-1-time,-3-comes-1-time-and-so-on\" data-toc-modified-id=\"How--do--you-count-the-frequency--ofeach--value--appearingin-the--givenarray--of-integers?[0,-5,-4,-0,-4,-4,-3,-0,-0,-5,-2,-1,-1,-9]Answer:array([4,-2,-1,-1,-3,-2,-0,-0,-0,-1])-which-means-0-comes-4-times,-1-comes-2-times,-2-comes-1-time,-3-comes-1-time-and-so-on-1.5\"><span class=\"toc-item-num\">1.5&nbsp;&nbsp;</span>How  do  you count the frequency  ofeach  value  appearingin the  givenarray  of integers?[0, 5, 4, 0, 4, 4, 3, 0, 0, 5, 2, 1, 1, 9]Answer:array([4, 2, 1, 1, 3, 2, 0, 0, 0, 1]) which means 0 comes 4 times, 1 comes 2 times, 2 comes 1 time, 3 comes 1 time and so on</a></span></li><li><span><a href=\"#Create-a-NumPyarray-[[0,-1,-2],[-3,-4,-5],[-6,-7,-8],[-9,10,-11]])-and-filter-the-elements-greater-than-5\" data-toc-modified-id=\"Create-a-NumPyarray-[[0,-1,-2],[-3,-4,-5],[-6,-7,-8],[-9,10,-11]])-and-filter-the-elements-greater-than-5-1.6\"><span class=\"toc-item-num\">1.6&nbsp;&nbsp;</span>Create a NumPyarray [[0, 1, 2],[ 3, 4, 5],[ 6, 7, 8],[ 9,10, 11]]) and filter the elements greater than 5</a></span></li><li><span><a href=\"#Create-a-NumPyarray-having-NaN-(Not-a-Number)-and-print-it.array([-nan,---1.,---2.,--NaN,---3.,---4.,---5.])Print-the-same-array-omitting-all-elements,which-are-NaN\" data-toc-modified-id=\"Create-a-NumPyarray-having-NaN-(Not-a-Number)-and-print-it.array([-nan,---1.,---2.,--NaN,---3.,---4.,---5.])Print-the-same-array-omitting-all-elements,which-are-NaN-1.7\"><span class=\"toc-item-num\">1.7&nbsp;&nbsp;</span>Create a NumPyarray having NaN (Not a Number) and print it.array([ nan,   1.,   2.,  NaN,   3.,   4.,   5.])Print the same array omitting all elements,which are NaN</a></span></li><li><span><a href=\"#Create--a--10x10--array--with--random--values--and--find--the--minimum--and--maximum-values.\" data-toc-modified-id=\"Create--a--10x10--array--with--random--values--and--find--the--minimum--and--maximum-values.-1.8\"><span class=\"toc-item-num\">1.8&nbsp;&nbsp;</span>Create  a  10x10  array  with  random  values  and  find  the  minimum  and  maximum values.</a></span></li><li><span><a href=\"#Create-a-random-vector-of-size-30-and-find-the-mean-value.\" data-toc-modified-id=\"Create-a-random-vector-of-size-30-and-find-the-mean-value.-1.9\"><span class=\"toc-item-num\">1.9&nbsp;&nbsp;</span>Create a random vector of size 30 and find the mean value.</a></span></li><li><span><a href=\"#Create-a-NumPyarray--having--elements--0--to--10--And--negate--all--the--elements-between-3-and-9\" data-toc-modified-id=\"Create-a-NumPyarray--having--elements--0--to--10--And--negate--all--the--elements-between-3-and-9-1.10\"><span class=\"toc-item-num\">1.10&nbsp;&nbsp;</span>Create a NumPyarray  having  elements  0  to  10  And  negate  all  the  elements between 3 and 9</a></span></li><li><span><a href=\"#Create-a-random-array-of-3-rows-and-3-columns-and-sort-it-according-tothefirst,-second,or-thirdcolumn\" data-toc-modified-id=\"Create-a-random-array-of-3-rows-and-3-columns-and-sort-it-according-tothefirst,-second,or-thirdcolumn-1.11\"><span class=\"toc-item-num\">1.11&nbsp;&nbsp;</span>Create a random array of 3 rows and 3 columns and sort it according tothefirst, second,or thirdcolumn</a></span></li><li><span><a href=\"#Create-a-four-dimensions-arraytogetthesum-over-the-last-two-axes-at-once.\" data-toc-modified-id=\"Create-a-four-dimensions-arraytogetthesum-over-the-last-two-axes-at-once.-1.12\"><span class=\"toc-item-num\">1.12&nbsp;&nbsp;</span>Create a four dimensions arraytogetthesum over the last two axes at once.</a></span></li><li><span><a href=\"#Create-a-random-array-and-swap-two-rows-of-an-array\" data-toc-modified-id=\"Create-a-random-array-and-swap-two-rows-of-an-array-1.13\"><span class=\"toc-item-num\">1.13&nbsp;&nbsp;</span>Create a random array and swap two rows of an array</a></span></li><li><span><a href=\"#Create-a-random-matrix-and-compute-thematrix-rank.\" data-toc-modified-id=\"Create-a-random-matrix-and-compute-thematrix-rank.-1.14\"><span class=\"toc-item-num\">1.14&nbsp;&nbsp;</span>Create a random matrix and compute thematrix rank.</a></span></li><li><span><a href=\"#Case-Study\" data-toc-modified-id=\"Case-Study-1.15\"><span class=\"toc-item-num\">1.15&nbsp;&nbsp;</span>Case Study</a></span><ul class=\"toc-item\"><li><span><a href=\"#Data-collection\" data-toc-modified-id=\"Data-collection-1.15.1\"><span class=\"toc-item-num\">1.15.1&nbsp;&nbsp;</span>Data collection</a></span></li><li><span><a href=\"#Phase-2:-Group-data-by-school-ratings\" data-toc-modified-id=\"Phase-2:-Group-data-by-school-ratings-1.15.2\"><span class=\"toc-item-num\">1.15.2&nbsp;&nbsp;</span>Phase 2: Group data by school ratings</a></span></li><li><span><a href=\"#Data-Visualization\" data-toc-modified-id=\"Data-Visualization-1.15.3\"><span class=\"toc-item-num\">1.15.3&nbsp;&nbsp;</span>Data Visualization</a></span></li><li><span><a href=\"#Grouping-and-Aggregation\" data-toc-modified-id=\"Grouping-and-Aggregation-1.15.4\"><span class=\"toc-item-num\">1.15.4&nbsp;&nbsp;</span>Grouping and Aggregation</a></span></li></ul></li></ul></li></ul></div>"
   ]
  },
  {
   "cell_type": "markdown",
   "id": "74724ff2",
   "metadata": {},
   "source": [
    "# Module 6: Data Manipulation Using pandas"
   ]
  },
  {
   "cell_type": "markdown",
   "id": "9feb16f5",
   "metadata": {},
   "source": [
    "## Extract data from the givenSalaryGender CSV fileand store the data from each column in a separate NumPy array"
   ]
  },
  {
   "cell_type": "code",
   "execution_count": 45,
   "id": "cdc7227b",
   "metadata": {},
   "outputs": [],
   "source": [
    "import pandas as pd\n",
    "import numpy as np\n",
    "import matplotlib.pyplot as plt"
   ]
  },
  {
   "cell_type": "code",
   "execution_count": 7,
   "id": "cbe404e1",
   "metadata": {},
   "outputs": [
    {
     "data": {
      "text/html": [
       "<div>\n",
       "<style scoped>\n",
       "    .dataframe tbody tr th:only-of-type {\n",
       "        vertical-align: middle;\n",
       "    }\n",
       "\n",
       "    .dataframe tbody tr th {\n",
       "        vertical-align: top;\n",
       "    }\n",
       "\n",
       "    .dataframe thead th {\n",
       "        text-align: right;\n",
       "    }\n",
       "</style>\n",
       "<table border=\"1\" class=\"dataframe\">\n",
       "  <thead>\n",
       "    <tr style=\"text-align: right;\">\n",
       "      <th></th>\n",
       "      <th>Salary</th>\n",
       "      <th>Gender</th>\n",
       "      <th>Age</th>\n",
       "      <th>PhD</th>\n",
       "    </tr>\n",
       "  </thead>\n",
       "  <tbody>\n",
       "    <tr>\n",
       "      <th>0</th>\n",
       "      <td>140.0</td>\n",
       "      <td>1</td>\n",
       "      <td>47</td>\n",
       "      <td>1</td>\n",
       "    </tr>\n",
       "    <tr>\n",
       "      <th>1</th>\n",
       "      <td>30.0</td>\n",
       "      <td>0</td>\n",
       "      <td>65</td>\n",
       "      <td>1</td>\n",
       "    </tr>\n",
       "    <tr>\n",
       "      <th>2</th>\n",
       "      <td>35.1</td>\n",
       "      <td>0</td>\n",
       "      <td>56</td>\n",
       "      <td>0</td>\n",
       "    </tr>\n",
       "    <tr>\n",
       "      <th>3</th>\n",
       "      <td>30.0</td>\n",
       "      <td>1</td>\n",
       "      <td>23</td>\n",
       "      <td>0</td>\n",
       "    </tr>\n",
       "    <tr>\n",
       "      <th>4</th>\n",
       "      <td>80.0</td>\n",
       "      <td>0</td>\n",
       "      <td>53</td>\n",
       "      <td>1</td>\n",
       "    </tr>\n",
       "  </tbody>\n",
       "</table>\n",
       "</div>"
      ],
      "text/plain": [
       "   Salary  Gender  Age  PhD\n",
       "0   140.0       1   47    1\n",
       "1    30.0       0   65    1\n",
       "2    35.1       0   56    0\n",
       "3    30.0       1   23    0\n",
       "4    80.0       0   53    1"
      ]
     },
     "execution_count": 7,
     "metadata": {},
     "output_type": "execute_result"
    }
   ],
   "source": [
    "data = pd.read_csv('C:\\Study\\Data Science\\Datasets\\SalaryGender.csv')\n",
    "data.head()"
   ]
  },
  {
   "cell_type": "code",
   "execution_count": 9,
   "id": "c519bb71",
   "metadata": {},
   "outputs": [
    {
     "name": "stdout",
     "output_type": "stream",
     "text": [
      "Salary: [140.    30.    35.1   30.    80.    30.    60.    31.1  125.    51.\n",
      "   3.    46.   150.     3.   130.    15.   130.    84.   190.    74.\n",
      "  73.    10.    50.     7.     9.5   15.2   28.6   20.    72.    81.\n",
      " 100.    90.    90.    35.    30.    25.    52.     9.    63.    72.\n",
      "  16.    92.   106.     2.5    9.    32.    32.    55.    52.    28.\n",
      "  20.    14.7   22.3   34.8   84.    19.   160.    65.    55.     4.6\n",
      " 102.    20.    62.    55.    45.6   40.    24.    35.    48.    20.\n",
      "  40.7   15.     0.25 152.    39.8   12.    30.   120.     1.7   36.\n",
      "  96.    38.    90.     9.    25.8   22.    38.8   72.    89.    41.\n",
      "  89.    25.    52.   115.    66.    18.6  152.     1.8   35.     4.  ]\n",
      "Gender: [1 0 0 1 0 0 1 0 1 1 1 1 1 1 1 0 1 0 1 1 0 0 0 0 0 1 1 0 0 1 0 0 0 1 0 1 0\n",
      " 0 1 1 1 0 1 1 0 0 0 1 1 0 0 0 1 0 0 1 1 0 0 1 1 1 0 1 1 0 0 1 0 0 0 1 0 1\n",
      " 0 0 1 1 1 1 1 0 1 1 0 0 0 1 1 0 1 0 1 0 0 1 1 1 0 0]\n",
      "Age: [47 65 56 23 53 27 53 30 44 63 22 59 60 28 65 25 65 47 66 45 46 24 60 63\n",
      " 27 66 36 30 51 65 45 52 54 30 52 26 49 22 34 60 28 58 77 67 27 48 45 49\n",
      " 36 65 32 49 67 22 49 43 61 43 52 51 66 29 62 56 61 56 41 24 60 43 57 23\n",
      " 53 71 20 27 69 58 37 32 33 32 60 71 30 62 54 42 62 51 71 29 55 54 55 26\n",
      " 56 28 44 24]\n",
      "PhD: [1 1 0 0 1 0 0 0 1 1 0 0 1 0 0 0 0 1 1 1 0 0 0 0 0 1 1 0 1 1 1 1 1 0 0 0 0\n",
      " 0 1 0 0 1 1 0 0 1 0 1 0 1 0 0 0 0 1 0 1 1 0 0 1 0 0 1 0 0 0 0 0 0 0 0 0 1\n",
      " 0 0 1 1 0 1 1 1 0 0 0 0 0 1 0 1 1 0 1 0 1 0 1 0 0 0]\n"
     ]
    }
   ],
   "source": [
    "# Convert columns into NumPy arrays\n",
    "salary = np.array(data['Salary'])\n",
    "gender = np.array(data['Gender'])\n",
    "age = np.array(data['Age'])\n",
    "phd = np.array(data['PhD'])\n",
    "\n",
    "# Print the NumPy arrays\n",
    "print(\"Salary:\", salary)\n",
    "print(\"Gender:\", gender)\n",
    "print(\"Age:\", age)\n",
    "print(\"PhD:\", phd)\n"
   ]
  },
  {
   "cell_type": "markdown",
   "id": "cbc3fb39",
   "metadata": {},
   "source": [
    "## Find:\n",
    "1. The number of men with a Ph.D.\n",
    "2. The number of women with a Ph.D"
   ]
  },
  {
   "cell_type": "code",
   "execution_count": 10,
   "id": "6fddbb1c",
   "metadata": {},
   "outputs": [
    {
     "name": "stdout",
     "output_type": "stream",
     "text": [
      "Number of men with a Ph.D: 24\n",
      "Number of women with a Ph.D: 15\n"
     ]
    }
   ],
   "source": [
    "# Find the number of men with a Ph.D.\n",
    "men_with_phd = data[(data['Gender'] == 1) & (data['PhD'] == 1)]\n",
    "num_men_with_phd = len(men_with_phd)\n",
    "\n",
    "# Find the number of women with a Ph.D.\n",
    "women_with_phd = data[(data['Gender'] == 0) & (data['PhD'] == 1)]\n",
    "num_women_with_phd = len(women_with_phd)\n",
    "\n",
    "print(\"Number of men with a Ph.D:\", num_men_with_phd)\n",
    "print(\"Number of women with a Ph.D:\", num_women_with_phd)"
   ]
  },
  {
   "cell_type": "markdown",
   "id": "f100d0fc",
   "metadata": {},
   "source": [
    "## Store the \"Age\"and \"Ph.D.\"columns in one DataFrame and delete the data of all people who don't have a Ph.D.from the SalaryGender CSV file"
   ]
  },
  {
   "cell_type": "code",
   "execution_count": 12,
   "id": "1b8130b5",
   "metadata": {},
   "outputs": [
    {
     "name": "stdout",
     "output_type": "stream",
     "text": [
      "    Age  PhD\n",
      "0    47    1\n",
      "1    65    1\n",
      "4    53    1\n",
      "8    44    1\n",
      "9    63    1\n",
      "12   60    1\n",
      "17   47    1\n",
      "18   66    1\n",
      "19   45    1\n",
      "25   66    1\n",
      "26   36    1\n",
      "28   51    1\n",
      "29   65    1\n",
      "30   45    1\n",
      "31   52    1\n",
      "32   54    1\n",
      "38   34    1\n",
      "41   58    1\n",
      "42   77    1\n",
      "45   48    1\n",
      "47   49    1\n",
      "49   65    1\n",
      "54   49    1\n",
      "56   61    1\n",
      "57   43    1\n",
      "60   66    1\n",
      "63   56    1\n",
      "73   71    1\n",
      "76   69    1\n",
      "77   58    1\n",
      "79   32    1\n",
      "80   33    1\n",
      "81   32    1\n",
      "87   42    1\n",
      "89   51    1\n",
      "90   71    1\n",
      "92   55    1\n",
      "94   55    1\n",
      "96   56    1\n"
     ]
    }
   ],
   "source": [
    "# Create a new DataFrame with only \"Age\" and \"Ph.D.\" columns\n",
    "age_phd_df = data[['Age', 'PhD']]\n",
    "\n",
    "# Filter the data to keep only rows where \"Ph.D.\" is 1 (indicating they have a Ph.D.)\n",
    "filtered_age_phd_df = age_phd_df[age_phd_df['PhD'] == 1]\n",
    "\n",
    "# Print the resulting DataFrame\n",
    "print(filtered_age_phd_df)"
   ]
  },
  {
   "cell_type": "markdown",
   "id": "33cf7969",
   "metadata": {},
   "source": [
    "## Calculate the total number of people who have a Ph.D.degreefrom the SalaryGender CSV file"
   ]
  },
  {
   "cell_type": "code",
   "execution_count": 16,
   "id": "315ac406",
   "metadata": {},
   "outputs": [
    {
     "name": "stdout",
     "output_type": "stream",
     "text": [
      "Total number of people with a Ph.D.: 39\n"
     ]
    }
   ],
   "source": [
    "# Count the number of people with a Ph.D. (where \"PhD\" is 1)\n",
    "total_phd_count = len(data[data['PhD'] == 1])\n",
    "\n",
    "# Print the total number of people with a Ph.D.\n",
    "print(\"Total number of people with a Ph.D.:\", total_phd_count)"
   ]
  },
  {
   "cell_type": "markdown",
   "id": "392b3a60",
   "metadata": {},
   "source": [
    "## How  do  you count the frequency  ofeach  value  appearingin the  givenarray  of integers?[0, 5, 4, 0, 4, 4, 3, 0, 0, 5, 2, 1, 1, 9]Answer:array([4, 2, 1, 1, 3, 2, 0, 0, 0, 1]) which means 0 comes 4 times, 1 comes 2 times, 2 comes 1 time, 3 comes 1 time and so on"
   ]
  },
  {
   "cell_type": "code",
   "execution_count": 18,
   "id": "cff79359",
   "metadata": {},
   "outputs": [
    {
     "name": "stdout",
     "output_type": "stream",
     "text": [
      "[4 2 1 1 3 2 0 0 0 1]\n"
     ]
    }
   ],
   "source": [
    "# Given array\n",
    "arr = [0, 5, 4, 0, 4, 4, 3, 0, 0, 5, 2, 1, 1, 9]\n",
    "\n",
    "# Calculate the frequency of each unique value in the array\n",
    "unique_values, counts = np.unique(arr, return_counts=True)\n",
    "\n",
    "# Create a result array that represents the frequency of each value\n",
    "result = np.zeros(max(unique_values) + 1, dtype=int)\n",
    "result[unique_values] = counts\n",
    "\n",
    "# Print the result array\n",
    "print(result)"
   ]
  },
  {
   "cell_type": "markdown",
   "id": "e5edb95f",
   "metadata": {},
   "source": [
    "## Create a NumPyarray [[0, 1, 2],[ 3, 4, 5],[ 6, 7, 8],[ 9,10, 11]]) and filter the elements greater than 5"
   ]
  },
  {
   "cell_type": "code",
   "execution_count": 20,
   "id": "0e70353e",
   "metadata": {},
   "outputs": [
    {
     "name": "stdout",
     "output_type": "stream",
     "text": [
      "[ 6  7  8  9 10 11]\n"
     ]
    }
   ],
   "source": [
    "# Create the NumPy array\n",
    "arr = np.array([[0, 1, 2], [3, 4, 5], [6, 7, 8], [9, 10, 11]])\n",
    "\n",
    "# Filter the elements greater than 5 using boolean indexing\n",
    "filtered_arr = arr[arr > 5]\n",
    "\n",
    "# Print the filtered array\n",
    "print(filtered_arr)"
   ]
  },
  {
   "cell_type": "markdown",
   "id": "2a3ca883",
   "metadata": {},
   "source": [
    "## Create a NumPyarray having NaN (Not a Number) and print it.array([ nan,   1.,   2.,  NaN,   3.,   4.,   5.])Print the same array omitting all elements,which are NaN"
   ]
  },
  {
   "cell_type": "code",
   "execution_count": 23,
   "id": "29d7b1b4",
   "metadata": {},
   "outputs": [
    {
     "name": "stdout",
     "output_type": "stream",
     "text": [
      "Original Array:\n",
      "[nan  1.  2. nan  3.  4.  5.]\n",
      "\n",
      "Array without NaN elements:\n",
      "[1. 2. 3. 4. 5.]\n"
     ]
    }
   ],
   "source": [
    "# Create a NumPy array with NaN values\n",
    "arr = np.array([np.nan, 1., 2., np.nan, 3., 4., 5.])\n",
    "\n",
    "# Print the original array\n",
    "print(\"Original Array:\")\n",
    "print(arr)\n",
    "\n",
    "# Omit NaN elements and print the array\n",
    "filtered_arr = arr[~np.isnan(arr)]\n",
    "print(\"\\nArray without NaN elements:\")\n",
    "print(filtered_arr)\n"
   ]
  },
  {
   "cell_type": "markdown",
   "id": "55a4c54c",
   "metadata": {},
   "source": [
    "## Create  a  10x10  array  with  random  values  and  find  the  minimum  and  maximum values."
   ]
  },
  {
   "cell_type": "code",
   "execution_count": 24,
   "id": "846770a1",
   "metadata": {},
   "outputs": [
    {
     "name": "stdout",
     "output_type": "stream",
     "text": [
      "Minimum value: 0.005556096961676027\n",
      "Maximum value: 0.9934299057194927\n"
     ]
    }
   ],
   "source": [
    "# Create a 10x10 array with random values between 0 and 1\n",
    "random_array = np.random.rand(10, 10)\n",
    "\n",
    "# Find the minimum and maximum values in the array\n",
    "min_value = np.min(random_array)\n",
    "max_value = np.max(random_array)\n",
    "\n",
    "# Print the minimum and maximum values\n",
    "print(\"Minimum value:\", min_value)\n",
    "print(\"Maximum value:\", max_value)"
   ]
  },
  {
   "cell_type": "markdown",
   "id": "f38c1eab",
   "metadata": {},
   "source": [
    "## Create a random vector of size 30 and find the mean value."
   ]
  },
  {
   "cell_type": "code",
   "execution_count": 25,
   "id": "340fb9af",
   "metadata": {},
   "outputs": [
    {
     "name": "stdout",
     "output_type": "stream",
     "text": [
      "Mean value: 0.5200530250872183\n"
     ]
    }
   ],
   "source": [
    "random_vector = np.random.rand(30)\n",
    "\n",
    "# Calculate the mean value of the vector\n",
    "mean_value = np.mean(random_vector)\n",
    "\n",
    "# Print the mean value\n",
    "print(\"Mean value:\", mean_value)"
   ]
  },
  {
   "cell_type": "markdown",
   "id": "3517ae8b",
   "metadata": {},
   "source": [
    "## Create a NumPyarray  having  elements  0  to  10  And  negate  all  the  elements between 3 and 9"
   ]
  },
  {
   "cell_type": "code",
   "execution_count": 26,
   "id": "c191abc5",
   "metadata": {},
   "outputs": [
    {
     "name": "stdout",
     "output_type": "stream",
     "text": [
      "[ 0  1  2 -3 -4 -5 -6 -7 -8 -9 10]\n"
     ]
    }
   ],
   "source": [
    "# Create a NumPy array with elements from 0 to 10\n",
    "arr = np.arange(11)\n",
    "\n",
    "# Negate elements between 3 and 9\n",
    "arr[(arr >= 3) & (arr <= 9)] *= -1\n",
    "\n",
    "# Print the modified array\n",
    "print(arr)"
   ]
  },
  {
   "cell_type": "markdown",
   "id": "80ad017d",
   "metadata": {},
   "source": [
    "## Create a random array of 3 rows and 3 columns and sort it according tothefirst, second,or thirdcolumn"
   ]
  },
  {
   "cell_type": "code",
   "execution_count": 28,
   "id": "670880bf",
   "metadata": {},
   "outputs": [
    {
     "name": "stdout",
     "output_type": "stream",
     "text": [
      "Original Array:\n",
      "[[0.88935314 0.77789418 0.24538047]\n",
      " [0.20586198 0.25263284 0.02184739]\n",
      " [0.24593749 0.99159852 0.43089525]]\n",
      "\n",
      "Sorted by First Column:\n",
      "[[0.20586198 0.25263284 0.02184739]\n",
      " [0.24593749 0.99159852 0.43089525]\n",
      " [0.88935314 0.77789418 0.24538047]]\n",
      "\n",
      "Sorted by Second Column:\n",
      "[[0.20586198 0.25263284 0.02184739]\n",
      " [0.88935314 0.77789418 0.24538047]\n",
      " [0.24593749 0.99159852 0.43089525]]\n",
      "\n",
      "Sorted by Third Column:\n",
      "[[0.20586198 0.25263284 0.02184739]\n",
      " [0.88935314 0.77789418 0.24538047]\n",
      " [0.24593749 0.99159852 0.43089525]]\n"
     ]
    }
   ],
   "source": [
    "# Create a random 3x3 array\n",
    "random_array = np.random.rand(3, 3)\n",
    "\n",
    "# Print the original array\n",
    "print(\"Original Array:\")\n",
    "print(random_array)\n",
    "\n",
    "# Sort based on the first column (axis=0)\n",
    "sorted_by_first_column = random_array[random_array[:, 0].argsort()]\n",
    "\n",
    "# Sort based on the second column (axis=0)\n",
    "sorted_by_second_column = random_array[random_array[:, 1].argsort()]\n",
    "\n",
    "# Sort based on the third column (axis=0)\n",
    "sorted_by_third_column = random_array[random_array[:, 2].argsort()]\n",
    "\n",
    "# Print the sorted arrays\n",
    "print(\"\\nSorted by First Column:\")\n",
    "print(sorted_by_first_column)\n",
    "\n",
    "print(\"\\nSorted by Second Column:\")\n",
    "print(sorted_by_second_column)\n",
    "\n",
    "print(\"\\nSorted by Third Column:\")\n",
    "print(sorted_by_third_column)"
   ]
  },
  {
   "cell_type": "markdown",
   "id": "6098da35",
   "metadata": {},
   "source": [
    "## Create a four dimensions arraytogetthesum over the last two axes at once."
   ]
  },
  {
   "cell_type": "code",
   "execution_count": 29,
   "id": "4878fb11",
   "metadata": {},
   "outputs": [
    {
     "name": "stdout",
     "output_type": "stream",
     "text": [
      "Original Array:\n",
      "[[[[0.66275555 0.55658261]\n",
      "   [0.59591496 0.24065115]]\n",
      "\n",
      "  [[0.61833625 0.49417057]\n",
      "   [0.34589777 0.67406097]]\n",
      "\n",
      "  [[0.55791748 0.35224076]\n",
      "   [0.48730477 0.76848879]]]\n",
      "\n",
      "\n",
      " [[[0.56369008 0.0379547 ]\n",
      "   [0.0508011  0.85856443]]\n",
      "\n",
      "  [[0.20681673 0.6589677 ]\n",
      "   [0.97929819 0.2330882 ]]\n",
      "\n",
      "  [[0.9533734  0.33398124]\n",
      "   [0.09761963 0.71292012]]]\n",
      "\n",
      "\n",
      " [[[0.11574365 0.98664114]\n",
      "   [0.54901678 0.68830949]]\n",
      "\n",
      "  [[0.91505403 0.51964533]\n",
      "   [0.08789954 0.08528518]]\n",
      "\n",
      "  [[0.26371667 0.99954738]\n",
      "   [0.41456909 0.00255958]]]\n",
      "\n",
      "\n",
      " [[[0.22100891 0.15588772]\n",
      "   [0.32972762 0.77860271]]\n",
      "\n",
      "  [[0.84058778 0.54098634]\n",
      "   [0.82889401 0.80999531]]\n",
      "\n",
      "  [[0.66652221 0.46616937]\n",
      "   [0.94931197 0.40978679]]]]\n",
      "\n",
      "Sum over Last Two Axes:\n",
      "[[2.05590427 2.13246557 2.1659518 ]\n",
      " [1.51101032 2.07817083 2.09789439]\n",
      " [2.33971106 1.60788407 1.68039272]\n",
      " [1.48522696 3.02046343 2.49179035]]\n"
     ]
    }
   ],
   "source": [
    "# Create a random four-dimensional array (4x3x2x2)\n",
    "four_dim_array = np.random.rand(4, 3, 2, 2)\n",
    "\n",
    "# Sum over the last two axes at once\n",
    "sum_over_last_two_axes = np.sum(four_dim_array, axis=(-2, -1))\n",
    "\n",
    "# Print the original array and the sum\n",
    "print(\"Original Array:\")\n",
    "print(four_dim_array)\n",
    "print(\"\\nSum over Last Two Axes:\")\n",
    "print(sum_over_last_two_axes)"
   ]
  },
  {
   "cell_type": "markdown",
   "id": "eb06af4f",
   "metadata": {},
   "source": [
    "## Create a random array and swap two rows of an array"
   ]
  },
  {
   "cell_type": "code",
   "execution_count": 30,
   "id": "3855c325",
   "metadata": {},
   "outputs": [
    {
     "name": "stdout",
     "output_type": "stream",
     "text": [
      "Original Array:\n",
      "[[0.65978105 0.19056843 0.60697874 0.3705501  0.35230527]\n",
      " [0.11597745 0.65871347 0.00712165 0.2646264  0.63528301]\n",
      " [0.71087408 0.45689773 0.66115251 0.79822893 0.23953312]]\n",
      "\n",
      "Array after Swapping Rows 0 and 1:\n",
      "[[0.11597745 0.65871347 0.00712165 0.2646264  0.63528301]\n",
      " [0.65978105 0.19056843 0.60697874 0.3705501  0.35230527]\n",
      " [0.71087408 0.45689773 0.66115251 0.79822893 0.23953312]]\n"
     ]
    }
   ],
   "source": [
    "# Create a random 2D array, for example, a 3x5 array\n",
    "random_array = np.random.rand(3, 5)\n",
    "\n",
    "# Print the original array\n",
    "print(\"Original Array:\")\n",
    "print(random_array)\n",
    "\n",
    "# Swap two rows, for example, swapping rows 0 and 1\n",
    "random_array[[0, 1]] = random_array[[1, 0]]\n",
    "\n",
    "# Print the array after swapping\n",
    "print(\"\\nArray after Swapping Rows 0 and 1:\")\n",
    "print(random_array)"
   ]
  },
  {
   "cell_type": "markdown",
   "id": "1c120c7a",
   "metadata": {},
   "source": [
    "## Create a random matrix and compute thematrix rank. "
   ]
  },
  {
   "cell_type": "code",
   "execution_count": 31,
   "id": "95c50758",
   "metadata": {},
   "outputs": [
    {
     "name": "stdout",
     "output_type": "stream",
     "text": [
      "Original Matrix:\n",
      "[[0.14491307 0.64565538 0.97766334 0.762407  ]\n",
      " [0.22876611 0.2691176  0.06928321 0.32160321]\n",
      " [0.770062   0.67718217 0.13693518 0.56470235]\n",
      " [0.44585057 0.96575307 0.41161116 0.42701064]]\n",
      "\n",
      "Matrix Rank: 4\n"
     ]
    }
   ],
   "source": [
    "# Create a random matrix, for example, a 4x4 matrix\n",
    "random_matrix = np.random.rand(4, 4)\n",
    "\n",
    "# Print the original matrix\n",
    "print(\"Original Matrix:\")\n",
    "print(random_matrix)\n",
    "\n",
    "# Compute the matrix rank\n",
    "matrix_rank = np.linalg.matrix_rank(random_matrix)\n",
    "\n",
    "# Print the matrix rank\n",
    "print(\"\\nMatrix Rank:\", matrix_rank)"
   ]
  },
  {
   "cell_type": "markdown",
   "id": "7ec56999",
   "metadata": {},
   "source": [
    "## Case Study\n",
    "Assuming you are a public-school administrator, you are tasked with analyzing various school outcomes in Tennessee using pandas. Some schools in your state of Tennessee are performing below average academically. Your superintendent, under pressure from frustrated parents and voters, has approached you with the task of understanding why these schools are underperforming. To improve school performance, you need to learn more about these schools and their students, just as a business needs to understand its strengths and weaknesses and its customers. Though you are eager to build an impressive explanatory model, you know the importance of conducting preliminary research to prevent possible pitfalls or blind spots. Thus, you engage in thorough exploratory analysis, which includes:\n",
    "\n",
    "Phase 1: Data Collection\n",
    "Here is the data of every public school in middle Tennessee. The data also includes various demographic, school faculty, and income variables. You need to convert the data into useful information.\n",
    "\n",
    "Read the data into the pandas DataFrame.\n",
    "Describe the data to find more details.\n",
    "Phase 2: Group Data by School Ratings\n",
    "Select indicators, which describe school administration (e.g., stu_teach_ratio) or the student body (e.g., reduced_lunch). Reduced_lunch is a variable that measures the average percentage of students (per school) enrolled in a federal program providing lunch to students from impoverished households. In short, reduced_lunch is a good proxy for household income. Separate reduced_lunch and group the data by school_rating using the pandas groupby() function.\n",
    "\n",
    "Phase 3: Correlation Analysis\n",
    "Find  the  correlation  betweenschool_ratingand reduced_lunch.  The  values  in  the correlation matrix table will be between -1 and 1. A value of -1 indicates the strongest possible negative correlation, meaning as one variable decreases,the other increases. And a value of 1 indicates the opposite.\n",
    "\n",
    "Phase 4:Scatter plotFind  the  relationship  betweenschool_ratingandreduced_lunch.Plot  a  graph  with the two variables on a scatter plot. Each dot represents a school. The placement of the dot  represents  theschool's  rating  (Y-axis)  and  the  percentage  of  its  students  on reduced  lunch  (X-axis).  The  downward  trend  line  shows  the  negative correlation betweenschool_ratingandreduced_lunch(as  one  increases,  the  other  decreases). The    slope    of    the    trend    line    indicates    how    muchschool_ratingdecreases \n",
    "asreduced_lunchincreases.  A  steeper  slope  would  indicate  that  a  small  change inreduced_lunchhas  a  big  impact  onschool_rating,while  a  more  horizontal  slope would  indicate  that  the  same  small  change  inreduced_lunchhas  a  smaller  impact onschool_rating.\n",
    "\n",
    "Phase 5: Correlation matrixRed  cells  indicate a positive  correlation;  blue  cells  indicate a negative  correlation; white cells indicate no correlation. The darker the colors, the stronger the correlation (positive  or  negative)  between  those  two  variables.  Draw  a  graph  of the correlation matrix having all the important fields of the DataFrame."
   ]
  },
  {
   "cell_type": "code",
   "execution_count": 34,
   "id": "9d80714b",
   "metadata": {},
   "outputs": [],
   "source": [
    "data = pd.read_csv('C:\\Study\\Data Science\\Datasets\\ScoreFinal.csv')"
   ]
  },
  {
   "cell_type": "code",
   "execution_count": 35,
   "id": "e3700d77",
   "metadata": {},
   "outputs": [
    {
     "data": {
      "text/html": [
       "<div>\n",
       "<style scoped>\n",
       "    .dataframe tbody tr th:only-of-type {\n",
       "        vertical-align: middle;\n",
       "    }\n",
       "\n",
       "    .dataframe tbody tr th {\n",
       "        vertical-align: top;\n",
       "    }\n",
       "\n",
       "    .dataframe thead th {\n",
       "        text-align: right;\n",
       "    }\n",
       "</style>\n",
       "<table border=\"1\" class=\"dataframe\">\n",
       "  <thead>\n",
       "    <tr style=\"text-align: right;\">\n",
       "      <th></th>\n",
       "      <th>Score</th>\n",
       "      <th>Age</th>\n",
       "      <th>Subject</th>\n",
       "      <th>Sex</th>\n",
       "      <th>ID</th>\n",
       "    </tr>\n",
       "  </thead>\n",
       "  <tbody>\n",
       "    <tr>\n",
       "      <th>0</th>\n",
       "      <td>88.0</td>\n",
       "      <td>18</td>\n",
       "      <td>Maths</td>\n",
       "      <td>1</td>\n",
       "      <td>1</td>\n",
       "    </tr>\n",
       "    <tr>\n",
       "      <th>1</th>\n",
       "      <td>85.0</td>\n",
       "      <td>19</td>\n",
       "      <td>Maths</td>\n",
       "      <td>1</td>\n",
       "      <td>2</td>\n",
       "    </tr>\n",
       "    <tr>\n",
       "      <th>2</th>\n",
       "      <td>45.0</td>\n",
       "      <td>19</td>\n",
       "      <td>Maths</td>\n",
       "      <td>1</td>\n",
       "      <td>3</td>\n",
       "    </tr>\n",
       "    <tr>\n",
       "      <th>3</th>\n",
       "      <td>82.0</td>\n",
       "      <td>18</td>\n",
       "      <td>Maths</td>\n",
       "      <td>1</td>\n",
       "      <td>4</td>\n",
       "    </tr>\n",
       "    <tr>\n",
       "      <th>4</th>\n",
       "      <td>82.0</td>\n",
       "      <td>18</td>\n",
       "      <td>Maths</td>\n",
       "      <td>2</td>\n",
       "      <td>5</td>\n",
       "    </tr>\n",
       "  </tbody>\n",
       "</table>\n",
       "</div>"
      ],
      "text/plain": [
       "   Score  Age Subject  Sex  ID\n",
       "0   88.0   18   Maths    1   1\n",
       "1   85.0   19   Maths    1   2\n",
       "2   45.0   19   Maths    1   3\n",
       "3   82.0   18   Maths    1   4\n",
       "4   82.0   18   Maths    2   5"
      ]
     },
     "execution_count": 35,
     "metadata": {},
     "output_type": "execute_result"
    }
   ],
   "source": [
    "data.head()"
   ]
  },
  {
   "cell_type": "code",
   "execution_count": 37,
   "id": "35d1015c",
   "metadata": {},
   "outputs": [
    {
     "name": "stdout",
     "output_type": "stream",
     "text": [
      "<class 'pandas.core.frame.DataFrame'>\n",
      "RangeIndex: 1797 entries, 0 to 1796\n",
      "Data columns (total 5 columns):\n",
      " #   Column   Non-Null Count  Dtype  \n",
      "---  ------   --------------  -----  \n",
      " 0   Score    1797 non-null   float64\n",
      " 1   Age      1797 non-null   int64  \n",
      " 2   Subject  1797 non-null   object \n",
      " 3   Sex      1797 non-null   int64  \n",
      " 4   ID       1797 non-null   int64  \n",
      "dtypes: float64(1), int64(3), object(1)\n",
      "memory usage: 70.3+ KB\n"
     ]
    }
   ],
   "source": [
    "# Get information about the data types and missing values\n",
    "data.info()"
   ]
  },
  {
   "cell_type": "code",
   "execution_count": 38,
   "id": "5b1450ee",
   "metadata": {},
   "outputs": [
    {
     "data": {
      "text/html": [
       "<div>\n",
       "<style scoped>\n",
       "    .dataframe tbody tr th:only-of-type {\n",
       "        vertical-align: middle;\n",
       "    }\n",
       "\n",
       "    .dataframe tbody tr th {\n",
       "        vertical-align: top;\n",
       "    }\n",
       "\n",
       "    .dataframe thead th {\n",
       "        text-align: right;\n",
       "    }\n",
       "</style>\n",
       "<table border=\"1\" class=\"dataframe\">\n",
       "  <thead>\n",
       "    <tr style=\"text-align: right;\">\n",
       "      <th></th>\n",
       "      <th>Score</th>\n",
       "      <th>Age</th>\n",
       "      <th>Sex</th>\n",
       "      <th>ID</th>\n",
       "    </tr>\n",
       "  </thead>\n",
       "  <tbody>\n",
       "    <tr>\n",
       "      <th>count</th>\n",
       "      <td>1797.000000</td>\n",
       "      <td>1797.000000</td>\n",
       "      <td>1797.000000</td>\n",
       "      <td>1797.000000</td>\n",
       "    </tr>\n",
       "    <tr>\n",
       "      <th>mean</th>\n",
       "      <td>70.440735</td>\n",
       "      <td>19.121870</td>\n",
       "      <td>1.198664</td>\n",
       "      <td>300.000000</td>\n",
       "    </tr>\n",
       "    <tr>\n",
       "      <th>std</th>\n",
       "      <td>17.628228</td>\n",
       "      <td>1.051648</td>\n",
       "      <td>0.399106</td>\n",
       "      <td>172.964297</td>\n",
       "    </tr>\n",
       "    <tr>\n",
       "      <th>min</th>\n",
       "      <td>0.000000</td>\n",
       "      <td>18.000000</td>\n",
       "      <td>1.000000</td>\n",
       "      <td>1.000000</td>\n",
       "    </tr>\n",
       "    <tr>\n",
       "      <th>25%</th>\n",
       "      <td>60.000000</td>\n",
       "      <td>18.000000</td>\n",
       "      <td>1.000000</td>\n",
       "      <td>150.000000</td>\n",
       "    </tr>\n",
       "    <tr>\n",
       "      <th>50%</th>\n",
       "      <td>75.000000</td>\n",
       "      <td>19.000000</td>\n",
       "      <td>1.000000</td>\n",
       "      <td>300.000000</td>\n",
       "    </tr>\n",
       "    <tr>\n",
       "      <th>75%</th>\n",
       "      <td>85.000000</td>\n",
       "      <td>20.000000</td>\n",
       "      <td>1.000000</td>\n",
       "      <td>450.000000</td>\n",
       "    </tr>\n",
       "    <tr>\n",
       "      <th>max</th>\n",
       "      <td>95.000000</td>\n",
       "      <td>21.000000</td>\n",
       "      <td>2.000000</td>\n",
       "      <td>599.000000</td>\n",
       "    </tr>\n",
       "  </tbody>\n",
       "</table>\n",
       "</div>"
      ],
      "text/plain": [
       "             Score          Age          Sex           ID\n",
       "count  1797.000000  1797.000000  1797.000000  1797.000000\n",
       "mean     70.440735    19.121870     1.198664   300.000000\n",
       "std      17.628228     1.051648     0.399106   172.964297\n",
       "min       0.000000    18.000000     1.000000     1.000000\n",
       "25%      60.000000    18.000000     1.000000   150.000000\n",
       "50%      75.000000    19.000000     1.000000   300.000000\n",
       "75%      85.000000    20.000000     1.000000   450.000000\n",
       "max      95.000000    21.000000     2.000000   599.000000"
      ]
     },
     "execution_count": 38,
     "metadata": {},
     "output_type": "execute_result"
    }
   ],
   "source": [
    "data.describe()"
   ]
  },
  {
   "cell_type": "code",
   "execution_count": 39,
   "id": "060e8151",
   "metadata": {},
   "outputs": [
    {
     "data": {
      "text/plain": [
       "Score      0\n",
       "Age        0\n",
       "Subject    0\n",
       "Sex        0\n",
       "ID         0\n",
       "dtype: int64"
      ]
     },
     "execution_count": 39,
     "metadata": {},
     "output_type": "execute_result"
    }
   ],
   "source": [
    "data.isna().sum()"
   ]
  },
  {
   "cell_type": "code",
   "execution_count": 46,
   "id": "60e2430d",
   "metadata": {},
   "outputs": [
    {
     "data": {
      "image/png": "[encoded data removed]",
      "text/plain": [
       "<Figure size 640x480 with 1 Axes>"
      ]
     },
     "metadata": {},
     "output_type": "display_data"
    }
   ],
   "source": [
    "plt.scatter(data['Age'], data['Score'])\n",
    "plt.xlabel('Age')\n",
    "plt.ylabel('Score')\n",
    "plt.title('Scatter Plot: Age vs. Score')\n",
    "plt.show()"
   ]
  },
  {
   "cell_type": "code",
   "execution_count": 43,
   "id": "4af3e76d",
   "metadata": {},
   "outputs": [
    {
     "data": {
      "text/html": [
       "<div>\n",
       "<style scoped>\n",
       "    .dataframe tbody tr th:only-of-type {\n",
       "        vertical-align: middle;\n",
       "    }\n",
       "\n",
       "    .dataframe tbody tr th {\n",
       "        vertical-align: top;\n",
       "    }\n",
       "\n",
       "    .dataframe thead th {\n",
       "        text-align: right;\n",
       "    }\n",
       "</style>\n",
       "<table border=\"1\" class=\"dataframe\">\n",
       "  <thead>\n",
       "    <tr style=\"text-align: right;\">\n",
       "      <th></th>\n",
       "      <th>Score</th>\n",
       "      <th>Age</th>\n",
       "      <th>Sex</th>\n",
       "      <th>ID</th>\n",
       "    </tr>\n",
       "  </thead>\n",
       "  <tbody>\n",
       "    <tr>\n",
       "      <th>Score</th>\n",
       "      <td>1.000000</td>\n",
       "      <td>-0.026416</td>\n",
       "      <td>-1.276865e-02</td>\n",
       "      <td>2.497562e-02</td>\n",
       "    </tr>\n",
       "    <tr>\n",
       "      <th>Age</th>\n",
       "      <td>-0.026416</td>\n",
       "      <td>1.000000</td>\n",
       "      <td>1.391918e-02</td>\n",
       "      <td>-3.516199e-02</td>\n",
       "    </tr>\n",
       "    <tr>\n",
       "      <th>Sex</th>\n",
       "      <td>-0.012769</td>\n",
       "      <td>0.013919</td>\n",
       "      <td>1.000000e+00</td>\n",
       "      <td>8.549680e-16</td>\n",
       "    </tr>\n",
       "    <tr>\n",
       "      <th>ID</th>\n",
       "      <td>0.024976</td>\n",
       "      <td>-0.035162</td>\n",
       "      <td>8.549680e-16</td>\n",
       "      <td>1.000000e+00</td>\n",
       "    </tr>\n",
       "  </tbody>\n",
       "</table>\n",
       "</div>"
      ],
      "text/plain": [
       "          Score       Age           Sex            ID\n",
       "Score  1.000000 -0.026416 -1.276865e-02  2.497562e-02\n",
       "Age   -0.026416  1.000000  1.391918e-02 -3.516199e-02\n",
       "Sex   -0.012769  0.013919  1.000000e+00  8.549680e-16\n",
       "ID     0.024976 -0.035162  8.549680e-16  1.000000e+00"
      ]
     },
     "execution_count": 43,
     "metadata": {},
     "output_type": "execute_result"
    }
   ],
   "source": [
    "correlation_matrix = data.corr(numeric_only=True)\n",
    "correlation_matrix"
   ]
  },
  {
   "cell_type": "code",
   "execution_count": 48,
   "id": "6c2c9dc8",
   "metadata": {},
   "outputs": [
    {
     "data": {
      "text/plain": [
       "Subject\n",
       "Data Structue    67.454090\n",
       "Maths            73.976628\n",
       "Physics          69.891486\n",
       "Name: Score, dtype: float64"
      ]
     },
     "execution_count": 48,
     "metadata": {},
     "output_type": "execute_result"
    }
   ],
   "source": [
    "subject_means = data.groupby('Subject')['Score'].mean()\n",
    "subject_means"
   ]
  }
 ],
 "metadata": {
  "kernelspec": {
   "display_name": "Python 3 (ipykernel)",
   "language": "python",
   "name": "python3"
  },
  "language_info": {
   "codemirror_mode": {
    "name": "ipython",
    "version": 3
   },
   "file_extension": ".py",
   "mimetype": "text/x-python",
   "name": "python",
   "nbconvert_exporter": "python",
   "pygments_lexer": "ipython3",
   "version": "3.11.5"
  },
  "toc": {
   "base_numbering": 1,
   "nav_menu": {},
   "number_sections": true,
   "sideBar": true,
   "skip_h1_title": false,
   "title_cell": "Table of Contents",
   "title_sidebar": "Contents",
   "toc_cell": true,
   "toc_position": {},
   "toc_section_display": true,
   "toc_window_display": false
  }
 },
 "nbformat": 4,
 "nbformat_minor": 5
}

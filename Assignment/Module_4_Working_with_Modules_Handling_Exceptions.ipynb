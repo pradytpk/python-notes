{
 "cells": [
  {
   "cell_type": "markdown",
   "id": "bc602463",
   "metadata": {
    "toc": true
   },
   "source": [
    "<h1>Table of Contents<span class=\"tocSkip\"></span></h1>\n",
    "<div class=\"toc\"><ul class=\"toc-item\"><li><span><a href=\"#A-Robot-moves-in-a-Plane-starting-from-the-origin-point-(0,0).-The-robot-can-move-UP,-DOWN,-LEFT,-and-RIGHT.-The-trace-of-Robot-movement-is-as-given-following:UP-5DOWN-3LEFT-3RIGHT-2(The-numbers-after-directions-are-steps)--Write-a-program-to-compute-the-current-distance-from-the-origin-point-after-sequencing-of-movements.Hint:Use-the-math-module\" data-toc-modified-id=\"A-Robot-moves-in-a-Plane-starting-from-the-origin-point-(0,0).-The-robot-can-move-UP,-DOWN,-LEFT,-and-RIGHT.-The-trace-of-Robot-movement-is-as-given-following:UP-5DOWN-3LEFT-3RIGHT-2(The-numbers-after-directions-are-steps)--Write-a-program-to-compute-the-current-distance-from-the-origin-point-after-sequencing-of-movements.Hint:Use-the-math-module-1\"><span class=\"toc-item-num\">1&nbsp;&nbsp;</span>A Robot moves in a Plane starting from the origin point (0,0). The robot can move UP, DOWN, LEFT, and RIGHT. The trace of Robot movement is as given following:UP 5DOWN 3LEFT 3RIGHT 2(The numbers after directions are steps)  Write a program to compute the current distance from the origin point after sequencing of movements.Hint:Use the math module</a></span></li><li><span><a href=\"#Data-of-XYZ-company-is-stored-in-a-sorted-list.-Write-a-program-mto-search-for-specific-data-from-that-list.Hint:Use-if/elifto-deal-with-conditions\" data-toc-modified-id=\"Data-of-XYZ-company-is-stored-in-a-sorted-list.-Write-a-program-mto-search-for-specific-data-from-that-list.Hint:Use-if/elifto-deal-with-conditions-2\"><span class=\"toc-item-num\">2&nbsp;&nbsp;</span>Data of XYZ company is stored in a sorted list. Write a program mto search for specific data from that list.Hint:Use if/elifto deal with conditions</a></span></li><li><span><a href=\"#A-weather-forecasting-organization-wants-to-show-whether-it-is-day-or-night.-Write-a-program-to-findwhether-is-it-dark-outside-or-notbased-on-the-local-system-time.Hint:Use-the-time-module.\" data-toc-modified-id=\"A-weather-forecasting-organization-wants-to-show-whether-it-is-day-or-night.-Write-a-program-to-findwhether-is-it-dark-outside-or-notbased-on-the-local-system-time.Hint:Use-the-time-module.-3\"><span class=\"toc-item-num\">3&nbsp;&nbsp;</span>A weather forecasting organization wants to show whether it is day or night. Write a program to findwhether is it dark outside or notbased on the local system time.Hint:Use the time module.</a></span></li><li><span><a href=\"#Write-a-program-to-find-the-distancebetween-two-locations-when-their-latitude-and-longitudes-are-given.Hint:Use-the-math-module.5.Design-a-banking-system-software-withoptions-like-cash-withdrawal,-cash-credit,and-change-password.-The-software-must-display-appropriate-results-based-on-user-inputs.Hint:Use-if-else-statements-and-functions.\" data-toc-modified-id=\"Write-a-program-to-find-the-distancebetween-two-locations-when-their-latitude-and-longitudes-are-given.Hint:Use-the-math-module.5.Design-a-banking-system-software-withoptions-like-cash-withdrawal,-cash-credit,and-change-password.-The-software-must-display-appropriate-results-based-on-user-inputs.Hint:Use-if-else-statements-and-functions.-4\"><span class=\"toc-item-num\">4&nbsp;&nbsp;</span>Write a program to find the distancebetween two locations when their latitude and longitudes are given.Hint:Use the math module.5.Design a banking system software withoptions like cash withdrawal, cash credit,and change password. The software must display appropriate results based on user inputs.Hint:Use if else statements and functions.</a></span></li><li><span><a href=\"#Design-a-banking-system-software-withoptions-like-cash-withdrawal,-cash-credit,and-change-password.-The-software-must-display-appropriate-results-based-on-user-inputs.Hint:Use-if-else-statements-and-functions.\" data-toc-modified-id=\"Design-a-banking-system-software-withoptions-like-cash-withdrawal,-cash-credit,and-change-password.-The-software-must-display-appropriate-results-based-on-user-inputs.Hint:Use-if-else-statements-and-functions.-5\"><span class=\"toc-item-num\">5&nbsp;&nbsp;</span>Design a banking system software withoptions like cash withdrawal, cash credit,and change password. The software must display appropriate results based on user inputs.Hint:Use if else statements and functions.</a></span></li><li><span><a href=\"#Write-a-prograthatch-will-find-all-numbers-which-are-divisible-by-7-but-are-not-a-multiple-of-5,-between-2,000-and-3,200(both-included).-The-numbers-obtained-should-be-printed-in-a-comma-separated-sequence-on-a-single-line\" data-toc-modified-id=\"Write-a-prograthatch-will-find-all-numbers-which-are-divisible-by-7-but-are-not-a-multiple-of-5,-between-2,000-and-3,200(both-included).-The-numbers-obtained-should-be-printed-in-a-comma-separated-sequence-on-a-single-line-6\"><span class=\"toc-item-num\">6&nbsp;&nbsp;</span>Write a prograthatch will find all numbers which are divisible by 7 but are not a multiple of 5, between 2,000 and 3,200(both included). The numbers obtained should be printed in a comma-separated sequence on a single line</a></span></li><li><span><a href=\"#Write--a--prograthatch-that-can--compute--the--factorial-ofgiven--numbers.--Use-recursion-to-find-it.\" data-toc-modified-id=\"Write--a--prograthatch-that-can--compute--the--factorial-ofgiven--numbers.--Use-recursion-to-find-it.-7\"><span class=\"toc-item-num\">7&nbsp;&nbsp;</span>Write  a  prograthatch that can  compute  the  factorial ofgiven  numbers.  Use recursion to find it.</a></span></li><li><span><a href=\"#Write--a--program--that--calculates--and--prints--the-value--according--to--the--given-formula:Q-=-Square-root-of-[(2-*-C-*-D)/H]Following-are-the-fixed-values-of-C-and-H:-C-is-50.-H-is-30.D--is--the--variable--whose--values--should--be--input--to--your--program--in--a-comma-separatedsequence\" data-toc-modified-id=\"Write--a--program--that--calculates--and--prints--the-value--according--to--the--given-formula:Q-=-Square-root-of-[(2-*-C-*-D)/H]Following-are-the-fixed-values-of-C-and-H:-C-is-50.-H-is-30.D--is--the--variable--whose--values--should--be--input--to--your--program--in--a-comma-separatedsequence-8\"><span class=\"toc-item-num\">8&nbsp;&nbsp;</span>Write  a  program  that  calculates  and  prints  the value  according  to  the  given formula:Q = Square root of [(2 * C * D)/H]Following are the fixed values of C and H: C is 50. H is 30.D  is  the  variable  whose  values  should  be  input  to  your  program  in  a comma-separatedsequence</a></span></li><li><span><a href=\"#Write-a-program-thattakes-2-digits,-X,-Yas-input-and-generates-a-2-dimensional-array.-The-element-value-in-the-ith-row-and-jthcolumn-of-the-array-should-be-i*j.Note:I-=0,1,..,-X-1;-j=0,1,¡-Y-1.\" data-toc-modified-id=\"Write-a-program-thattakes-2-digits,-X,-Yas-input-and-generates-a-2-dimensional-array.-The-element-value-in-the-ith-row-and-jthcolumn-of-the-array-should-be-i*j.Note:I-=0,1,..,-X-1;-j=0,1,¡-Y-1.-9\"><span class=\"toc-item-num\">9&nbsp;&nbsp;</span>Write a program thattakes 2 digits, X, Yas input and generates a 2-dimensional array. The element value in the ith row and jthcolumn of the array should be i*j.Note:I =0,1,.., X-1; j=0,1,¡-Y-1.</a></span></li><li><span><a href=\"#Write--a--program--that--accepts--a-comma-separatedsequence--of--words--as--input-and--prints--the--words--in--a--comma-separated--sequence--after--sorting--them-alphabetically.-Suppose-the-following-input-is-supplied-to-the-program:without,hello,bag,worldThen,-the-output-should-be:bag,hello,without,world\" data-toc-modified-id=\"Write--a--program--that--accepts--a-comma-separatedsequence--of--words--as--input-and--prints--the--words--in--a--comma-separated--sequence--after--sorting--them-alphabetically.-Suppose-the-following-input-is-supplied-to-the-program:without,hello,bag,worldThen,-the-output-should-be:bag,hello,without,world-10\"><span class=\"toc-item-num\">10&nbsp;&nbsp;</span>Write  a  program  that  accepts  a comma-separatedsequence  of  words  as  input and  prints  the  words  in  a  comma-separated  sequence  after  sorting  them alphabetically. Suppose the following input is supplied to the program:without,hello,bag,worldThen, the output should be:bag,hello,without,world</a></span></li><li><span><a href=\"#Write--a--program--that--accepts-a-sequence--of--lines--as--input--and--prints--the--lines-after-making-all-characters-in-the-sentence-capitalized.-Suppose-the-following-input-is-supplied-to-the-program:•Hello-world•Practice-makes-perfectThen,-the-output-should-be:•HELLO-WORLD•PRACTICE-MAKES-PERFECT\" data-toc-modified-id=\"Write--a--program--that--accepts-a-sequence--of--lines--as--input--and--prints--the--lines-after-making-all-characters-in-the-sentence-capitalized.-Suppose-the-following-input-is-supplied-to-the-program:•Hello-world•Practice-makes-perfectThen,-the-output-should-be:•HELLO-WORLD•PRACTICE-MAKES-PERFECT-11\"><span class=\"toc-item-num\">11&nbsp;&nbsp;</span>Write  a  program  that  accepts a sequence  of  lines  as  input  and  prints  the  lines after making all characters in the sentence capitalized. Suppose the following input is supplied to the program:•Hello world•Practice makes perfectThen, the output should be:•HELLO WORLD•PRACTICE MAKES PERFECT</a></span></li><li><span><a href=\"#Write--a--program--that--accepts--a--sequence--of-whitespace-separatedwords--as-input-and-prints-the-words-after-removing-all-duplicate-words-and-sorting-them-alphanumerically.-Suppose-the-following-input-is-supplied-to-the-program:hello-world-and-practice-makes-perfect-and-hello-world-againThen,-the-output-should-be:again-and-hello-makes-perfect-practice-world\" data-toc-modified-id=\"Write--a--program--that--accepts--a--sequence--of-whitespace-separatedwords--as-input-and-prints-the-words-after-removing-all-duplicate-words-and-sorting-them-alphanumerically.-Suppose-the-following-input-is-supplied-to-the-program:hello-world-and-practice-makes-perfect-and-hello-world-againThen,-the-output-should-be:again-and-hello-makes-perfect-practice-world-12\"><span class=\"toc-item-num\">12&nbsp;&nbsp;</span>Write  a  program  that  accepts  a  sequence  of whitespace-separatedwords  as input and prints the words after removing all duplicate words and sorting them alphanumerically. Suppose the following input is supplied to the program:hello world and practice makes perfect and hello world againThen, the output should be:again and hello makes perfect practice world</a></span></li><li><span><a href=\"#Write--a--program-thataccepts--a--sequence--of-comma-separated4-digitbinary-numbers-as-its-input-and-then-check-whether-they-are-divisible-by-5-or-not.-The-numbers--that--are--divisible--by--5--are--to--be--printed--in--a-comma-separatedsequence.Example0100,0011,1010,1001Then-the-output-should-be:1010\" data-toc-modified-id=\"Write--a--program-thataccepts--a--sequence--of-comma-separated4-digitbinary-numbers-as-its-input-and-then-check-whether-they-are-divisible-by-5-or-not.-The-numbers--that--are--divisible--by--5--are--to--be--printed--in--a-comma-separatedsequence.Example0100,0011,1010,1001Then-the-output-should-be:1010-13\"><span class=\"toc-item-num\">13&nbsp;&nbsp;</span>Write  a  program thataccepts  a  sequence  of comma-separated4-digitbinary numbers as its input and then check whether they are divisible by 5 or not. The numbers  that  are  divisible  by  5  are  to  be  printed  in  a comma-separatedsequence.Example0100,0011,1010,1001Then the output should be:1010</a></span></li><li><span><a href=\"#Write-a-program-that-accepts-a-sentence-and-calculatethe-number-of-upper-caseletters-and-lower-caseletters\" data-toc-modified-id=\"Write-a-program-that-accepts-a-sentence-and-calculatethe-number-of-upper-caseletters-and-lower-caseletters-14\"><span class=\"toc-item-num\">14&nbsp;&nbsp;</span>Write a program that accepts a sentence and calculatethe number of upper-caseletters and lower-caseletters</a></span></li><li><span><a href=\"#Give-an-example-of-fsum-and-sum-function-of-math-library\" data-toc-modified-id=\"Give-an-example-of-fsum-and-sum-function-of-math-library-15\"><span class=\"toc-item-num\">15&nbsp;&nbsp;</span>Give an example of fsum and sum function of math library</a></span></li><li><span><a href=\"#Case-Study-Banking-Marketing\" data-toc-modified-id=\"Case-Study-Banking-Marketing-16\"><span class=\"toc-item-num\">16&nbsp;&nbsp;</span>Case Study Banking Marketing</a></span></li><li><span><a href=\"#Case-Study-E-Commerce\" data-toc-modified-id=\"Case-Study-E-Commerce-17\"><span class=\"toc-item-num\">17&nbsp;&nbsp;</span>Case Study E-Commerce</a></span></li></ul></div>"
   ]
  },
  {
   "cell_type": "markdown",
   "id": "33eb8b38",
   "metadata": {},
   "source": [
    "# A Robot moves in a Plane starting from the origin point (0,0). The robot can move UP, DOWN, LEFT, and RIGHT. The trace of Robot movement is as given following:UP 5DOWN 3LEFT 3RIGHT 2(The numbers after directions are steps)  Write a program to compute the current distance from the origin point after sequencing of movements.Hint:Use the math module"
   ]
  },
  {
   "cell_type": "code",
   "execution_count": 2,
   "id": "8482a2ad",
   "metadata": {},
   "outputs": [
    {
     "name": "stdout",
     "output_type": "stream",
     "text": [
      "Final Distance from the Origin: 2.23606797749979\n"
     ]
    }
   ],
   "source": [
    "import math\n",
    "\n",
    "# Initialize the coordinates\n",
    "x, y = 0, 0\n",
    "\n",
    "# Define the movements\n",
    "movements = [\n",
    "    (\"UP\", 5),\n",
    "    (\"DOWN\", 3),\n",
    "    (\"LEFT\", 3),\n",
    "    (\"RIGHT\", 2)\n",
    "]\n",
    "\n",
    "# Calculate the final position\n",
    "for direction, steps in movements:\n",
    "    if direction == \"UP\":\n",
    "        y += steps\n",
    "    elif direction == \"DOWN\":\n",
    "        y -= steps\n",
    "    elif direction == \"LEFT\":\n",
    "        x -= steps\n",
    "    elif direction == \"RIGHT\":\n",
    "        x += steps\n",
    "\n",
    "# Calculate the Euclidean distance from the origin (0,0)\n",
    "distance = math.sqrt(x**2 + y**2)\n",
    "\n",
    "# Print the final distance\n",
    "print(f\"Final Distance from the Origin: {distance}\")\n"
   ]
  },
  {
   "cell_type": "markdown",
   "id": "b807a371",
   "metadata": {},
   "source": [
    "# Data of XYZ company is stored in a sorted list. Write a program mto search for specific data from that list.Hint:Use if/elifto deal with conditions"
   ]
  },
  {
   "cell_type": "code",
   "execution_count": 5,
   "id": "aaaad67c",
   "metadata": {},
   "outputs": [
    {
     "name": "stdout",
     "output_type": "stream",
     "text": [
      "Value 12 found at index 5.\n"
     ]
    }
   ],
   "source": [
    "def binary_search(sorted_list, target):\n",
    "    left = 0\n",
    "    right = len(sorted_list) - 1\n",
    "\n",
    "    while left <= right:\n",
    "        mid = (left + right) // 2\n",
    "\n",
    "        if sorted_list[mid] == target:\n",
    "            return mid  # Found the target, return its index\n",
    "        elif sorted_list[mid] < target:\n",
    "            left = mid + 1\n",
    "        else:\n",
    "            right = mid - 1\n",
    "\n",
    "    return -1  # Target not found in the list\n",
    "\n",
    "# Sorted list of data\n",
    "data = [2, 4, 6, 8, 10, 12, 14, 16, 18, 20]\n",
    "\n",
    "# Value to search for\n",
    "target = 12\n",
    "\n",
    "# Perform binary search\n",
    "result = binary_search(data, target)\n",
    "\n",
    "# Check if the result is found or not\n",
    "if result != -1:\n",
    "    print(f\"Value {target} found at index {result}.\")\n",
    "else:\n",
    "    print(f\"Value {target} not found in the list.\")\n"
   ]
  },
  {
   "cell_type": "markdown",
   "id": "e3f9dd02",
   "metadata": {},
   "source": [
    "# A weather forecasting organization wants to show whether it is day or night. Write a program to findwhether is it dark outside or notbased on the local system time.Hint:Use the time module."
   ]
  },
  {
   "cell_type": "code",
   "execution_count": 6,
   "id": "29265584",
   "metadata": {},
   "outputs": [
    {
     "name": "stdout",
     "output_type": "stream",
     "text": [
      "It is not dark outside.\n"
     ]
    }
   ],
   "source": [
    "import time\n",
    "\n",
    "# Define sunrise and sunset times in 24-hour format (HH:MM)\n",
    "sunrise_time = \"06:00\"\n",
    "sunset_time = \"18:00\"\n",
    "\n",
    "# Get the current time\n",
    "current_time = time.strftime(\"%H:%M\")\n",
    "\n",
    "# Convert sunrise and sunset times to minutes since midnight\n",
    "sunrise_minutes = int(sunrise_time.split(\":\")[0]) * 60 + int(sunrise_time.split(\":\")[1])\n",
    "sunset_minutes = int(sunset_time.split(\":\")[0]) * 60 + int(sunset_time.split(\":\")[1])\n",
    "\n",
    "# Convert the current time to minutes since midnight\n",
    "current_minutes = int(current_time.split(\":\")[0]) * 60 + int(current_time.split(\":\")[1])\n",
    "\n",
    "# Determine whether it's dark outside\n",
    "if sunrise_minutes <= current_minutes <= sunset_minutes:\n",
    "    print(\"It is not dark outside.\")\n",
    "else:\n",
    "    print(\"It is dark outside.\")\n"
   ]
  },
  {
   "cell_type": "markdown",
   "id": "52f2cac0",
   "metadata": {},
   "source": [
    "# Write a program to find the distancebetween two locations when their latitude and longitudes are given.Hint:Use the math module.5.Design a banking system software withoptions like cash withdrawal, cash credit,and change password. The software must display appropriate results based on user inputs.Hint:Use if else statements and functions."
   ]
  },
  {
   "cell_type": "code",
   "execution_count": 7,
   "id": "5fe511b3",
   "metadata": {},
   "outputs": [
    {
     "name": "stdout",
     "output_type": "stream",
     "text": [
      "Distance between the two locations: 877.4633259175432 km\n"
     ]
    }
   ],
   "source": [
    "import math\n",
    "\n",
    "def calculate_distance(lat1, lon1, lat2, lon2):\n",
    "    # Radius of the Earth in kilometers\n",
    "    radius = 6371.0\n",
    "    \n",
    "    # Convert latitude and longitude from degrees to radians\n",
    "    lat1 = math.radians(lat1)\n",
    "    lon1 = math.radians(lon1)\n",
    "    lat2 = math.radians(lat2)\n",
    "    lon2 = math.radians(lon2)\n",
    "    \n",
    "    # Haversine formula for calculating distance\n",
    "    dlon = lon2 - lon1\n",
    "    dlat = lat2 - lat1\n",
    "    a = math.sin(dlat / 2)**2 + math.cos(lat1) * math.cos(lat2) * math.sin(dlon / 2)**2\n",
    "    c = 2 * math.atan2(math.sqrt(a), math.sqrt(1 - a))\n",
    "    \n",
    "    # Calculate the distance\n",
    "    distance = radius * c\n",
    "    \n",
    "    return distance\n",
    "\n",
    "# Example usage:\n",
    "latitude1 = 52.5200\n",
    "longitude1 = 13.4050\n",
    "latitude2 = 48.8566\n",
    "longitude2 = 2.3522\n",
    "\n",
    "distance = calculate_distance(latitude1, longitude1, latitude2, longitude2)\n",
    "print(f\"Distance between the two locations: {distance} km\")\n"
   ]
  },
  {
   "cell_type": "markdown",
   "id": "977e83f4",
   "metadata": {},
   "source": [
    "# Design a banking system software withoptions like cash withdrawal, cash credit,and change password. The software must display appropriate results based on user inputs.Hint:Use if else statements and functions."
   ]
  },
  {
   "cell_type": "code",
   "execution_count": 9,
   "id": "a7b0969e",
   "metadata": {},
   "outputs": [
    {
     "name": "stdout",
     "output_type": "stream",
     "text": [
      "\n",
      "Options:\n",
      "1. Deposit\n",
      "2. Withdraw\n",
      "3. Change Password\n",
      "4. Exit\n",
      "Enter your choice: 1\n",
      "Enter the deposit amount: 100000\n",
      "Deposit successful. Current balance: 101000.0\n",
      "\n",
      "Options:\n",
      "1. Deposit\n",
      "2. Withdraw\n",
      "3. Change Password\n",
      "4. Exit\n",
      "Enter your choice: 2\n",
      "Enter the withdrawal amount: 500\n",
      "Withdrawal successful. Current balance: 100500.0\n",
      "\n",
      "Options:\n",
      "1. Deposit\n",
      "2. Withdraw\n",
      "3. Change Password\n",
      "4. Exit\n",
      "Enter your choice: 3\n",
      "Enter your new password: 1234\n",
      "Password changed successfully.\n",
      "\n",
      "Options:\n",
      "1. Deposit\n",
      "2. Withdraw\n",
      "3. Change Password\n",
      "4. Exit\n",
      "Enter your choice: 4\n",
      "Exiting the banking system.\n"
     ]
    }
   ],
   "source": [
    "class BankAccount:\n",
    "    def __init__(self, balance=0):\n",
    "        self.balance = balance\n",
    "\n",
    "    def deposit(self, amount):\n",
    "        if amount > 0:\n",
    "            self.balance += amount\n",
    "            return f\"Deposit successful. Current balance: {self.balance}\"\n",
    "        else:\n",
    "            return \"Invalid deposit amount.\"\n",
    "\n",
    "    def withdraw(self, amount):\n",
    "        if amount > 0 and amount <= self.balance:\n",
    "            self.balance -= amount\n",
    "            return f\"Withdrawal successful. Current balance: {self.balance}\"\n",
    "        else:\n",
    "            return \"Invalid withdrawal amount or insufficient balance.\"\n",
    "\n",
    "    def change_password(self, new_password):\n",
    "        # Implement password change logic here\n",
    "        return \"Password changed successfully.\"\n",
    "\n",
    "# Example usage:\n",
    "account = BankAccount(1000)\n",
    "\n",
    "while True:\n",
    "    print(\"\\nOptions:\")\n",
    "    print(\"1. Deposit\")\n",
    "    print(\"2. Withdraw\")\n",
    "    print(\"3. Change Password\")\n",
    "    print(\"4. Exit\")\n",
    "    \n",
    "    choice = int(input(\"Enter your choice: \"))\n",
    "    \n",
    "    if choice == 1:\n",
    "        amount = float(input(\"Enter the deposit amount: \"))\n",
    "        print(account.deposit(amount))\n",
    "    elif choice == 2:\n",
    "        amount = float(input(\"Enter the withdrawal amount: \"))\n",
    "        print(account.withdraw(amount))\n",
    "    elif choice == 3:\n",
    "        new_password = input(\"Enter your new password: \")\n",
    "        print(account.change_password(new_password))\n",
    "    elif choice == 4:\n",
    "        print(\"Exiting the banking system.\")\n",
    "        break\n",
    "    else:\n",
    "        print(\"Invalid choice. Please select a valid option.\")\n"
   ]
  },
  {
   "cell_type": "markdown",
   "id": "449e6bd1",
   "metadata": {},
   "source": [
    "# Write a prograthatch will find all numbers which are divisible by 7 but are not a multiple of 5, between 2,000 and 3,200(both included). The numbers obtained should be printed in a comma-separated sequence on a single line"
   ]
  },
  {
   "cell_type": "code",
   "execution_count": 12,
   "id": "77b33211",
   "metadata": {},
   "outputs": [
    {
     "name": "stdout",
     "output_type": "stream",
     "text": [
      "2002, 2009, 2016, 2023, 2037, 2044, 2051, 2058, 2072, 2079, 2086, 2093, 2107, 2114, 2121, 2128, 2142, 2149, 2156, 2163, 2177, 2184, 2191, 2198, 2212, 2219, 2226, 2233, 2247, 2254, 2261, 2268, 2282, 2289, 2296, 2303, 2317, 2324, 2331, 2338, 2352, 2359, 2366, 2373, 2387, 2394, 2401, 2408, 2422, 2429, 2436, 2443, 2457, 2464, 2471, 2478, 2492, 2499, 2506, 2513, 2527, 2534, 2541, 2548, 2562, 2569, 2576, 2583, 2597, 2604, 2611, 2618, 2632, 2639, 2646, 2653, 2667, 2674, 2681, 2688, 2702, 2709, 2716, 2723, 2737, 2744, 2751, 2758, 2772, 2779, 2786, 2793, 2807, 2814, 2821, 2828, 2842, 2849, 2856, 2863, 2877, 2884, 2891, 2898, 2912, 2919, 2926, 2933, 2947, 2954, 2961, 2968, 2982, 2989, 2996, 3003, 3017, 3024, 3031, 3038, 3052, 3059, 3066, 3073, 3087, 3094, 3101, 3108, 3122, 3129, 3136, 3143, 3157, 3164, 3171, 3178, 3192, 3199\n"
     ]
    }
   ],
   "source": [
    "# Initialize an empty list to store the numbers\n",
    "result = []\n",
    "\n",
    "# Iterate through numbers from 2000 to 3200 (both included)\n",
    "for num in range(2000, 3201):\n",
    "    # Check if the number is divisible by 7 and not a multiple of 5\n",
    "    if num % 7 == 0 and num % 5 != 0:\n",
    "        result.append(str(num))  # Convert the number to a string and add it to the list\n",
    "\n",
    "# Join the list of numbers into a comma-separated string\n",
    "result_str = \", \".join(result)\n",
    "\n",
    "# Print the comma-separated sequence of numbers\n",
    "print(result_str)\n"
   ]
  },
  {
   "cell_type": "markdown",
   "id": "4353fce7",
   "metadata": {},
   "source": [
    "# Write  a  prograthatch that can  compute  the  factorial ofgiven  numbers.  Use recursion to find it."
   ]
  },
  {
   "cell_type": "code",
   "execution_count": 13,
   "id": "b48c608b",
   "metadata": {},
   "outputs": [
    {
     "name": "stdout",
     "output_type": "stream",
     "text": [
      "Enter a non-negative integer to compute its factorial: 5\n",
      "The factorial of 5 is 120\n"
     ]
    }
   ],
   "source": [
    "def factorial(n):\n",
    "    if n == 0:\n",
    "        return 1\n",
    "    else:\n",
    "        return n * factorial(n - 1)\n",
    "\n",
    "# Input from the user\n",
    "num = int(input(\"Enter a non-negative integer to compute its factorial: \"))\n",
    "\n",
    "if num < 0:\n",
    "    print(\"Factorial is not defined for negative numbers.\")\n",
    "else:\n",
    "    result = factorial(num)\n",
    "    print(f\"The factorial of {num} is {result}\")\n"
   ]
  },
  {
   "cell_type": "markdown",
   "id": "c7324cb1",
   "metadata": {},
   "source": [
    "# Write  a  program  that  calculates  and  prints  the value  according  to  the  given formula:Q = Square root of [(2 * C * D)/H]Following are the fixed values of C and H: C is 50. H is 30.D  is  the  variable  whose  values  should  be  input  to  your  program  in  a comma-separatedsequence"
   ]
  },
  {
   "cell_type": "code",
   "execution_count": 15,
   "id": "bfe3378e",
   "metadata": {},
   "outputs": [
    {
     "name": "stdout",
     "output_type": "stream",
     "text": [
      "Enter values of D separated by commas: 100,150,180\n",
      "Results:\n",
      "Q1 = 18.26\n",
      "Q2 = 22.36\n",
      "Q3 = 24.49\n"
     ]
    }
   ],
   "source": [
    "import math\n",
    "\n",
    "# Fixed values\n",
    "C = 50\n",
    "H = 30\n",
    "\n",
    "# Input values for D as a comma-separated sequence\n",
    "input_str = input(\"Enter values of D separated by commas: \")\n",
    "\n",
    "# Split the input string into a list of values\n",
    "D_values = input_str.split(',')\n",
    "\n",
    "# Initialize an empty list to store the results\n",
    "results = []\n",
    "\n",
    "# Calculate and append the results for each value of D\n",
    "for D_str in D_values:\n",
    "    try:\n",
    "        D = float(D_str)  # Convert the input to a float\n",
    "        Q = math.sqrt((2 * C * D) / H)\n",
    "        results.append(Q)\n",
    "    except ValueError:\n",
    "        print(f\"Skipping invalid input: {D_str}\")\n",
    "\n",
    "# Print the calculated values\n",
    "print(\"Results:\")\n",
    "for i, result in enumerate(results, start=1):\n",
    "    print(f\"Q{i} = {result:.2f}\")\n"
   ]
  },
  {
   "cell_type": "markdown",
   "id": "c0b2b443",
   "metadata": {},
   "source": [
    "# Write a program thattakes 2 digits, X, Yas input and generates a 2-dimensional array. The element value in the ith row and jthcolumn of the array should be i*j.Note:I =0,1,.., X-1; j=0,1,¡-Y-1."
   ]
  },
  {
   "cell_type": "code",
   "execution_count": 17,
   "id": "2118af11",
   "metadata": {},
   "outputs": [
    {
     "name": "stdout",
     "output_type": "stream",
     "text": [
      "Enter the number of rows (X): 3\n",
      "Enter the number of columns (Y): 5\n",
      "[0, 0, 0, 0, 0]\n",
      "[0, 1, 2, 3, 4]\n",
      "[0, 2, 4, 6, 8]\n"
     ]
    }
   ],
   "source": [
    "# Input values for X and Y\n",
    "X = int(input(\"Enter the number of rows (X): \"))\n",
    "Y = int(input(\"Enter the number of columns (Y): \"))\n",
    "\n",
    "# Initialize an empty 2D array\n",
    "matrix = []\n",
    "\n",
    "# Generate the 2D array using nested loops\n",
    "for i in range(X):\n",
    "    row = []  # Create an empty row for each iteration of i\n",
    "    for j in range(Y):\n",
    "        row.append(i * j)  # Calculate and add the element to the row\n",
    "    matrix.append(row)  # Add the row to the 2D array\n",
    "\n",
    "# Print the generated 2D array\n",
    "for row in matrix:\n",
    "    print(row)\n"
   ]
  },
  {
   "cell_type": "markdown",
   "id": "815d82f0",
   "metadata": {},
   "source": [
    "# Write  a  program  that  accepts  a comma-separatedsequence  of  words  as  input and  prints  the  words  in  a  comma-separated  sequence  after  sorting  them alphabetically. Suppose the following input is supplied to the program:without,hello,bag,worldThen, the output should be:bag,hello,without,world\n"
   ]
  },
  {
   "cell_type": "code",
   "execution_count": 18,
   "id": "d6fb317e",
   "metadata": {},
   "outputs": [
    {
     "name": "stdout",
     "output_type": "stream",
     "text": [
      "Enter a comma-separated sequence of words: without,hello,bag,world\n",
      "Sorted words: bag, hello, without, world\n"
     ]
    }
   ],
   "source": [
    "# Input the comma-separated sequence of words\n",
    "input_str = input(\"Enter a comma-separated sequence of words: \")\n",
    "\n",
    "# Split the input string into a list of words\n",
    "words = input_str.split(',')\n",
    "\n",
    "# Sort the words alphabetically\n",
    "sorted_words = sorted(words)\n",
    "\n",
    "# Join the sorted words into a comma-separated string\n",
    "sorted_str = ', '.join(sorted_words)\n",
    "\n",
    "# Print the sorted string\n",
    "print(\"Sorted words:\", sorted_str)\n"
   ]
  },
  {
   "cell_type": "markdown",
   "id": "f3fe40fb",
   "metadata": {},
   "source": [
    "# Write  a  program  that  accepts a sequence  of  lines  as  input  and  prints  the  lines after making all characters in the sentence capitalized. Suppose the following input is supplied to the program:•Hello world•Practice makes perfectThen, the output should be:•HELLO WORLD•PRACTICE MAKES PERFECT"
   ]
  },
  {
   "cell_type": "code",
   "execution_count": 19,
   "id": "5df1eade",
   "metadata": {},
   "outputs": [
    {
     "name": "stdout",
     "output_type": "stream",
     "text": [
      "Enter a line (or press Enter to finish): Practice makes perfect\n",
      "Enter a line (or press Enter to finish): \n",
      "PRACTICE MAKES PERFECT\n"
     ]
    }
   ],
   "source": [
    "# Initialize an empty list to store the lines\n",
    "lines = []\n",
    "\n",
    "# Input lines until an empty line is entered\n",
    "while True:\n",
    "    line = input(\"Enter a line (or press Enter to finish): \")\n",
    "    if not line:\n",
    "        break  # Exit the loop when an empty line is entered\n",
    "    lines.append(line.upper())  # Capitalize and add the line to the list\n",
    "\n",
    "# Print the capitalized lines\n",
    "for line in lines:\n",
    "    print(line)\n"
   ]
  },
  {
   "cell_type": "markdown",
   "id": "6c19c571",
   "metadata": {},
   "source": [
    "# Write  a  program  that  accepts  a  sequence  of whitespace-separatedwords  as input and prints the words after removing all duplicate words and sorting them alphanumerically. Suppose the following input is supplied to the program:hello world and practice makes perfect and hello world againThen, the output should be:again and hello makes perfect practice world"
   ]
  },
  {
   "cell_type": "code",
   "execution_count": 20,
   "id": "951baec7",
   "metadata": {},
   "outputs": [
    {
     "name": "stdout",
     "output_type": "stream",
     "text": [
      "Enter a sequence of whitespace-separated words: hello world and practice makes perfect and hello world again\n",
      "Sorted words: again and hello makes perfect practice world\n"
     ]
    }
   ],
   "source": [
    "# Input the sequence of whitespace-separated words\n",
    "input_str = input(\"Enter a sequence of whitespace-separated words: \")\n",
    "\n",
    "# Split the input string into words and remove duplicates\n",
    "words = list(set(input_str.split()))\n",
    "\n",
    "# Sort the words alphabetically\n",
    "sorted_words = sorted(words)\n",
    "\n",
    "# Join the sorted words into a whitespace-separated string\n",
    "sorted_str = ' '.join(sorted_words)\n",
    "\n",
    "# Print the sorted string\n",
    "print(\"Sorted words:\", sorted_str)\n"
   ]
  },
  {
   "cell_type": "markdown",
   "id": "705088af",
   "metadata": {},
   "source": [
    "# Write  a  program thataccepts  a  sequence  of comma-separated4-digitbinary numbers as its input and then check whether they are divisible by 5 or not. The numbers  that  are  divisible  by  5  are  to  be  printed  in  a comma-separatedsequence.Example0100,0011,1010,1001Then the output should be:1010"
   ]
  },
  {
   "cell_type": "code",
   "execution_count": 22,
   "id": "7a50350a",
   "metadata": {},
   "outputs": [
    {
     "name": "stdout",
     "output_type": "stream",
     "text": [
      "Enter a sequence of comma-separated 4-digit binary numbers: 0100,0011,1010,1001\n",
      "Binary numbers divisible by 5: 1010\n"
     ]
    }
   ],
   "source": [
    "# Input the sequence of comma-separated binary numbers\n",
    "input_str = input(\"Enter a sequence of comma-separated 4-digit binary numbers: \")\n",
    "\n",
    "# Split the input string into binary numbers\n",
    "binary_numbers = input_str.split(',')\n",
    "\n",
    "# Initialize an empty list to store binary numbers divisible by 5\n",
    "divisible_by_5 = []\n",
    "\n",
    "# Check each binary number for divisibility by 5\n",
    "for binary_num in binary_numbers:\n",
    "    decimal_num = int(binary_num, 2)  # Convert binary to decimal\n",
    "    if decimal_num % 5 == 0:\n",
    "        divisible_by_5.append(binary_num)\n",
    "\n",
    "# Join the divisible binary numbers into a comma-separated string\n",
    "divisible_str = ', '.join(divisible_by_5)\n",
    "\n",
    "# Print the binary numbers divisible by 5\n",
    "print(\"Binary numbers divisible by 5:\", divisible_str)\n"
   ]
  },
  {
   "cell_type": "markdown",
   "id": "35a0f78c",
   "metadata": {},
   "source": [
    "# Write a program that accepts a sentence and calculatethe number of upper-caseletters and lower-caseletters"
   ]
  },
  {
   "cell_type": "code",
   "execution_count": 23,
   "id": "c7b3a19f",
   "metadata": {},
   "outputs": [
    {
     "name": "stdout",
     "output_type": "stream",
     "text": [
      "Enter a sentence: Hello world!\n",
      "Uppercase letters: 1\n",
      "Lowercase letters: 9\n"
     ]
    }
   ],
   "source": [
    "# Input a sentence\n",
    "sentence = input(\"Enter a sentence: \")\n",
    "\n",
    "# Initialize counters for uppercase and lowercase letters\n",
    "uppercase_count = 0\n",
    "lowercase_count = 0\n",
    "\n",
    "# Iterate through each character in the sentence\n",
    "for char in sentence:\n",
    "    if char.isupper():\n",
    "        uppercase_count += 1\n",
    "    elif char.islower():\n",
    "        lowercase_count += 1\n",
    "\n",
    "# Print the counts of uppercase and lowercase letters\n",
    "print(f\"Uppercase letters: {uppercase_count}\")\n",
    "print(f\"Lowercase letters: {lowercase_count}\")\n"
   ]
  },
  {
   "cell_type": "markdown",
   "id": "2a0041d3",
   "metadata": {},
   "source": [
    "# Give an example of fsum and sum function of math library"
   ]
  },
  {
   "cell_type": "code",
   "execution_count": 25,
   "id": "f2eabf67",
   "metadata": {},
   "outputs": [
    {
     "name": "stdout",
     "output_type": "stream",
     "text": [
      "15\n"
     ]
    }
   ],
   "source": [
    "numbers = [1, 2, 3, 4, 5]\n",
    "result = sum(numbers)\n",
    "print(result)  # Output: 15 (1 + 2 + 3 + 4 + 5)\n"
   ]
  },
  {
   "cell_type": "code",
   "execution_count": 26,
   "id": "d9e57e25",
   "metadata": {},
   "outputs": [
    {
     "name": "stdout",
     "output_type": "stream",
     "text": [
      "0.5\n"
     ]
    }
   ],
   "source": [
    "import math\n",
    "\n",
    "numbers = [0.1, 0.1, 0.1, 0.1, 0.1]\n",
    "result = math.fsum(numbers)\n",
    "print(result)  # Output: 0.5 (0.1 + 0.1 + 0.1 + 0.1 + 0.1)\n"
   ]
  },
  {
   "cell_type": "markdown",
   "id": "87815fe8",
   "metadata": {},
   "source": [
    "# Case Study Banking Marketing"
   ]
  },
  {
   "cell_type": "code",
   "execution_count": 51,
   "id": "e743b862",
   "metadata": {},
   "outputs": [
    {
     "data": {
      "text/html": [
       "<div>\n",
       "<style scoped>\n",
       "    .dataframe tbody tr th:only-of-type {\n",
       "        vertical-align: middle;\n",
       "    }\n",
       "\n",
       "    .dataframe tbody tr th {\n",
       "        vertical-align: top;\n",
       "    }\n",
       "\n",
       "    .dataframe thead th {\n",
       "        text-align: right;\n",
       "    }\n",
       "</style>\n",
       "<table border=\"1\" class=\"dataframe\">\n",
       "  <thead>\n",
       "    <tr style=\"text-align: right;\">\n",
       "      <th></th>\n",
       "      <th>age</th>\n",
       "      <th>job</th>\n",
       "      <th>marital</th>\n",
       "      <th>education</th>\n",
       "      <th>default</th>\n",
       "      <th>balance</th>\n",
       "      <th>housing</th>\n",
       "      <th>loan</th>\n",
       "      <th>contact</th>\n",
       "      <th>day</th>\n",
       "      <th>month</th>\n",
       "      <th>duration</th>\n",
       "      <th>campaign</th>\n",
       "      <th>pdays</th>\n",
       "      <th>previous</th>\n",
       "      <th>poutcome</th>\n",
       "      <th>y</th>\n",
       "    </tr>\n",
       "  </thead>\n",
       "  <tbody>\n",
       "    <tr>\n",
       "      <th>0</th>\n",
       "      <td>30</td>\n",
       "      <td>unemployed</td>\n",
       "      <td>married</td>\n",
       "      <td>primary</td>\n",
       "      <td>no</td>\n",
       "      <td>1787</td>\n",
       "      <td>no</td>\n",
       "      <td>no</td>\n",
       "      <td>cellular</td>\n",
       "      <td>19</td>\n",
       "      <td>oct</td>\n",
       "      <td>79</td>\n",
       "      <td>1</td>\n",
       "      <td>-1</td>\n",
       "      <td>0</td>\n",
       "      <td>unknown</td>\n",
       "      <td>no</td>\n",
       "    </tr>\n",
       "    <tr>\n",
       "      <th>1</th>\n",
       "      <td>33</td>\n",
       "      <td>services</td>\n",
       "      <td>married</td>\n",
       "      <td>secondary</td>\n",
       "      <td>no</td>\n",
       "      <td>4789</td>\n",
       "      <td>yes</td>\n",
       "      <td>yes</td>\n",
       "      <td>cellular</td>\n",
       "      <td>11</td>\n",
       "      <td>may</td>\n",
       "      <td>220</td>\n",
       "      <td>1</td>\n",
       "      <td>339</td>\n",
       "      <td>4</td>\n",
       "      <td>failure</td>\n",
       "      <td>no</td>\n",
       "    </tr>\n",
       "    <tr>\n",
       "      <th>2</th>\n",
       "      <td>35</td>\n",
       "      <td>management</td>\n",
       "      <td>single</td>\n",
       "      <td>tertiary</td>\n",
       "      <td>no</td>\n",
       "      <td>1350</td>\n",
       "      <td>yes</td>\n",
       "      <td>no</td>\n",
       "      <td>cellular</td>\n",
       "      <td>16</td>\n",
       "      <td>apr</td>\n",
       "      <td>185</td>\n",
       "      <td>1</td>\n",
       "      <td>330</td>\n",
       "      <td>1</td>\n",
       "      <td>failure</td>\n",
       "      <td>no</td>\n",
       "    </tr>\n",
       "    <tr>\n",
       "      <th>3</th>\n",
       "      <td>30</td>\n",
       "      <td>management</td>\n",
       "      <td>married</td>\n",
       "      <td>tertiary</td>\n",
       "      <td>no</td>\n",
       "      <td>1476</td>\n",
       "      <td>yes</td>\n",
       "      <td>yes</td>\n",
       "      <td>unknown</td>\n",
       "      <td>3</td>\n",
       "      <td>jun</td>\n",
       "      <td>199</td>\n",
       "      <td>4</td>\n",
       "      <td>-1</td>\n",
       "      <td>0</td>\n",
       "      <td>unknown</td>\n",
       "      <td>no</td>\n",
       "    </tr>\n",
       "    <tr>\n",
       "      <th>4</th>\n",
       "      <td>59</td>\n",
       "      <td>blue-collar</td>\n",
       "      <td>married</td>\n",
       "      <td>secondary</td>\n",
       "      <td>no</td>\n",
       "      <td>0</td>\n",
       "      <td>yes</td>\n",
       "      <td>no</td>\n",
       "      <td>unknown</td>\n",
       "      <td>5</td>\n",
       "      <td>may</td>\n",
       "      <td>226</td>\n",
       "      <td>1</td>\n",
       "      <td>-1</td>\n",
       "      <td>0</td>\n",
       "      <td>unknown</td>\n",
       "      <td>no</td>\n",
       "    </tr>\n",
       "  </tbody>\n",
       "</table>\n",
       "</div>"
      ],
      "text/plain": [
       "   age          job  marital  education default  balance housing loan  \\\n",
       "0   30   unemployed  married    primary      no     1787      no   no   \n",
       "1   33     services  married  secondary      no     4789     yes  yes   \n",
       "2   35   management   single   tertiary      no     1350     yes   no   \n",
       "3   30   management  married   tertiary      no     1476     yes  yes   \n",
       "4   59  blue-collar  married  secondary      no        0     yes   no   \n",
       "\n",
       "    contact  day month  duration  campaign  pdays  previous poutcome   y  \n",
       "0  cellular   19   oct        79         1     -1         0  unknown  no  \n",
       "1  cellular   11   may       220         1    339         4  failure  no  \n",
       "2  cellular   16   apr       185         1    330         1  failure  no  \n",
       "3   unknown    3   jun       199         4     -1         0  unknown  no  \n",
       "4   unknown    5   may       226         1     -1         0  unknown  no  "
      ]
     },
     "execution_count": 51,
     "metadata": {},
     "output_type": "execute_result"
    }
   ],
   "source": [
    "import pandas as pd\n",
    "file_path = r'C:\\Study\\Data Science\\Datasets\\bank.csv'\n",
    "df = pd.read_csv(file_path, sep=';')\n",
    "df.head()"
   ]
  },
  {
   "cell_type": "code",
   "execution_count": 56,
   "id": "9ed1d05a",
   "metadata": {},
   "outputs": [
    {
     "name": "stdout",
     "output_type": "stream",
     "text": [
      "housemaid\n",
      "technician\n",
      "unemployed\n",
      "admin.\n",
      "student\n",
      "unknown\n",
      "services\n",
      "self-employed\n",
      "entrepreneur\n",
      "blue-collar\n",
      "retired\n",
      "management\n",
      "Enter a profession (type 'END' to exit): blue-collar\n",
      "The client with profession 'blue-collar' is eligible for a loan.\n",
      "Enter a profession (type 'END' to exit): end\n",
      "Maximum age for loan eligibility: 87 years\n",
      "Minimum age for loan eligibility: 19 years\n"
     ]
    }
   ],
   "source": [
    " import csv\n",
    "\n",
    "# Initialize a set to store unique job types\n",
    "unique_jobs = set()\n",
    "\n",
    "# Read the CSV file and populate the unique job set\n",
    "with open(r'C:\\Study\\Data Science\\Datasets\\bank.csv', newline='') as csvfile:\n",
    "    reader = csv.DictReader(csvfile, delimiter=';', quotechar='\"')\n",
    "    for row in reader:\n",
    "        unique_jobs.add(row['job'].strip().lower())  # Case-insensitive and remove leading/trailing spaces\n",
    "for unique_job in unique_jobs:\n",
    "    print(unique_job)\n",
    "# Define max and min age for loan eligibility based on data in the CSV file\n",
    "max_age = 0\n",
    "min_age = float('inf')  # Initialize to positive infinity\n",
    "\n",
    "with open(r'C:\\Study\\Data Science\\Datasets\\bank.csv', newline='') as csvfile:\n",
    "    reader = csv.DictReader(csvfile, delimiter=';', quotechar='\"')\n",
    "    for row in reader:\n",
    "        age = int(row['age'])\n",
    "        if age > max_age:\n",
    "            max_age = age\n",
    "        if age < min_age:\n",
    "            min_age = age\n",
    "\n",
    "# Create a dictionary to store max and min age for loan eligibility\n",
    "age_limits = {'max_age': max_age, 'min_age': min_age}\n",
    "\n",
    "# Ask the user for a profession until they type \"END\"\n",
    "while True:\n",
    "    profession = input(\"Enter a profession (type 'END' to exit): \").strip().lower()\n",
    "    \n",
    "    if profession == 'end':\n",
    "        break  # Exit the loop if the user types 'END'\n",
    "    \n",
    "    # Check if the entered profession is in the unique_jobs set\n",
    "    if profession in unique_jobs:\n",
    "        print(f\"The client with profession '{profession}' is eligible for a loan.\")\n",
    "    else:\n",
    "        print(f\"The client with profession '{profession}' is not eligible for a loan.\")\n",
    "\n",
    "# Print the max and min age for loan eligibility\n",
    "print(f\"Maximum age for loan eligibility: {age_limits['max_age']} years\")\n",
    "print(f\"Minimum age for loan eligibility: {age_limits['min_age']} years\")\n"
   ]
  },
  {
   "cell_type": "markdown",
   "id": "c20a40aa",
   "metadata": {},
   "source": [
    "# Case Study E-Commerce"
   ]
  },
  {
   "cell_type": "code",
   "execution_count": 57,
   "id": "625fbf9e",
   "metadata": {},
   "outputs": [
    {
     "data": {
      "text/html": [
       "<div>\n",
       "<style scoped>\n",
       "    .dataframe tbody tr th:only-of-type {\n",
       "        vertical-align: middle;\n",
       "    }\n",
       "\n",
       "    .dataframe tbody tr th {\n",
       "        vertical-align: top;\n",
       "    }\n",
       "\n",
       "    .dataframe thead th {\n",
       "        text-align: right;\n",
       "    }\n",
       "</style>\n",
       "<table border=\"1\" class=\"dataframe\">\n",
       "  <thead>\n",
       "    <tr style=\"text-align: right;\">\n",
       "      <th></th>\n",
       "      <th>Hogwards,Mr. Harry,Potter,0</th>\n",
       "    </tr>\n",
       "  </thead>\n",
       "  <tbody>\n",
       "    <tr>\n",
       "      <th>0</th>\n",
       "      <td>Doccity,Miss. Linda,Veigas,0</td>\n",
       "    </tr>\n",
       "    <tr>\n",
       "      <th>1</th>\n",
       "      <td>Yale,Mr. Yathish,Kumar,0</td>\n",
       "    </tr>\n",
       "    <tr>\n",
       "      <th>2</th>\n",
       "      <td>Miago,Mr. Vatsa,Groot,1</td>\n",
       "    </tr>\n",
       "  </tbody>\n",
       "</table>\n",
       "</div>"
      ],
      "text/plain": [
       "    Hogwards,Mr. Harry,Potter,0\n",
       "0  Doccity,Miss. Linda,Veigas,0\n",
       "1      Yale,Mr. Yathish,Kumar,0\n",
       "2       Miago,Mr. Vatsa,Groot,1"
      ]
     },
     "execution_count": 57,
     "metadata": {},
     "output_type": "execute_result"
    }
   ],
   "source": [
    "import pandas as pd\n",
    "file_path1 = r'C:\\Study\\Data Science\\Datasets\\FairDealCustomerData.csv'\n",
    "df2 = pd.read_csv(file_path1, sep=';')\n",
    "df2.head()"
   ]
  },
  {
   "cell_type": "code",
   "execution_count": 59,
   "id": "a873e256",
   "metadata": {},
   "outputs": [
    {
     "name": "stdout",
     "output_type": "stream",
     "text": [
      "Order created successfully:\n",
      "Customer: Miss. Linda  \n",
      "Product: Sample Product (Code: 12345)\n"
     ]
    }
   ],
   "source": [
    "import csv\n",
    "import re\n",
    "\n",
    "# Define the Customer class to store customer data\n",
    "class Customer:\n",
    "    def __init__(self, title, first_name, last_name, blacklisted):\n",
    "        self.title = title\n",
    "        self.first_name = first_name\n",
    "        self.last_name = last_name\n",
    "        self.blacklisted = blacklisted\n",
    "\n",
    "# Define a custom exception class CustomerNotAllowedException\n",
    "class CustomerNotAllowedException(Exception):\n",
    "    def __init__(self, message):\n",
    "        self.message = message\n",
    "\n",
    "# Read the CSV file and store customer data in a list of Customer objects\n",
    "customers = []\n",
    "with open(file_path1, newline='') as csvfile:\n",
    "    reader = csv.reader(csvfile)\n",
    "    next(reader)  # Skip the header row\n",
    "    for row in reader:\n",
    "        name_parts = re.split(r',\\s*', row[1])  # Split full name into title, first name, and last name\n",
    "        title = name_parts[0]\n",
    "        first_name = name_parts[1] if len(name_parts) > 1 else \"\"  # Check if first name exists\n",
    "        last_name = name_parts[2] if len(name_parts) > 2 else \"\"  # Check if last name exists\n",
    "        blacklisted = int(row[3])\n",
    "        customer = Customer(title, first_name, last_name, blacklisted)\n",
    "        customers.append(customer)\n",
    "\n",
    "# Function to create an order\n",
    "def createOrder(customer, product_name, product_code):\n",
    "    if customer.blacklisted == 1:\n",
    "        raise CustomerNotAllowedException(\"Customer is blacklisted and not allowed to create an order.\")\n",
    "    \n",
    "    # If the customer is eligible, create and return an Order object\n",
    "    class Order:\n",
    "        def __init__(self, customer, product_name, product_code):\n",
    "            self.customer = customer\n",
    "            self.product_name = product_name\n",
    "            self.product_code = product_code\n",
    "    \n",
    "    return Order(customer, product_name, product_code)\n",
    "\n",
    "# Test the program with sample data\n",
    "sample_customer = customers[0]  # Choose a customer from the list\n",
    "try:\n",
    "    order = createOrder(sample_customer, \"Sample Product\", \"12345\")\n",
    "    print(\"Order created successfully:\")\n",
    "    print(f\"Customer: {order.customer.title} {order.customer.first_name} {order.customer.last_name}\")\n",
    "    print(f\"Product: {order.product_name} (Code: {order.product_code})\")\n",
    "except CustomerNotAllowedException as e:\n",
    "    print(\"Order creation failed:\", e.message)\n"
   ]
  }
 ],
 "metadata": {
  "kernelspec": {
   "display_name": "Python 3 (ipykernel)",
   "language": "python",
   "name": "python3"
  },
  "language_info": {
   "codemirror_mode": {
    "name": "ipython",
    "version": 3
   },
   "file_extension": ".py",
   "mimetype": "text/x-python",
   "name": "python",
   "nbconvert_exporter": "python",
   "pygments_lexer": "ipython3",
   "version": "3.11.5"
  },
  "toc": {
   "base_numbering": 1,
   "nav_menu": {},
   "number_sections": true,
   "sideBar": true,
   "skip_h1_title": false,
   "title_cell": "Table of Contents",
   "title_sidebar": "Contents",
   "toc_cell": true,
   "toc_position": {},
   "toc_section_display": true,
   "toc_window_display": true
  }
 },
 "nbformat": 4,
 "nbformat_minor": 5
}

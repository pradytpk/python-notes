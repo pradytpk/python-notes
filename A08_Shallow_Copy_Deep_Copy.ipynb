{
 "cells": [
  {
   "cell_type": "code",
   "execution_count": 1,
   "id": "18f33ad9",
   "metadata": {},
   "outputs": [],
   "source": [
    "my_list1=[3,4,5,6,7,8]"
   ]
  },
  {
   "cell_type": "code",
   "execution_count": 2,
   "id": "552addac",
   "metadata": {},
   "outputs": [],
   "source": [
    "my_list2 = my_list1"
   ]
  },
  {
   "cell_type": "code",
   "execution_count": 3,
   "id": "9e5b0129",
   "metadata": {},
   "outputs": [
    {
     "data": {
      "text/plain": [
       "4"
      ]
     },
     "execution_count": 3,
     "metadata": {},
     "output_type": "execute_result"
    }
   ],
   "source": [
    "my_list1[1]"
   ]
  },
  {
   "cell_type": "code",
   "execution_count": 4,
   "id": "2c5320a9",
   "metadata": {},
   "outputs": [
    {
     "data": {
      "text/plain": [
       "[3, 4, 5, 6, 7, 8]"
      ]
     },
     "execution_count": 4,
     "metadata": {},
     "output_type": "execute_result"
    }
   ],
   "source": [
    "my_list2"
   ]
  },
  {
   "cell_type": "code",
   "execution_count": 6,
   "id": "77446c55",
   "metadata": {},
   "outputs": [],
   "source": [
    "my_list1[1]=1110"
   ]
  },
  {
   "cell_type": "code",
   "execution_count": 7,
   "id": "89380041",
   "metadata": {},
   "outputs": [
    {
     "data": {
      "text/plain": [
       "[3, 1110, 5, 6, 7, 8]"
      ]
     },
     "execution_count": 7,
     "metadata": {},
     "output_type": "execute_result"
    }
   ],
   "source": [
    "my_list1"
   ]
  },
  {
   "cell_type": "code",
   "execution_count": 8,
   "id": "4e160ada",
   "metadata": {},
   "outputs": [
    {
     "data": {
      "text/plain": [
       "[3, 1110, 5, 6, 7, 8]"
      ]
     },
     "execution_count": 8,
     "metadata": {},
     "output_type": "execute_result"
    }
   ],
   "source": [
    "my_list2"
   ]
  },
  {
   "cell_type": "code",
   "execution_count": null,
   "id": "0c7a840f",
   "metadata": {},
   "outputs": [],
   "source": []
  }
 ],
 "metadata": {
  "kernelspec": {
   "display_name": "Python 3 (ipykernel)",
   "language": "python",
   "name": "python3"
  },
  "language_info": {
   "codemirror_mode": {
    "name": "ipython",
    "version": 3
   },
   "file_extension": ".py",
   "mimetype": "text/x-python",
   "name": "python",
   "nbconvert_exporter": "python",
   "pygments_lexer": "ipython3",
   "version": "3.11.5"
  }
 },
 "nbformat": 4,
 "nbformat_minor": 5
}

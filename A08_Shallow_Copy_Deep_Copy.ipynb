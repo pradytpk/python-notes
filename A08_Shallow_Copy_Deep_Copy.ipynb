{
 "cells": [
  {
   "cell_type": "code",
   "execution_count": 1,
   "id": "fecbb124",
   "metadata": {},
   "outputs": [],
   "source": [
    "my_list1=[3,4,5,6,7,8]"
   ]
  },
  {
   "cell_type": "code",
   "execution_count": 2,
   "id": "9e98318c",
   "metadata": {},
   "outputs": [],
   "source": [
    "my_list2 = my_list1"
   ]
  },
  {
   "cell_type": "code",
   "execution_count": 3,
   "id": "90717692",
   "metadata": {},
   "outputs": [
    {
     "data": {
      "text/plain": [
       "4"
      ]
     },
     "execution_count": 3,
     "metadata": {},
     "output_type": "execute_result"
    }
   ],
   "source": [
    "my_list1[1]"
   ]
  },
  {
   "cell_type": "markdown",
   "id": "9aa64105",
   "metadata": {},
   "source": [
    "my_list2"
   ]
  },
  {
   "cell_type": "code",
   "execution_count": 6,
   "id": "c3a4d13b",
   "metadata": {},
   "outputs": [],
   "source": [
    "my_list1[1]=1110"
   ]
  },
  {
   "cell_type": "code",
   "execution_count": 7,
   "id": "37859779",
   "metadata": {},
   "outputs": [
    {
     "data": {
      "text/plain": [
       "[3, 1110, 5, 6, 7, 8]"
      ]
     },
     "execution_count": 7,
     "metadata": {},
     "output_type": "execute_result"
    }
   ],
   "source": [
    "my_list1"
   ]
  },
  {
   "cell_type": "code",
   "execution_count": 8,
   "id": "8abc53cd",
   "metadata": {},
   "outputs": [
    {
     "data": {
      "text/plain": [
       "[3, 1110, 5, 6, 7, 8]"
      ]
     },
     "execution_count": 8,
     "metadata": {},
     "output_type": "execute_result"
    }
   ],
   "source": [
    "my_list2"
   ]
  },
  {
   "cell_type": "code",
   "execution_count": 9,
   "id": "414d1fac",
   "metadata": {},
   "outputs": [
    {
     "data": {
      "text/plain": [
       "2991308820464"
      ]
     },
     "execution_count": 9,
     "metadata": {},
     "output_type": "execute_result"
    }
   ],
   "source": [
    "id(my_list1[1])"
   ]
  },
  {
   "cell_type": "code",
   "execution_count": 10,
   "id": "7bb9a278",
   "metadata": {},
   "outputs": [
    {
     "data": {
      "text/plain": [
       "2991308820464"
      ]
     },
     "execution_count": 10,
     "metadata": {},
     "output_type": "execute_result"
    }
   ],
   "source": [
    "id(my_list2[1])"
   ]
  },
  {
   "cell_type": "markdown",
   "id": "dee9c08b",
   "metadata": {},
   "source": [
    "### Shallow Copy"
   ]
  },
  {
   "cell_type": "code",
   "execution_count": 11,
   "id": "943924e8",
   "metadata": {},
   "outputs": [],
   "source": [
    "my_list3 =[[3,4,5,6],[7,8,9,0]]"
   ]
  },
  {
   "cell_type": "code",
   "execution_count": 12,
   "id": "40349518",
   "metadata": {},
   "outputs": [],
   "source": [
    "my_list4=my_list3.copy()"
   ]
  },
  {
   "cell_type": "code",
   "execution_count": 13,
   "id": "731a88fa",
   "metadata": {},
   "outputs": [
    {
     "data": {
      "text/plain": [
       "[[3, 4, 5, 6], [7, 8, 9, 0]]"
      ]
     },
     "execution_count": 13,
     "metadata": {},
     "output_type": "execute_result"
    }
   ],
   "source": [
    "my_list4"
   ]
  },
  {
   "cell_type": "code",
   "execution_count": 14,
   "id": "59a6a069",
   "metadata": {},
   "outputs": [],
   "source": [
    "my_list3[0]=30"
   ]
  },
  {
   "cell_type": "code",
   "execution_count": 15,
   "id": "625d4c52",
   "metadata": {},
   "outputs": [
    {
     "data": {
      "text/plain": [
       "[30, [7, 8, 9, 0]]"
      ]
     },
     "execution_count": 15,
     "metadata": {},
     "output_type": "execute_result"
    }
   ],
   "source": [
    "my_list3"
   ]
  },
  {
   "cell_type": "code",
   "execution_count": 16,
   "id": "3ddadaff",
   "metadata": {},
   "outputs": [
    {
     "data": {
      "text/plain": [
       "[[3, 4, 5, 6], [7, 8, 9, 0]]"
      ]
     },
     "execution_count": 16,
     "metadata": {},
     "output_type": "execute_result"
    }
   ],
   "source": [
    "my_list4"
   ]
  },
  {
   "cell_type": "markdown",
   "id": "45b63fd0",
   "metadata": {},
   "source": [
    "### Deep Copy"
   ]
  },
  {
   "cell_type": "code",
   "execution_count": 19,
   "id": "8949ae54",
   "metadata": {},
   "outputs": [],
   "source": [
    "my_list5 =[[3,4,5,6],[7,8,9,0]]"
   ]
  },
  {
   "cell_type": "code",
   "execution_count": 18,
   "id": "e4c9346d",
   "metadata": {},
   "outputs": [],
   "source": [
    "from copy import deepcopy "
   ]
  },
  {
   "cell_type": "code",
   "execution_count": 20,
   "id": "c5d53707",
   "metadata": {},
   "outputs": [],
   "source": [
    "my_list6 = deepcopy(my_list5)"
   ]
  },
  {
   "cell_type": "code",
   "execution_count": 21,
   "id": "aa5b6bf4",
   "metadata": {},
   "outputs": [
    {
     "data": {
      "text/plain": [
       "[[3, 4, 5, 6], [7, 8, 9, 0]]"
      ]
     },
     "execution_count": 21,
     "metadata": {},
     "output_type": "execute_result"
    }
   ],
   "source": [
    "my_list5"
   ]
  },
  {
   "cell_type": "code",
   "execution_count": 22,
   "id": "ea81157d",
   "metadata": {},
   "outputs": [
    {
     "data": {
      "text/plain": [
       "[[3, 4, 5, 6], [7, 8, 9, 0]]"
      ]
     },
     "execution_count": 22,
     "metadata": {},
     "output_type": "execute_result"
    }
   ],
   "source": [
    "my_list6"
   ]
  },
  {
   "cell_type": "code",
   "execution_count": 23,
   "id": "6bcf19eb",
   "metadata": {},
   "outputs": [],
   "source": [
    "my_list5[1][1]=80"
   ]
  },
  {
   "cell_type": "code",
   "execution_count": 24,
   "id": "4e2454b4",
   "metadata": {},
   "outputs": [
    {
     "data": {
      "text/plain": [
       "[[3, 4, 5, 6], [7, 80, 9, 0]]"
      ]
     },
     "execution_count": 24,
     "metadata": {},
     "output_type": "execute_result"
    }
   ],
   "source": [
    "my_list5"
   ]
  },
  {
   "cell_type": "code",
   "execution_count": 25,
   "id": "6b7f405d",
   "metadata": {},
   "outputs": [
    {
     "data": {
      "text/plain": [
       "[[3, 4, 5, 6], [7, 8, 9, 0]]"
      ]
     },
     "execution_count": 25,
     "metadata": {},
     "output_type": "execute_result"
    }
   ],
   "source": [
    "my_list6"
   ]
  },
  {
   "cell_type": "code",
   "execution_count": null,
   "id": "d5264b80",
   "metadata": {},
   "outputs": [],
   "source": []
  }
 ],
 "metadata": {
  "kernelspec": {
   "display_name": "Python 3 (ipykernel)",
   "language": "python",
   "name": "python3"
  },
  "language_info": {
   "codemirror_mode": {
    "name": "ipython",
    "version": 3
   },
   "file_extension": ".py",
   "mimetype": "text/x-python",
   "name": "python",
   "nbconvert_exporter": "python",
   "pygments_lexer": "ipython3",
   "version": "3.11.5"
  }
 },
 "nbformat": 4,
 "nbformat_minor": 5
}

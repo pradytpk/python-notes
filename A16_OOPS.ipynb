{
 "cells": [
  {
   "cell_type": "markdown",
   "id": "7cbe1cb2",
   "metadata": {},
   "source": [
    "## What is OOPS?\n",
    "- Object Oriented Programming is a programming paradigm based on the concept of Objects, which can contain data(attributes) and code(methods)\n",
    "- Programming paradigms are different ways or styles in which a given program or programming language can be organized. Each paradigm consists of certain structures, features, and opinions about how common programming problems should be tackled."
   ]
  },
  {
   "cell_type": "code",
   "execution_count": 21,
   "id": "ccedebbe",
   "metadata": {},
   "outputs": [],
   "source": [
    "class BmiCalculator():\n",
    "    pass"
   ]
  },
  {
   "cell_type": "markdown",
   "id": "c927c1d2",
   "metadata": {},
   "source": [
    "### Class Naming Convention\n",
    "- For Class Names we use Pascal Case/Upper Camel Case as the Naming Convention.\n",
    "- First Letter of each word is capitalised\n",
    "    Example: BmiCalculator\n"
   ]
  },
  {
   "cell_type": "code",
   "execution_count": 22,
   "id": "ea43bbfd",
   "metadata": {},
   "outputs": [],
   "source": [
    "my_bmi = BmiCalculator()"
   ]
  },
  {
   "cell_type": "code",
   "execution_count": 23,
   "id": "3302656a",
   "metadata": {},
   "outputs": [
    {
     "name": "stdout",
     "output_type": "stream",
     "text": [
      "<__main__.BmiCalculator object at 0x0000021822BCAD50>\n"
     ]
    }
   ],
   "source": [
    "print(my_bmi)"
   ]
  },
  {
   "cell_type": "markdown",
   "id": "d10c67bc",
   "metadata": {},
   "source": [
    "### Self\n",
    "- Self is a generic way of referring to the current instance of the class"
   ]
  },
  {
   "cell_type": "code",
   "execution_count": 24,
   "id": "3085c797",
   "metadata": {},
   "outputs": [],
   "source": [
    "    # Constructor\n",
    "    def __init__(self, name, idnumber):\n",
    "        self.name = name"
   ]
  },
  {
   "attachments": {
    "image.png": {
     "image/png": "[encoded data removed]"
    }
   },
   "cell_type": "markdown",
   "id": "8ef51255",
   "metadata": {},
   "source": [
    "![image.png](attachment:image.png)"
   ]
  },
  {
   "cell_type": "code",
   "execution_count": 25,
   "id": "08cdc88b",
   "metadata": {},
   "outputs": [],
   "source": [
    "class BmiCalc():\n",
    "    # Class attribute\n",
    "    age = 25\n",
    "    usage_count=1\n",
    "    def __init__(self, weight, height):\n",
    "        self.id = BmiCalc.usage_count\n",
    "        self.weight = weight\n",
    "        self.height = height\n",
    "        \n",
    "        BmiCalc.usage_count +=1\n",
    "        \n",
    "    def bmi(self):\n",
    "        bmi = self.weight / (self.height * self.height)\n",
    "        if bmi < 18.5:\n",
    "            category = \"Underweight\"\n",
    "        elif 18.5 <= bmi < 24.9:\n",
    "            category = \"Normal Weight\"\n",
    "        elif 25 <= bmi < 29.9:\n",
    "            category = \"Overweight\"\n",
    "        else:\n",
    "            category = \"Obese\"\n",
    "    \n",
    "        print(f\"Your BMI is {bmi:.2f}\")\n",
    "        print(f\"You are in the '{category}' category.\")"
   ]
  },
  {
   "cell_type": "code",
   "execution_count": 26,
   "id": "c260bbfd",
   "metadata": {},
   "outputs": [
    {
     "name": "stdout",
     "output_type": "stream",
     "text": [
      "Your BMI is 0.02\n",
      "You are in the 'Underweight' category.\n"
     ]
    }
   ],
   "source": [
    "pradeep=BmiCalc(180,94)\n",
    "pradeep.bmi()"
   ]
  },
  {
   "cell_type": "code",
   "execution_count": 27,
   "id": "a9668924",
   "metadata": {},
   "outputs": [
    {
     "data": {
      "text/plain": [
       "180"
      ]
     },
     "execution_count": 27,
     "metadata": {},
     "output_type": "execute_result"
    }
   ],
   "source": [
    "pradeep.weight"
   ]
  },
  {
   "cell_type": "code",
   "execution_count": 28,
   "id": "72a916eb",
   "metadata": {},
   "outputs": [
    {
     "data": {
      "text/plain": [
       "94"
      ]
     },
     "execution_count": 28,
     "metadata": {},
     "output_type": "execute_result"
    }
   ],
   "source": [
    "pradeep.height"
   ]
  },
  {
   "cell_type": "code",
   "execution_count": 29,
   "id": "0835e8a0",
   "metadata": {},
   "outputs": [
    {
     "data": {
      "text/plain": [
       "25"
      ]
     },
     "execution_count": 29,
     "metadata": {},
     "output_type": "execute_result"
    }
   ],
   "source": [
    "pradeep.age"
   ]
  },
  {
   "cell_type": "code",
   "execution_count": 30,
   "id": "90aa4cca",
   "metadata": {},
   "outputs": [],
   "source": [
    "pradeep.age=28"
   ]
  },
  {
   "cell_type": "code",
   "execution_count": 31,
   "id": "6cf7716f",
   "metadata": {},
   "outputs": [
    {
     "data": {
      "text/plain": [
       "28"
      ]
     },
     "execution_count": 31,
     "metadata": {},
     "output_type": "execute_result"
    }
   ],
   "source": [
    "pradeep.age"
   ]
  },
  {
   "cell_type": "code",
   "execution_count": 32,
   "id": "374851bb",
   "metadata": {},
   "outputs": [
    {
     "data": {
      "text/plain": [
       "2"
      ]
     },
     "execution_count": 32,
     "metadata": {},
     "output_type": "execute_result"
    }
   ],
   "source": [
    "pradeep.usage_count"
   ]
  },
  {
   "cell_type": "code",
   "execution_count": 33,
   "id": "7b9e18d6",
   "metadata": {},
   "outputs": [],
   "source": [
    "class BankLoan():\n",
    "    def __init__(self,salary,emi):\n",
    "        self.salary=salary\n",
    "        self.emi=emi\n",
    "    \n",
    "    def cond(self):\n",
    "        if(self.salary>self.emi):\n",
    "            print(\"loan can be approved\")\n",
    "        else:\n",
    "            print(\"Loan cannot be approved\")"
   ]
  },
  {
   "cell_type": "code",
   "execution_count": 34,
   "id": "ee4a36a8",
   "metadata": {},
   "outputs": [
    {
     "name": "stdout",
     "output_type": "stream",
     "text": [
      "loan can be approved\n"
     ]
    }
   ],
   "source": [
    "pradeepLoan = BankLoan(10000,500)\n",
    "pradeepLoan.cond()"
   ]
  },
  {
   "cell_type": "code",
   "execution_count": 35,
   "id": "5175b1e9",
   "metadata": {},
   "outputs": [],
   "source": [
    "pradeepLoan.emi=250000"
   ]
  },
  {
   "cell_type": "code",
   "execution_count": 36,
   "id": "a9718c06",
   "metadata": {},
   "outputs": [
    {
     "name": "stdout",
     "output_type": "stream",
     "text": [
      "Loan cannot be approved\n"
     ]
    }
   ],
   "source": [
    "pradeepLoan.cond()"
   ]
  },
  {
   "cell_type": "code",
   "execution_count": 37,
   "id": "4d39faec",
   "metadata": {},
   "outputs": [],
   "source": [
    "class BankLoan():\n",
    "    def __init__(self,salary,emi):\n",
    "        self.salary=salary\n",
    "        self.emi=emi\n",
    "    \n",
    "    def cond(self):\n",
    "        if(self.salary>self.emi):\n",
    "            print(\"loan can be approved\")\n",
    "        else:\n",
    "            print(\"Loan cannot be approved\")\n",
    "    \n",
    "    def margin(self):\n",
    "        if(self.salary>self.emi):\n",
    "            margin = self.salary-self.emi\n",
    "            print(\"margin amount\",margin)\n",
    "        else:\n",
    "            print(\"Loan cannot be approved\")"
   ]
  },
  {
   "cell_type": "code",
   "execution_count": 38,
   "id": "cefdb363",
   "metadata": {},
   "outputs": [
    {
     "name": "stdout",
     "output_type": "stream",
     "text": [
      "margin amount 9500\n"
     ]
    }
   ],
   "source": [
    "pradeepLoan = BankLoan(10000,500)\n",
    "pradeepLoan.margin()"
   ]
  },
  {
   "cell_type": "markdown",
   "id": "377ab787",
   "metadata": {},
   "source": [
    "### Converting any userdefind code into Oops"
   ]
  },
  {
   "cell_type": "code",
   "execution_count": 39,
   "id": "2cfbc884",
   "metadata": {},
   "outputs": [
    {
     "ename": "NameError",
     "evalue": "name 'b' is not defined",
     "output_type": "error",
     "traceback": [
      "\u001b[1;31m---------------------------------------------------------------------------\u001b[0m",
      "\u001b[1;31mNameError\u001b[0m                                 Traceback (most recent call last)",
      "Cell \u001b[1;32mIn[39], line 1\u001b[0m\n\u001b[1;32m----> 1\u001b[0m \u001b[38;5;28;01mif\u001b[39;00m b\u001b[38;5;241m>\u001b[39ma:\n\u001b[0;32m      2\u001b[0m     \u001b[38;5;28mprint\u001b[39m(\u001b[38;5;124m\"\u001b[39m\u001b[38;5;124mb is greater than a\u001b[39m\u001b[38;5;124m\"\u001b[39m)\n\u001b[0;32m      3\u001b[0m     \u001b[38;5;28mprint\u001b[39m(b)\n",
      "\u001b[1;31mNameError\u001b[0m: name 'b' is not defined"
     ]
    }
   ],
   "source": [
    "if b>a:\n",
    "    print(\"b is greater than a\")\n",
    "    print(b)"
   ]
  },
  {
   "cell_type": "code",
   "execution_count": 40,
   "id": "478a96ac",
   "metadata": {},
   "outputs": [],
   "source": [
    "class great:\n",
    "    def __init__(self,a,b):\n",
    "        self.a=a\n",
    "        self.b=b\n",
    "    def cond(self):\n",
    "        if self.b>self.a:\n",
    "            print(\"b is greater than a\")"
   ]
  },
  {
   "cell_type": "code",
   "execution_count": 41,
   "id": "c47ec81c",
   "metadata": {},
   "outputs": [],
   "source": [
    "g=great(10,20)"
   ]
  },
  {
   "cell_type": "code",
   "execution_count": 42,
   "id": "1367cba4",
   "metadata": {},
   "outputs": [
    {
     "name": "stdout",
     "output_type": "stream",
     "text": [
      "b is greater than a\n"
     ]
    }
   ],
   "source": [
    "g.cond()"
   ]
  },
  {
   "cell_type": "markdown",
   "id": "a1110432",
   "metadata": {},
   "source": [
    "## Encapsulation\n",
    "Restrict access helps us to prevent the direct access to the atrributes in order to avoid making problematic changes"
   ]
  },
  {
   "cell_type": "code",
   "execution_count": 43,
   "id": "9809614b",
   "metadata": {},
   "outputs": [],
   "source": [
    "class Encapsulation:\n",
    "    def __init__(self,learner_id,name,course,age):\n",
    "        self.learner_id =learner_id\n",
    "        self.name=name\n",
    "        self.course=course\n",
    "        self.age=age"
   ]
  },
  {
   "cell_type": "code",
   "execution_count": 44,
   "id": "8119038e",
   "metadata": {},
   "outputs": [],
   "source": [
    "pradeep_learner=Encapsulation(\"BCT_ME\",\"pradeep\",\"DSCT/AI/DA\",25)"
   ]
  },
  {
   "cell_type": "code",
   "execution_count": 45,
   "id": "652f697e",
   "metadata": {},
   "outputs": [
    {
     "data": {
      "text/plain": [
       "'BCT_ME'"
      ]
     },
     "execution_count": 45,
     "metadata": {},
     "output_type": "execute_result"
    }
   ],
   "source": [
    "pradeep_learner.learner_id"
   ]
  },
  {
   "cell_type": "code",
   "execution_count": 46,
   "id": "ad5be41e",
   "metadata": {},
   "outputs": [
    {
     "data": {
      "text/plain": [
       "25"
      ]
     },
     "execution_count": 46,
     "metadata": {},
     "output_type": "execute_result"
    }
   ],
   "source": [
    "pradeep_learner.age"
   ]
  },
  {
   "cell_type": "code",
   "execution_count": 47,
   "id": "f737104e",
   "metadata": {},
   "outputs": [
    {
     "data": {
      "text/plain": [
       "'DSCT/AI/DA'"
      ]
     },
     "execution_count": 47,
     "metadata": {},
     "output_type": "execute_result"
    }
   ],
   "source": [
    "pradeep_learner.course"
   ]
  },
  {
   "cell_type": "code",
   "execution_count": 48,
   "id": "8fb3a0f5",
   "metadata": {},
   "outputs": [
    {
     "data": {
      "text/plain": [
       "'pradeep'"
      ]
     },
     "execution_count": 48,
     "metadata": {},
     "output_type": "execute_result"
    }
   ],
   "source": [
    "pradeep_learner.name"
   ]
  },
  {
   "cell_type": "markdown",
   "id": "949b85de",
   "metadata": {},
   "source": [
    "### Name Mangling\n",
    "process by which name of the attribute is modified"
   ]
  },
  {
   "cell_type": "code",
   "execution_count": 49,
   "id": "4901be92",
   "metadata": {},
   "outputs": [],
   "source": [
    "class Encapsulation:\n",
    "    def __init__(self,learner_id,name,course,age):\n",
    "        self.learner_id =learner_id\n",
    "        self.name=name\n",
    "        self.course=course\n",
    "        self.__age=age"
   ]
  },
  {
   "cell_type": "code",
   "execution_count": 50,
   "id": "8555df5a",
   "metadata": {},
   "outputs": [],
   "source": [
    "praveen_learner=Encapsulation(\"BCT_ME\",\"praveen\",\"DSCT/AI/DA\",29)"
   ]
  },
  {
   "cell_type": "code",
   "execution_count": 51,
   "id": "a19b264f",
   "metadata": {},
   "outputs": [
    {
     "data": {
      "text/plain": [
       "'praveen'"
      ]
     },
     "execution_count": 51,
     "metadata": {},
     "output_type": "execute_result"
    }
   ],
   "source": [
    "praveen_learner.name"
   ]
  },
  {
   "cell_type": "code",
   "execution_count": 52,
   "id": "ffbb992e",
   "metadata": {},
   "outputs": [
    {
     "ename": "AttributeError",
     "evalue": "'Encapsulation' object has no attribute 'age'",
     "output_type": "error",
     "traceback": [
      "\u001b[1;31m---------------------------------------------------------------------------\u001b[0m",
      "\u001b[1;31mAttributeError\u001b[0m                            Traceback (most recent call last)",
      "Cell \u001b[1;32mIn[52], line 1\u001b[0m\n\u001b[1;32m----> 1\u001b[0m praveen_learner\u001b[38;5;241m.\u001b[39mage\n",
      "\u001b[1;31mAttributeError\u001b[0m: 'Encapsulation' object has no attribute 'age'"
     ]
    }
   ],
   "source": [
    "praveen_learner.age"
   ]
  },
  {
   "cell_type": "code",
   "execution_count": 53,
   "id": "7975e773",
   "metadata": {},
   "outputs": [
    {
     "data": {
      "text/plain": [
       "29"
      ]
     },
     "execution_count": 53,
     "metadata": {},
     "output_type": "execute_result"
    }
   ],
   "source": [
    "praveen_learner._Encapsulation__age"
   ]
  },
  {
   "cell_type": "code",
   "execution_count": 54,
   "id": "78de8a81",
   "metadata": {},
   "outputs": [],
   "source": [
    "class Encapsulation1:\n",
    "    def __init__(self,learner_id,name,course,age):\n",
    "        self.learner_id =learner_id\n",
    "        self.name=name\n",
    "        self.course=course\n",
    "        self.__age=age"
   ]
  },
  {
   "cell_type": "code",
   "execution_count": 55,
   "id": "2587b367",
   "metadata": {},
   "outputs": [],
   "source": [
    "pl=Encapsulation1(\"BCT_ME\",\"praveen\",\"DSCT/AI/DA\",29)"
   ]
  },
  {
   "cell_type": "code",
   "execution_count": 56,
   "id": "bcaf9683",
   "metadata": {},
   "outputs": [
    {
     "data": {
      "text/plain": [
       "29"
      ]
     },
     "execution_count": 56,
     "metadata": {},
     "output_type": "execute_result"
    }
   ],
   "source": [
    "pl._Encapsulation1__age"
   ]
  },
  {
   "cell_type": "markdown",
   "id": "1296def3",
   "metadata": {},
   "source": [
    "## Getter,Setter & property"
   ]
  },
  {
   "cell_type": "code",
   "execution_count": 57,
   "id": "7fdbdd0f",
   "metadata": {},
   "outputs": [],
   "source": [
    "class Salary:\n",
    "    \n",
    "    def __init__(self,salary):\n",
    "        self._salary=salary\n",
    "    \n",
    "    def get_salary(self):\n",
    "        return self._salary\n",
    "    \n",
    "    def set_salary(self,new_salary):\n",
    "        if isinstance(new_salary,float) and new_salary>0:\n",
    "            self._salary= new_salary\n",
    "        else:\n",
    "            print(\"Enter valid salary\")"
   ]
  },
  {
   "cell_type": "code",
   "execution_count": 58,
   "id": "aba44950",
   "metadata": {},
   "outputs": [
    {
     "ename": "AttributeError",
     "evalue": "'Salary' object has no attribute 'salary'",
     "output_type": "error",
     "traceback": [
      "\u001b[1;31m---------------------------------------------------------------------------\u001b[0m",
      "\u001b[1;31mAttributeError\u001b[0m                            Traceback (most recent call last)",
      "Cell \u001b[1;32mIn[58], line 2\u001b[0m\n\u001b[0;32m      1\u001b[0m sal \u001b[38;5;241m=\u001b[39m Salary(\u001b[38;5;241m200000\u001b[39m)\n\u001b[1;32m----> 2\u001b[0m sal\u001b[38;5;241m.\u001b[39msalary\n",
      "\u001b[1;31mAttributeError\u001b[0m: 'Salary' object has no attribute 'salary'"
     ]
    }
   ],
   "source": [
    "sal = Salary(200000)\n",
    "sal.salary"
   ]
  },
  {
   "cell_type": "code",
   "execution_count": 59,
   "id": "c206085e",
   "metadata": {},
   "outputs": [
    {
     "data": {
      "text/plain": [
       "200000"
      ]
     },
     "execution_count": 59,
     "metadata": {},
     "output_type": "execute_result"
    }
   ],
   "source": [
    "sal.get_salary()"
   ]
  },
  {
   "cell_type": "code",
   "execution_count": 60,
   "id": "2e411def",
   "metadata": {},
   "outputs": [],
   "source": [
    "sal.set_salary(1900.555)"
   ]
  },
  {
   "cell_type": "code",
   "execution_count": 61,
   "id": "0335d4de",
   "metadata": {},
   "outputs": [
    {
     "data": {
      "text/plain": [
       "1900.555"
      ]
     },
     "execution_count": 61,
     "metadata": {},
     "output_type": "execute_result"
    }
   ],
   "source": [
    "sal.get_salary()"
   ]
  },
  {
   "cell_type": "code",
   "execution_count": 62,
   "id": "a5ea2f05",
   "metadata": {},
   "outputs": [
    {
     "name": "stdout",
     "output_type": "stream",
     "text": [
      "Enter valid salary\n"
     ]
    }
   ],
   "source": [
    "sal.set_salary(0)"
   ]
  },
  {
   "cell_type": "code",
   "execution_count": 64,
   "id": "e8809760",
   "metadata": {},
   "outputs": [
    {
     "data": {
      "text/plain": [
       "1900.555"
      ]
     },
     "execution_count": 64,
     "metadata": {},
     "output_type": "execute_result"
    }
   ],
   "source": [
    "sal.get_salary()"
   ]
  },
  {
   "cell_type": "code",
   "execution_count": 65,
   "id": "b40a8484",
   "metadata": {},
   "outputs": [],
   "source": [
    "sal._salary=34000"
   ]
  },
  {
   "cell_type": "code",
   "execution_count": 67,
   "id": "a16bf756",
   "metadata": {},
   "outputs": [
    {
     "data": {
      "text/plain": [
       "34000"
      ]
     },
     "execution_count": 67,
     "metadata": {},
     "output_type": "execute_result"
    }
   ],
   "source": [
    "sal.get_salary()"
   ]
  },
  {
   "cell_type": "markdown",
   "id": "d6a03bb2",
   "metadata": {},
   "source": [
    "## Decorator\n",
    "A python decorator is a function that takes in a function and returns it by adding some functionality"
   ]
  },
  {
   "cell_type": "code",
   "execution_count": 80,
   "id": "036ca028",
   "metadata": {},
   "outputs": [],
   "source": [
    "class Sal1:\n",
    "    def __init__(self,salary):\n",
    "        self._salary = salary\n",
    "    \n",
    "    @property\n",
    "    def salary(self):\n",
    "        print(\"Executing Gettter\")\n",
    "        return self._salary\n",
    "    \n",
    "    @salary.setter\n",
    "    \n",
    "    def salary(self,new_salary):\n",
    "        print(\"Exceuting Setter\")\n",
    "        if isinstance(new_salary,float) and new_salary>0:\n",
    "            self._salary = new_salary\n",
    "        else:\n",
    "            print(\"Enter Valid Salary\")"
   ]
  },
  {
   "cell_type": "code",
   "execution_count": 81,
   "id": "cea5fce0",
   "metadata": {},
   "outputs": [],
   "source": [
    "kumar = Sal1(2000)"
   ]
  },
  {
   "cell_type": "code",
   "execution_count": 83,
   "id": "e88aaa5b",
   "metadata": {},
   "outputs": [
    {
     "data": {
      "text/plain": [
       "2000"
      ]
     },
     "execution_count": 83,
     "metadata": {},
     "output_type": "execute_result"
    }
   ],
   "source": [
    "kumar._salary"
   ]
  },
  {
   "cell_type": "code",
   "execution_count": 71,
   "id": "72208de4",
   "metadata": {},
   "outputs": [
    {
     "name": "stdout",
     "output_type": "stream",
     "text": [
      "I got decorator\n",
      "I am ordinary\n"
     ]
    }
   ],
   "source": [
    "def make_pretty(func):\n",
    "    # define the inner function\n",
    "    def inner():\n",
    "        # add some additional behavior to decorated function\n",
    "        print(\"I got decorator\")\n",
    "        # call the orginal function\n",
    "        func()\n",
    "    # return the inner function\n",
    "    return inner\n",
    "\n",
    "#define ordinary function\n",
    "def ordinary():\n",
    "    print(\"I am ordinary\")\n",
    "\n",
    "# decorate the ordinary funcion\n",
    "deco_func= make_pretty(ordinary)\n",
    "\n",
    "# call the decorated function\n",
    "deco_func()"
   ]
  },
  {
   "cell_type": "markdown",
   "id": "7b58447a",
   "metadata": {},
   "source": [
    "## Aggregation Vs Composition\n",
    "**Aggregation** : Aggreation is a has a relationship. An instance of class B has an instance of class A but they can exist independently\n",
    "\n",
    "**composition**: A composed object cannot exist without the object that contains it."
   ]
  },
  {
   "cell_type": "code",
   "execution_count": 86,
   "id": "e4423343",
   "metadata": {},
   "outputs": [],
   "source": [
    "class BmiCalc1():\n",
    "    # Class attribute\n",
    "    age = 25\n",
    "    usage_count=1\n",
    "    def __init__(self, weight, height):\n",
    "        self.id = BmiCalc.usage_count\n",
    "        self.weight = weight\n",
    "        self.height = height\n",
    "        \n",
    "        BmiCalc.usage_count +=1\n",
    "        \n",
    "    def bmi(self):\n",
    "        bmi = self.weight / (self.height * self.height)\n",
    "        if bmi < 18.5:\n",
    "            category = \"Underweight\"\n",
    "        elif 18.5 <= bmi < 24.9:\n",
    "            category = \"Normal Weight\"\n",
    "        elif 25 <= bmi < 29.9:\n",
    "            category = \"Overweight\"\n",
    "        else:\n",
    "            category = \"Obese\"\n",
    "    \n",
    "        print(f\"Your BMI is {bmi:.2f}\")\n",
    "        print(f\"You are in the '{category}' category.\")\n",
    "\n",
    "class GymMember:\n",
    "    def __init__(self, name, mbmi):\n",
    "        self.name =name\n",
    "        self.mbmi=mbmi\n",
    "        \n",
    "    def show_bmi(self):\n",
    "        self.mbmi.bmi()"
   ]
  },
  {
   "cell_type": "code",
   "execution_count": 87,
   "id": "64b20e5a",
   "metadata": {},
   "outputs": [],
   "source": [
    "mem_bmi=BmiCalc1(80,1.90)"
   ]
  },
  {
   "cell_type": "code",
   "execution_count": 88,
   "id": "07fc3701",
   "metadata": {},
   "outputs": [],
   "source": [
    "k = GymMember(\"kumar\",mem_bmi)"
   ]
  },
  {
   "cell_type": "code",
   "execution_count": 89,
   "id": "9d264399",
   "metadata": {},
   "outputs": [
    {
     "name": "stdout",
     "output_type": "stream",
     "text": [
      "Your BMI is 22.16\n",
      "You are in the 'Normal Weight' category.\n"
     ]
    }
   ],
   "source": [
    "k.show_bmi()"
   ]
  },
  {
   "cell_type": "code",
   "execution_count": 91,
   "id": "d264eedf",
   "metadata": {},
   "outputs": [
    {
     "name": "stdout",
     "output_type": "stream",
     "text": [
      "Toyota Camry (2022) is starting.\n",
      "Engine started with gasoline fuel.\n",
      "Toyota Camry (2022) is stopping.\n",
      "Engine stopped.\n"
     ]
    }
   ],
   "source": [
    "# Composition\n",
    "class Engine:\n",
    "    def __init__(self, fuel_type):\n",
    "        self.fuel_type = fuel_type\n",
    "\n",
    "    def start(self):\n",
    "        print(f\"Engine started with {self.fuel_type} fuel.\")\n",
    "\n",
    "    def stop(self):\n",
    "        print(\"Engine stopped.\")\n",
    "\n",
    "class Car:\n",
    "    def __init__(self, make, model, year):\n",
    "        self.make = make\n",
    "        self.model = model\n",
    "        self.year = year\n",
    "        self.engine = Engine(\"gasoline\")  # Compose Car with an Engine object\n",
    "\n",
    "    def start(self):\n",
    "        print(f\"{self.make} {self.model} ({self.year}) is starting.\")\n",
    "        self.engine.start()\n",
    "\n",
    "    def stop(self):\n",
    "        print(f\"{self.make} {self.model} ({self.year}) is stopping.\")\n",
    "        self.engine.stop()\n",
    "\n",
    "# Create a Car object\n",
    "my_car = Car(\"Toyota\", \"Camry\", 2022)\n",
    "\n",
    "# Start and stop the car, which in turn starts and stops the engine\n",
    "my_car.start()\n",
    "my_car.stop()\n"
   ]
  },
  {
   "cell_type": "markdown",
   "id": "2853b3ec",
   "metadata": {},
   "source": [
    "## Inheritance"
   ]
  },
  {
   "attachments": {
    "image.png": {
     "image/png": "[encoded data removed]"
    }
   },
   "cell_type": "markdown",
   "id": "92cfa245",
   "metadata": {},
   "source": [
    "### Single Inhertiance\n",
    "![image.png](attachment:image.png)"
   ]
  },
  {
   "cell_type": "code",
   "execution_count": 99,
   "id": "1c7ec484",
   "metadata": {},
   "outputs": [],
   "source": [
    "class BankLoan1():\n",
    "    def __init__(self,salary,emi):\n",
    "        self.salary=salary\n",
    "        self.emi=emi\n",
    "    \n",
    "    def cond(self):\n",
    "        if(self.salary>self.emi):\n",
    "            print(\"loan can be approved\")\n",
    "        else:\n",
    "            print(\"Loan cannot be approved\")\n",
    "    \n",
    "    def margin(self):\n",
    "        if(self.salary>self.emi):\n",
    "            margin = self.salary-self.emi\n",
    "            print(\"margin amount\",margin)\n",
    "        else:\n",
    "            print(\"Loan cannot be approved\")\n",
    "            \n",
    "class AnotherBank(BankLoan1):\n",
    "    # If the subclass has its own init() method, the attributes of the superclass are not inherited automatically\n",
    "    def __init__(self,loan):\n",
    "        self.loan=loan"
   ]
  },
  {
   "cell_type": "code",
   "execution_count": 100,
   "id": "edcf6dea",
   "metadata": {},
   "outputs": [
    {
     "ename": "TypeError",
     "evalue": "AnotherBank.__init__() takes 2 positional arguments but 3 were given",
     "output_type": "error",
     "traceback": [
      "\u001b[1;31m---------------------------------------------------------------------------\u001b[0m",
      "\u001b[1;31mTypeError\u001b[0m                                 Traceback (most recent call last)",
      "Cell \u001b[1;32mIn[100], line 1\u001b[0m\n\u001b[1;32m----> 1\u001b[0m loan \u001b[38;5;241m=\u001b[39m AnotherBank(\u001b[38;5;241m10000\u001b[39m,\u001b[38;5;241m500\u001b[39m)\n",
      "\u001b[1;31mTypeError\u001b[0m: AnotherBank.__init__() takes 2 positional arguments but 3 were given"
     ]
    }
   ],
   "source": [
    "loan = AnotherBank(10000,500)"
   ]
  },
  {
   "cell_type": "code",
   "execution_count": 96,
   "id": "0fcfb909",
   "metadata": {},
   "outputs": [
    {
     "name": "stdout",
     "output_type": "stream",
     "text": [
      "margin amount 9500\n"
     ]
    }
   ],
   "source": [
    "loan.margin()"
   ]
  },
  {
   "cell_type": "code",
   "execution_count": 107,
   "id": "8e322f83",
   "metadata": {},
   "outputs": [],
   "source": [
    "class BankLoan1():\n",
    "    def __init__(self,salary,emi):\n",
    "        self.salary=salary\n",
    "        self.emi=emi\n",
    "    \n",
    "    def cond(self):\n",
    "        if(self.salary>self.emi):\n",
    "            print(\"loan can be approved\")\n",
    "        else:\n",
    "            print(\"Loan cannot be approved\")\n",
    "    \n",
    "    def margin(self):\n",
    "        if(self.salary>self.emi):\n",
    "            margin = self.salary-self.emi\n",
    "            print(\"margin amount\",margin)\n",
    "        else:\n",
    "            print(\"Loan cannot be approved\")\n",
    "            \n",
    "class AnotherBank(BankLoan1):\n",
    "    # If the subclass has its own init() method, the attributes of the superclass are not inherited automatically\n",
    "    def __init__(self,loan,value):\n",
    "        BankLoan1.__init__(self,loan,value)\n",
    "        self.loan=loan\n",
    "        self.value=value"
   ]
  },
  {
   "cell_type": "code",
   "execution_count": 108,
   "id": "cd310ae9",
   "metadata": {},
   "outputs": [],
   "source": [
    "loana = AnotherBank(10000,500)"
   ]
  },
  {
   "cell_type": "code",
   "execution_count": 109,
   "id": "54bdc809",
   "metadata": {},
   "outputs": [
    {
     "data": {
      "text/plain": [
       "10000"
      ]
     },
     "execution_count": 109,
     "metadata": {},
     "output_type": "execute_result"
    }
   ],
   "source": [
    "loana.loan"
   ]
  },
  {
   "cell_type": "code",
   "execution_count": 110,
   "id": "b76f122c",
   "metadata": {},
   "outputs": [
    {
     "data": {
      "text/plain": [
       "500"
      ]
     },
     "execution_count": 110,
     "metadata": {},
     "output_type": "execute_result"
    }
   ],
   "source": [
    "loana.value"
   ]
  },
  {
   "cell_type": "code",
   "execution_count": 111,
   "id": "2a84d589",
   "metadata": {},
   "outputs": [],
   "source": [
    "loana = AnotherBank(10000,500)"
   ]
  },
  {
   "cell_type": "code",
   "execution_count": 118,
   "id": "c257b040",
   "metadata": {},
   "outputs": [],
   "source": [
    "class BankLoan1():\n",
    "    def __init__(self,salary,emi):\n",
    "        self.salary=salary\n",
    "        self.emi=emi\n",
    "    \n",
    "    def cond(self):\n",
    "        if(self.salary>self.emi):\n",
    "            print(\"loan can be approved\")\n",
    "        else:\n",
    "            print(\"Loan cannot be approved\")\n",
    "    \n",
    "    def margin(self):\n",
    "        if(self.salary>self.emi):\n",
    "            margin = self.salary-self.emi\n",
    "            print(\"margin amount\",margin)\n",
    "        else:\n",
    "            print(\"Loan cannot be approved\")\n",
    "            \n",
    "class AnotherBank(BankLoan1):\n",
    "    # If the subclass has its own init() method, the attributes of the superclass are not inherited automatically\n",
    "    def __init__(self,loan,value,salary,emi):\n",
    "        super().__init__(salary,emi)\n",
    "        self.loan=loan\n",
    "        self.value=value"
   ]
  },
  {
   "cell_type": "code",
   "execution_count": 119,
   "id": "ba313d93",
   "metadata": {},
   "outputs": [],
   "source": [
    "loana = AnotherBank(10000,500,10000,500)"
   ]
  },
  {
   "cell_type": "code",
   "execution_count": 120,
   "id": "58c12966",
   "metadata": {},
   "outputs": [
    {
     "name": "stdout",
     "output_type": "stream",
     "text": [
      "margin amount 9500\n"
     ]
    }
   ],
   "source": [
    "loana.margin()"
   ]
  },
  {
   "attachments": {
    "image-2.png": {
     "image/png": "[encoded data removed]"
    }
   },
   "cell_type": "markdown",
   "id": "58fac3cf",
   "metadata": {},
   "source": [
    "### Multiple Inhertiance\n",
    "![image-2.png](attachment:image-2.png)"
   ]
  },
  {
   "cell_type": "code",
   "execution_count": 123,
   "id": "51cb9e54",
   "metadata": {},
   "outputs": [
    {
     "name": "stdout",
     "output_type": "stream",
     "text": [
      "Polly the parrot says: Squawk!\n",
      "Polly the parrot is flying.\n"
     ]
    }
   ],
   "source": [
    "# Parent class 1\n",
    "class Animal:\n",
    "    def __init__(self, name):\n",
    "        self.name = name\n",
    "\n",
    "    def speak(self):\n",
    "        pass\n",
    "\n",
    "# Parent class 2\n",
    "class Bird:\n",
    "    def __init__(self, species):\n",
    "        self.species = species\n",
    "\n",
    "    def fly(self):\n",
    "        pass\n",
    "\n",
    "# Child class inheriting from both Animal and Bird\n",
    "class Parrot(Animal, Bird):\n",
    "    def __init__(self, name, species):\n",
    "        # Call the constructors of both parent classes\n",
    "        Animal.__init__(self, name)\n",
    "        Bird.__init__(self, species)\n",
    "\n",
    "    def speak(self):\n",
    "        return f\"{self.name} the parrot says: Squawk!\"\n",
    "\n",
    "    def fly(self):\n",
    "        return f\"{self.name} the parrot is flying.\"\n",
    "\n",
    "# Creating an instance of the Parrot class\n",
    "my_parrot = Parrot(\"Polly\", \"Ara\")\n",
    "\n",
    "# Calling methods from both parent classes\n",
    "print(my_parrot.speak())\n",
    "print(my_parrot.fly())\n"
   ]
  },
  {
   "attachments": {
    "image.png": {
     "image/png": "[encoded data removed]"
    }
   },
   "cell_type": "markdown",
   "id": "5465f181",
   "metadata": {},
   "source": [
    "### Multi-level Inhertiance\n",
    "![image.png](attachment:image.png)"
   ]
  },
  {
   "cell_type": "code",
   "execution_count": 124,
   "id": "35a4e152",
   "metadata": {},
   "outputs": [
    {
     "name": "stdout",
     "output_type": "stream",
     "text": [
      "Polly the Ara says: Squawk!\n",
      "Polly the Ara is flying.\n"
     ]
    }
   ],
   "source": [
    "# Parent class\n",
    "class Animal:\n",
    "    def __init__(self, name):\n",
    "        self.name = name\n",
    "\n",
    "    def speak(self):\n",
    "        pass\n",
    "\n",
    "# Child class inheriting from Animal\n",
    "class Bird(Animal):\n",
    "    def __init__(self, name, species):\n",
    "        super().__init__(name)\n",
    "        self.species = species\n",
    "\n",
    "    def fly(self):\n",
    "        return f\"{self.name} the {self.species} is flying.\"\n",
    "\n",
    "# Grandchild class inheriting from Bird\n",
    "class Parrot(Bird):\n",
    "    def speak(self):\n",
    "        return f\"{self.name} the {self.species} says: Squawk!\"\n",
    "\n",
    "# Creating an instance of the Parrot class\n",
    "my_parrot = Parrot(\"Polly\", \"Ara\")\n",
    "\n",
    "# Calling methods from both parent and grandparent classes\n",
    "print(my_parrot.speak())\n",
    "print(my_parrot.fly())\n"
   ]
  },
  {
   "attachments": {
    "image.png": {
     "image/png": "[encoded data removed]"
    }
   },
   "cell_type": "markdown",
   "id": "1d4bee7c",
   "metadata": {},
   "source": [
    "### Hierarchical Inheritance\n",
    "![image.png](attachment:image.png)"
   ]
  },
  {
   "cell_type": "code",
   "execution_count": 125,
   "id": "7e091b9f",
   "metadata": {},
   "outputs": [
    {
     "name": "stdout",
     "output_type": "stream",
     "text": [
      "Buddy the dog says: Woof!\n",
      "Whiskers the cat says: Meow!\n"
     ]
    }
   ],
   "source": [
    "# Parent class\n",
    "class Animal:\n",
    "    def __init__(self, name):\n",
    "        self.name = name\n",
    "\n",
    "    def speak(self):\n",
    "        pass\n",
    "\n",
    "# Child class 1 inheriting from Animal\n",
    "class Dog(Animal):\n",
    "    def speak(self):\n",
    "        return f\"{self.name} the dog says: Woof!\"\n",
    "\n",
    "# Child class 2 inheriting from Animal\n",
    "class Cat(Animal):\n",
    "    def speak(self):\n",
    "        return f\"{self.name} the cat says: Meow!\"\n",
    "\n",
    "# Creating instances of the child classes\n",
    "my_dog = Dog(\"Buddy\")\n",
    "my_cat = Cat(\"Whiskers\")\n",
    "\n",
    "# Calling the speak method on each instance\n",
    "print(my_dog.speak())  # Output: Buddy the dog says: Woof!\n",
    "print(my_cat.speak())  # Output: Whiskers the cat says: Meow!\n"
   ]
  },
  {
   "attachments": {
    "image.png": {
     "image/png": "[encoded data removed]"
    }
   },
   "cell_type": "markdown",
   "id": "2f0c29c2",
   "metadata": {},
   "source": [
    "### Hybrid Inheritance\n",
    "![image.png](attachment:image.png)"
   ]
  },
  {
   "cell_type": "code",
   "execution_count": 126,
   "id": "343262a4",
   "metadata": {},
   "outputs": [
    {
     "name": "stdout",
     "output_type": "stream",
     "text": [
      "Polly the parrot says: Squawk!\n",
      "Polly the bird is flying.\n",
      "Buddy the dog says: Woof!\n"
     ]
    }
   ],
   "source": [
    "# Parent class\n",
    "class Animal:\n",
    "    def __init__(self, name):\n",
    "        self.name = name\n",
    "\n",
    "    def speak(self):\n",
    "        pass\n",
    "\n",
    "# Child class 1 inheriting from Animal\n",
    "class Bird(Animal):\n",
    "    def speak(self):\n",
    "        return f\"{self.name} the bird says: Chirp!\"\n",
    "\n",
    "    def fly(self):\n",
    "        return f\"{self.name} the bird is flying.\"\n",
    "\n",
    "# Child class 2 inheriting from Animal\n",
    "class Dog(Animal):\n",
    "    def speak(self):\n",
    "        return f\"{self.name} the dog says: Woof!\"\n",
    "\n",
    "# Child class inheriting from both Bird and Dog\n",
    "class Parrot(Bird, Dog):\n",
    "    def speak(self):\n",
    "        return f\"{self.name} the parrot says: Squawk!\"\n",
    "\n",
    "# Creating instances of the classes\n",
    "my_parrot = Parrot(\"Polly\")\n",
    "my_dog = Dog(\"Buddy\")\n",
    "\n",
    "# Calling the speak and fly methods\n",
    "print(my_parrot.speak())  # Output: Polly the parrot says: Squawk!\n",
    "print(my_parrot.fly())    # Output: Polly the bird is flying.\n",
    "print(my_dog.speak())     # Output: Buddy the dog says: Woof!\n"
   ]
  },
  {
   "cell_type": "markdown",
   "id": "88a07808",
   "metadata": {},
   "source": [
    "## Polymorphism\n",
    "- Polymorphism in Python is implemented through method overriding, which is a key feature of object-oriented programming.\n",
    "- It allows objects of different classes to be treated as objects of a common base class and provides a way to implement the same method in different classes. \n",
    "- Polymorphism in Python is achieved when a subclass defines a method with the same name as a method in its parent class, effectively overriding the parent class's method."
   ]
  },
  {
   "cell_type": "code",
   "execution_count": 131,
   "id": "7d46b03f",
   "metadata": {},
   "outputs": [
    {
     "name": "stdout",
     "output_type": "stream",
     "text": [
      "Animal speaks\n",
      "Dog barks\n",
      "Cat meows\n"
     ]
    }
   ],
   "source": [
    "class Animal:\n",
    "    def speak(self):\n",
    "        print(\"Animal speaks\")\n",
    "\n",
    "class Dog(Animal):\n",
    "    def speak(self):\n",
    "        print(\"Dog barks\")\n",
    "\n",
    "class Cat(Animal):\n",
    "    def speak(self):\n",
    "        print(\"Cat meows\")\n",
    "\n",
    "# Creating instances of different classes\n",
    "animal = Animal()\n",
    "dog = Dog()\n",
    "cat = Cat()\n",
    "\n",
    "# Using polymorphism to call the speak method on different objects\n",
    "animal.speak()  # Output: Animal speaks\n",
    "dog.speak()     # Output: Dog barks\n",
    "cat.speak()     # Output: Cat meows\n"
   ]
  },
  {
   "cell_type": "markdown",
   "id": "7c565d1a",
   "metadata": {},
   "source": [
    "## Method Overriding\n",
    "\n",
    "- Method overriding is a concept in object-oriented programming that allows a subclass to provide a specific implementation of a method that is already defined in its parent class. \n",
    "- When a subclass defines a method with the same name and parameters as a method in its parent class, the method in the subclass overrides or replaces the method in the parent class.\n",
    "- This allows the subclass to provide its own behavior for that method while inheriting the rest of the parent class's attributes and methods."
   ]
  },
  {
   "cell_type": "code",
   "execution_count": 128,
   "id": "38b13cdb",
   "metadata": {},
   "outputs": [
    {
     "name": "stdout",
     "output_type": "stream",
     "text": [
      "Dog barks\n",
      "Cat meows\n"
     ]
    }
   ],
   "source": [
    "# Parent class\n",
    "class Animal:\n",
    "    def speak(self):\n",
    "        print(\"Animal speaks\")\n",
    "\n",
    "# Child class inheriting from Animal\n",
    "class Dog(Animal):\n",
    "    def speak(self):\n",
    "        print(\"Dog barks\")\n",
    "\n",
    "# Child class inheriting from Animal\n",
    "class Cat(Animal):\n",
    "    def speak(self):\n",
    "        print(\"Cat meows\")\n",
    "\n",
    "# Creating instances of the child classes\n",
    "my_dog = Dog()\n",
    "my_cat = Cat()\n",
    "\n",
    "# Calling the speak method on each instance\n",
    "my_dog.speak()  # Output: Dog barks\n",
    "my_cat.speak()  # Output: Cat meows\n"
   ]
  },
  {
   "cell_type": "markdown",
   "id": "75be4fa8",
   "metadata": {},
   "source": [
    "## Method Overloading\n",
    "\n",
    "- Method overloading is a concept in some programming languages (such as Java and C++) that allows a class to have multiple methods with the same name but different parameter lists. \n",
    "- The method that gets called at runtime depends on the number or types of arguments passed when the method is invoked. \n",
    "- However, it's important to note that method overloading is not directly supported in Python, at least not in the same way as in languages like Java or C++.\n",
    "- In Python, you can't define multiple methods with the same name differing only in the number or types of parameters. If you attempt to do so, the last method definition will override any previous definitions with the same name."
   ]
  },
  {
   "cell_type": "code",
   "execution_count": 130,
   "id": "1c9bc134",
   "metadata": {},
   "outputs": [
    {
     "name": "stdout",
     "output_type": "stream",
     "text": [
      "5\n",
      "5\n"
     ]
    }
   ],
   "source": [
    "class Calculator:\n",
    "    def add(self, a, b=0):\n",
    "        return a + b\n",
    "\n",
    "# Create an instance of the Calculator class\n",
    "calc = Calculator()\n",
    "\n",
    "# Call the add method with different numbers of arguments\n",
    "result1 = calc.add(5)\n",
    "result2 = calc.add(2, 3)\n",
    "\n",
    "print(result1)  # Output: 5 (default value is used for 'b')\n",
    "print(result2)  # Output: 5 (both 'a' and 'b' values are provided)\n"
   ]
  },
  {
   "cell_type": "code",
   "execution_count": null,
   "id": "6b9608f3",
   "metadata": {},
   "outputs": [],
   "source": []
  }
 ],
 "metadata": {
  "kernelspec": {
   "display_name": "Python 3 (ipykernel)",
   "language": "python",
   "name": "python3"
  },
  "language_info": {
   "codemirror_mode": {
    "name": "ipython",
    "version": 3
   },
   "file_extension": ".py",
   "mimetype": "text/x-python",
   "name": "python",
   "nbconvert_exporter": "python",
   "pygments_lexer": "ipython3",
   "version": "3.11.5"
  },
  "toc": {
   "base_numbering": 1,
   "nav_menu": {},
   "number_sections": true,
   "sideBar": true,
   "skip_h1_title": false,
   "title_cell": "Table of Contents",
   "title_sidebar": "Contents",
   "toc_cell": false,
   "toc_position": {
    "height": "calc(100% - 180px)",
    "left": "10px",
    "top": "150px",
    "width": "291px"
   },
   "toc_section_display": true,
   "toc_window_display": true
  }
 },
 "nbformat": 4,
 "nbformat_minor": 5
}

{
 "cells": [
  {
   "cell_type": "code",
   "execution_count": 1,
   "id": "a3cb5732",
   "metadata": {},
   "outputs": [],
   "source": [
    "import re"
   ]
  },
  {
   "cell_type": "code",
   "execution_count": 6,
   "id": "fb7a3a09",
   "metadata": {},
   "outputs": [],
   "source": [
    "text =  \"The purple elephant danced gracefully under the neon moonlig1ht.\""
   ]
  },
  {
   "cell_type": "code",
   "execution_count": 7,
   "id": "7ad6807e",
   "metadata": {},
   "outputs": [
    {
     "data": {
      "text/plain": [
       "'The0purple0elephant0danced0gracefully0under0the0neon0moonlig1ht.'"
      ]
     },
     "execution_count": 7,
     "metadata": {},
     "output_type": "execute_result"
    }
   ],
   "source": [
    "# \\s represent whitespace\n",
    "re.sub(\"\\s\",\"0\",text)"
   ]
  },
  {
   "cell_type": "code",
   "execution_count": 8,
   "id": "3e850781",
   "metadata": {},
   "outputs": [
    {
     "data": {
      "text/plain": [
       "'000 000000 00000000 000000 0000000000 00000 000 0000 00000000000'"
      ]
     },
     "execution_count": 8,
     "metadata": {},
     "output_type": "execute_result"
    }
   ],
   "source": [
    "# \\S represent text\n",
    "re.sub(\"\\S\",\"0\",text)"
   ]
  },
  {
   "cell_type": "code",
   "execution_count": 9,
   "id": "c3c0e6b2",
   "metadata": {},
   "outputs": [
    {
     "data": {
      "text/plain": [
       "'The purple elephant danced gracefully under the neon moonlig0ht.'"
      ]
     },
     "execution_count": 9,
     "metadata": {},
     "output_type": "execute_result"
    }
   ],
   "source": [
    "# no to zero\n",
    "re.sub(\"\\d\",\"0\",text)"
   ]
  },
  {
   "cell_type": "code",
   "execution_count": 10,
   "id": "f80eb865",
   "metadata": {},
   "outputs": [
    {
     "data": {
      "text/plain": [
       "'0000000000000000000000000000000000000000000000000000000000001000'"
      ]
     },
     "execution_count": 10,
     "metadata": {},
     "output_type": "execute_result"
    }
   ],
   "source": [
    "# others to zero\n",
    "re.sub(\"\\D\",\"0\",text)"
   ]
  },
  {
   "cell_type": "code",
   "execution_count": 11,
   "id": "00d5d541",
   "metadata": {},
   "outputs": [
    {
     "data": {
      "text/plain": [
       "['The',\n",
       " 'purple',\n",
       " 'elephant',\n",
       " 'danced',\n",
       " 'gracefully',\n",
       " 'under',\n",
       " 'the',\n",
       " 'neon',\n",
       " 'moonlig1ht.']"
      ]
     },
     "execution_count": 11,
     "metadata": {},
     "output_type": "execute_result"
    }
   ],
   "source": [
    "#Tokenization \n",
    "re.split(\"\\s\",text)"
   ]
  },
  {
   "cell_type": "code",
   "execution_count": null,
   "id": "7ab3f7ba",
   "metadata": {},
   "outputs": [],
   "source": []
  }
 ],
 "metadata": {
  "kernelspec": {
   "display_name": "Python 3 (ipykernel)",
   "language": "python",
   "name": "python3"
  },
  "language_info": {
   "codemirror_mode": {
    "name": "ipython",
    "version": 3
   },
   "file_extension": ".py",
   "mimetype": "text/x-python",
   "name": "python",
   "nbconvert_exporter": "python",
   "pygments_lexer": "ipython3",
   "version": "3.11.5"
  }
 },
 "nbformat": 4,
 "nbformat_minor": 5
}

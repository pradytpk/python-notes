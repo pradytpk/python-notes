{
 "cells": [
  {
   "cell_type": "code",
   "execution_count": 1,
   "id": "3f692ff4",
   "metadata": {},
   "outputs": [
    {
     "name": "stdout",
     "output_type": "stream",
     "text": [
      "list append error  list.append() takes exactly one argument (2 given)\n"
     ]
    }
   ],
   "source": [
    "li = [1,2,3,4]\n",
    "try:\n",
    "    print(li.append(1,2))\n",
    "except Exception as ex:\n",
    "    print(\"list append error \",ex)"
   ]
  },
  {
   "cell_type": "code",
   "execution_count": 8,
   "id": "8b55f450",
   "metadata": {},
   "outputs": [
    {
     "name": "stdout",
     "output_type": "stream",
     "text": [
      "list append error list.append() takes exactly one argument (2 given)\n",
      "Instead of append let use extend None\n",
      "[1, 2, 3, 4, 1, 2]\n"
     ]
    }
   ],
   "source": [
    "li = [1,2,3,4]\n",
    "try:\n",
    "    print(li.append(1,2))\n",
    "except Exception as ex:\n",
    "    print(\"list append error\", ex)\n",
    "    print(\"Instead of append let use extend\", li.extend([1,2]))\n",
    "    print(li)"
   ]
  },
  {
   "cell_type": "code",
   "execution_count": null,
   "id": "94823a4c",
   "metadata": {},
   "outputs": [],
   "source": []
  }
 ],
 "metadata": {
  "kernelspec": {
   "display_name": "Python 3 (ipykernel)",
   "language": "python",
   "name": "python3"
  },
  "language_info": {
   "codemirror_mode": {
    "name": "ipython",
    "version": 3
   },
   "file_extension": ".py",
   "mimetype": "text/x-python",
   "name": "python",
   "nbconvert_exporter": "python",
   "pygments_lexer": "ipython3",
   "version": "3.11.5"
  }
 },
 "nbformat": 4,
 "nbformat_minor": 5
}
